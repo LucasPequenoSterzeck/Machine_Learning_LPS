{
  "nbformat": 4,
  "nbformat_minor": 0,
  "metadata": {
    "colab": {
      "provenance": [],
      "collapsed_sections": [
        "EBpxUaYjjwV_",
        "NfJ8IifJmxKn",
        "Za2Cg6s1m41P"
      ],
      "authorship_tag": "ABX9TyMGuENaHkYH63UWZSsMun4r",
      "include_colab_link": true
    },
    "kernelspec": {
      "name": "python3",
      "display_name": "Python 3"
    },
    "language_info": {
      "name": "python"
    }
  },
  "cells": [
    {
      "cell_type": "markdown",
      "metadata": {
        "id": "view-in-github",
        "colab_type": "text"
      },
      "source": [
        "<a href=\"https://colab.research.google.com/github/LucasPequenoSterzeck/Machine_Learning_LPS/blob/main/Linear_Regresson_on_EUR_USD.ipynb\" target=\"_parent\"><img src=\"https://colab.research.google.com/assets/colab-badge.svg\" alt=\"Open In Colab\"/></a>"
      ]
    },
    {
      "cell_type": "markdown",
      "source": [
        "# Análise preditiva utilizando ML com Regressão Linear para pever oscilações no par EUR/USD\n",
        "\n",
        "<img src='https://external-content.duckduckgo.com/iu/?u=https%3A%2F%2Fimage.freepik.com%2Ffree-vector%2Fstock-market-forex-trading-graph-graphic-concept_73426-94.jpg&f=1&nofb=1&ipt=cd40318cc1b9cf698d60c3dd51ac5b863ad37b7e60f0ea54bec11d106e55e05d&ipo=images' width='300'>\n",
        "\n",
        "## Breve introdução:\n",
        "\n",
        "> **O que é EUR/USD:** Abreviação para a taxa de câmbio entre o Euro e o Dólar Americano. Isso significa quantos dólares americanos você pode comprar com um euro. Por exemplo, se a taxa de câmbio EUR/USD é de 1,20, isso significa que 1 euro equivale a 1,20 dólares americanos. Esta taxa é usada como uma medida da relação entre as duas moedas e é amplamente utilizada como uma referência para o comércio e investimento.\n",
        "\n",
        "> **O que é Machine Learning (ML):** Machine Learning é um campo da inteligência artificial que dá aos computadores a capacidade de aprender sem serem explicitamente programados. Ele se baseia em algoritmos e estatísticas para permitir que os computadores aprendam com dados, e melhorem suas habilidades a medida que adquirem novos dados. \n",
        "\n",
        "> **O que é Regressão Linear:** Método estatístico que é usado para estabelecer a relação entre uma variável dependente e uma ou mais variáveis independentes. É um tipo de análise de regressão que é usado para prever o valor de uma variável dependente (também chamada de variável alvo) com base em um conjunto de variáveis independentes. A regressão linear é baseada na hipótese de que existe uma relação linear entre as variáveis. Ele é representado por uma equação da reta, onde a inclinação é a chamada de coeficiente de regressão e a intercepção é a chamada constante. A regressão linear é amplamente utilizada em diversas áreas como economia, finanças, medicina, psicologia, entre outras.\n",
        "\n"
      ],
      "metadata": {
        "id": "v2Bk1cY9fShY"
      }
    },
    {
      "cell_type": "markdown",
      "source": [
        "# Sobre esse estudo:\n",
        "\n",
        "<img src='https://github.com/LucasPequenoSterzeck/Machine_Learning_LPS/blob/1cd2810067c045a3bd8faf4ae2783bba6b0508fb/Regressao_Linear_EUR_USD/Atencao_Rotulo.png?raw=true' width='250'>\n",
        "\n",
        "Esse estudo é destinado somente a exploração do modelo de Regressão Linear frente a dados históricos do par EUR/USD. Reforço que se trata explicitamente de um estudo (E em minha opinião um divertido experimento), **ou seja, não se trata de nenhuma recomendação ou indicação.**"
      ],
      "metadata": {
        "id": "xY9BCFUOgr3I"
      }
    },
    {
      "cell_type": "markdown",
      "source": [
        "# Sumário\n",
        "\n",
        "As etapas gerais que envolvem uma análise de regressão linear com Python incluem:\n",
        "\n",
        "> **1º Coleta de dados:** Recolher e preparar o conjunto de dados que será usado para a análise. Isso pode incluir a limpeza de dados, o tratamento de valores ausentes e a normalização de variáveis.\n",
        "\n",
        "> **2º Análise exploratória de dados:** Utilizando ferramentas como gráficos e tabelas para entender a distribuição e relações entre as variáveis no conjunto de dados.\n",
        "\n",
        "> **3º Seleção de características:** Escolha as variáveis independentes (características) que serão usadas na modelagem.\n",
        "\n",
        "> **4º Treinamento do modelo:** Utilizando a biblioteca de machine learning do Python, como scikit-learn, para treinar o modelo de regressão linear com o conjunto de dados de treinamento.\n",
        "\n",
        "> **5º Validação do modelo:** Utilizando métricas de avaliação, como o erro quadrático médio (MSE) ou o coeficiente de determinação (R²), para avaliar a precisão do modelo e verificar se ele generaliza bem para dados desconhecidos.\n",
        "\n",
        "> **6º Interpretação dos resultados:** Interpretando os coeficientes de regressão e sua significância estatística, e utilizando os resultados para fazer previsões e tomar decisões.\n",
        "\n",
        "> **7º Implementação:** Utilizando o modelo treinado para fazer previsões em novos conjuntos de dados."
      ],
      "metadata": {
        "id": "xYgNO3S0fr3o"
      }
    },
    {
      "cell_type": "markdown",
      "source": [
        "# 1º Passo - Coleta de dados\n",
        "\n",
        "Para nossa coleta de dados iremos utilizar uma base de dados histórica EUR/USD que poderá ser extraída diretamente pelo site [myfxbook](https://www.myfxbook.com/forex-market/currencies/EURUSD-historical-data).\n",
        "\n",
        "Eu já deixei uma base de Jan/22 até 13/Fev/23 salva em meu github, [você pode baixá-lo nesse link se quiser.](https://raw.githubusercontent.com/LucasPequenoSterzeck/Machine_Learning_LPS/main/Regressao_Linear_EUR_USD/LR_EUR_USD.csv)"
      ],
      "metadata": {
        "id": "EBpxUaYjjwV_"
      }
    },
    {
      "cell_type": "code",
      "source": [
        "# Importdando bibliotecas para dados\n",
        "import pandas as pd\n",
        "\n",
        "# Importando dados (Usamos header=1 devido ao cabeçalho estava na segunda linha)\n",
        "df = pd.read_csv(r'https://raw.githubusercontent.com/LucasPequenoSterzeck/Machine_Learning_LPS/main/Regressao_Linear_EUR_USD/LR_EUR_USD.csv', header=1, index_col=False)\n",
        "\n",
        "# Visualizando dados\n",
        "df"
      ],
      "metadata": {
        "colab": {
          "base_uri": "https://localhost:8080/",
          "height": 0
        },
        "id": "5tTAQUhOkAsf",
        "outputId": "5882ac55-2c92-4589-b56f-88c855fae0c7"
      },
      "execution_count": 2,
      "outputs": [
        {
          "output_type": "execute_result",
          "data": {
            "text/plain": [
              "                 Date     Open     High      Low    Close  Change(Pips)  \\\n",
              "0    01/13/2023 00:00  1.08442  1.08681  1.07803  1.08321         -12.1   \n",
              "1    01/12/2023 00:00  1.07538  1.08667  1.07293  1.08506          96.8   \n",
              "2    01/11/2023 00:00  1.07324  1.07765  1.07256  1.07564          24.0   \n",
              "3    01/10/2023 00:00  1.07282  1.07595  1.07122  1.07342           6.0   \n",
              "4    01/09/2023 00:00  1.06387  1.07607  1.06371  1.07327          94.0   \n",
              "..                ...      ...      ...      ...      ...           ...   \n",
              "264  01/07/2022 00:00  1.12950  1.13646  1.12898  1.13592          64.2   \n",
              "265  01/06/2022 00:00  1.13109  1.13318  1.12847  1.12982         -12.7   \n",
              "266  01/05/2022 00:00  1.12841  1.13465  1.12771  1.13125          28.4   \n",
              "267  01/04/2022 00:00  1.12952  1.13226  1.12724  1.12878          -7.4   \n",
              "268  01/03/2022 00:00  1.13648  1.13786  1.12796  1.12974         -67.4   \n",
              "\n",
              "     Change(%)  \n",
              "0        -0.11  \n",
              "1         0.89  \n",
              "2         0.22  \n",
              "3         0.06  \n",
              "4         0.88  \n",
              "..         ...  \n",
              "264       0.57  \n",
              "265      -0.11  \n",
              "266       0.25  \n",
              "267      -0.07  \n",
              "268      -0.60  \n",
              "\n",
              "[269 rows x 7 columns]"
            ],
            "text/html": [
              "\n",
              "  <div id=\"df-7097653d-97de-46d0-986b-5d3bf4dd64ab\">\n",
              "    <div class=\"colab-df-container\">\n",
              "      <div>\n",
              "<style scoped>\n",
              "    .dataframe tbody tr th:only-of-type {\n",
              "        vertical-align: middle;\n",
              "    }\n",
              "\n",
              "    .dataframe tbody tr th {\n",
              "        vertical-align: top;\n",
              "    }\n",
              "\n",
              "    .dataframe thead th {\n",
              "        text-align: right;\n",
              "    }\n",
              "</style>\n",
              "<table border=\"1\" class=\"dataframe\">\n",
              "  <thead>\n",
              "    <tr style=\"text-align: right;\">\n",
              "      <th></th>\n",
              "      <th>Date</th>\n",
              "      <th>Open</th>\n",
              "      <th>High</th>\n",
              "      <th>Low</th>\n",
              "      <th>Close</th>\n",
              "      <th>Change(Pips)</th>\n",
              "      <th>Change(%)</th>\n",
              "    </tr>\n",
              "  </thead>\n",
              "  <tbody>\n",
              "    <tr>\n",
              "      <th>0</th>\n",
              "      <td>01/13/2023 00:00</td>\n",
              "      <td>1.08442</td>\n",
              "      <td>1.08681</td>\n",
              "      <td>1.07803</td>\n",
              "      <td>1.08321</td>\n",
              "      <td>-12.1</td>\n",
              "      <td>-0.11</td>\n",
              "    </tr>\n",
              "    <tr>\n",
              "      <th>1</th>\n",
              "      <td>01/12/2023 00:00</td>\n",
              "      <td>1.07538</td>\n",
              "      <td>1.08667</td>\n",
              "      <td>1.07293</td>\n",
              "      <td>1.08506</td>\n",
              "      <td>96.8</td>\n",
              "      <td>0.89</td>\n",
              "    </tr>\n",
              "    <tr>\n",
              "      <th>2</th>\n",
              "      <td>01/11/2023 00:00</td>\n",
              "      <td>1.07324</td>\n",
              "      <td>1.07765</td>\n",
              "      <td>1.07256</td>\n",
              "      <td>1.07564</td>\n",
              "      <td>24.0</td>\n",
              "      <td>0.22</td>\n",
              "    </tr>\n",
              "    <tr>\n",
              "      <th>3</th>\n",
              "      <td>01/10/2023 00:00</td>\n",
              "      <td>1.07282</td>\n",
              "      <td>1.07595</td>\n",
              "      <td>1.07122</td>\n",
              "      <td>1.07342</td>\n",
              "      <td>6.0</td>\n",
              "      <td>0.06</td>\n",
              "    </tr>\n",
              "    <tr>\n",
              "      <th>4</th>\n",
              "      <td>01/09/2023 00:00</td>\n",
              "      <td>1.06387</td>\n",
              "      <td>1.07607</td>\n",
              "      <td>1.06371</td>\n",
              "      <td>1.07327</td>\n",
              "      <td>94.0</td>\n",
              "      <td>0.88</td>\n",
              "    </tr>\n",
              "    <tr>\n",
              "      <th>...</th>\n",
              "      <td>...</td>\n",
              "      <td>...</td>\n",
              "      <td>...</td>\n",
              "      <td>...</td>\n",
              "      <td>...</td>\n",
              "      <td>...</td>\n",
              "      <td>...</td>\n",
              "    </tr>\n",
              "    <tr>\n",
              "      <th>264</th>\n",
              "      <td>01/07/2022 00:00</td>\n",
              "      <td>1.12950</td>\n",
              "      <td>1.13646</td>\n",
              "      <td>1.12898</td>\n",
              "      <td>1.13592</td>\n",
              "      <td>64.2</td>\n",
              "      <td>0.57</td>\n",
              "    </tr>\n",
              "    <tr>\n",
              "      <th>265</th>\n",
              "      <td>01/06/2022 00:00</td>\n",
              "      <td>1.13109</td>\n",
              "      <td>1.13318</td>\n",
              "      <td>1.12847</td>\n",
              "      <td>1.12982</td>\n",
              "      <td>-12.7</td>\n",
              "      <td>-0.11</td>\n",
              "    </tr>\n",
              "    <tr>\n",
              "      <th>266</th>\n",
              "      <td>01/05/2022 00:00</td>\n",
              "      <td>1.12841</td>\n",
              "      <td>1.13465</td>\n",
              "      <td>1.12771</td>\n",
              "      <td>1.13125</td>\n",
              "      <td>28.4</td>\n",
              "      <td>0.25</td>\n",
              "    </tr>\n",
              "    <tr>\n",
              "      <th>267</th>\n",
              "      <td>01/04/2022 00:00</td>\n",
              "      <td>1.12952</td>\n",
              "      <td>1.13226</td>\n",
              "      <td>1.12724</td>\n",
              "      <td>1.12878</td>\n",
              "      <td>-7.4</td>\n",
              "      <td>-0.07</td>\n",
              "    </tr>\n",
              "    <tr>\n",
              "      <th>268</th>\n",
              "      <td>01/03/2022 00:00</td>\n",
              "      <td>1.13648</td>\n",
              "      <td>1.13786</td>\n",
              "      <td>1.12796</td>\n",
              "      <td>1.12974</td>\n",
              "      <td>-67.4</td>\n",
              "      <td>-0.60</td>\n",
              "    </tr>\n",
              "  </tbody>\n",
              "</table>\n",
              "<p>269 rows × 7 columns</p>\n",
              "</div>\n",
              "      <button class=\"colab-df-convert\" onclick=\"convertToInteractive('df-7097653d-97de-46d0-986b-5d3bf4dd64ab')\"\n",
              "              title=\"Convert this dataframe to an interactive table.\"\n",
              "              style=\"display:none;\">\n",
              "        \n",
              "  <svg xmlns=\"http://www.w3.org/2000/svg\" height=\"24px\"viewBox=\"0 0 24 24\"\n",
              "       width=\"24px\">\n",
              "    <path d=\"M0 0h24v24H0V0z\" fill=\"none\"/>\n",
              "    <path d=\"M18.56 5.44l.94 2.06.94-2.06 2.06-.94-2.06-.94-.94-2.06-.94 2.06-2.06.94zm-11 1L8.5 8.5l.94-2.06 2.06-.94-2.06-.94L8.5 2.5l-.94 2.06-2.06.94zm10 10l.94 2.06.94-2.06 2.06-.94-2.06-.94-.94-2.06-.94 2.06-2.06.94z\"/><path d=\"M17.41 7.96l-1.37-1.37c-.4-.4-.92-.59-1.43-.59-.52 0-1.04.2-1.43.59L10.3 9.45l-7.72 7.72c-.78.78-.78 2.05 0 2.83L4 21.41c.39.39.9.59 1.41.59.51 0 1.02-.2 1.41-.59l7.78-7.78 2.81-2.81c.8-.78.8-2.07 0-2.86zM5.41 20L4 18.59l7.72-7.72 1.47 1.35L5.41 20z\"/>\n",
              "  </svg>\n",
              "      </button>\n",
              "      \n",
              "  <style>\n",
              "    .colab-df-container {\n",
              "      display:flex;\n",
              "      flex-wrap:wrap;\n",
              "      gap: 12px;\n",
              "    }\n",
              "\n",
              "    .colab-df-convert {\n",
              "      background-color: #E8F0FE;\n",
              "      border: none;\n",
              "      border-radius: 50%;\n",
              "      cursor: pointer;\n",
              "      display: none;\n",
              "      fill: #1967D2;\n",
              "      height: 32px;\n",
              "      padding: 0 0 0 0;\n",
              "      width: 32px;\n",
              "    }\n",
              "\n",
              "    .colab-df-convert:hover {\n",
              "      background-color: #E2EBFA;\n",
              "      box-shadow: 0px 1px 2px rgba(60, 64, 67, 0.3), 0px 1px 3px 1px rgba(60, 64, 67, 0.15);\n",
              "      fill: #174EA6;\n",
              "    }\n",
              "\n",
              "    [theme=dark] .colab-df-convert {\n",
              "      background-color: #3B4455;\n",
              "      fill: #D2E3FC;\n",
              "    }\n",
              "\n",
              "    [theme=dark] .colab-df-convert:hover {\n",
              "      background-color: #434B5C;\n",
              "      box-shadow: 0px 1px 3px 1px rgba(0, 0, 0, 0.15);\n",
              "      filter: drop-shadow(0px 1px 2px rgba(0, 0, 0, 0.3));\n",
              "      fill: #FFFFFF;\n",
              "    }\n",
              "  </style>\n",
              "\n",
              "      <script>\n",
              "        const buttonEl =\n",
              "          document.querySelector('#df-7097653d-97de-46d0-986b-5d3bf4dd64ab button.colab-df-convert');\n",
              "        buttonEl.style.display =\n",
              "          google.colab.kernel.accessAllowed ? 'block' : 'none';\n",
              "\n",
              "        async function convertToInteractive(key) {\n",
              "          const element = document.querySelector('#df-7097653d-97de-46d0-986b-5d3bf4dd64ab');\n",
              "          const dataTable =\n",
              "            await google.colab.kernel.invokeFunction('convertToInteractive',\n",
              "                                                     [key], {});\n",
              "          if (!dataTable) return;\n",
              "\n",
              "          const docLinkHtml = 'Like what you see? Visit the ' +\n",
              "            '<a target=\"_blank\" href=https://colab.research.google.com/notebooks/data_table.ipynb>data table notebook</a>'\n",
              "            + ' to learn more about interactive tables.';\n",
              "          element.innerHTML = '';\n",
              "          dataTable['output_type'] = 'display_data';\n",
              "          await google.colab.output.renderOutput(dataTable, element);\n",
              "          const docLink = document.createElement('div');\n",
              "          docLink.innerHTML = docLinkHtml;\n",
              "          element.appendChild(docLink);\n",
              "        }\n",
              "      </script>\n",
              "    </div>\n",
              "  </div>\n",
              "  "
            ]
          },
          "metadata": {},
          "execution_count": 2
        }
      ]
    },
    {
      "cell_type": "markdown",
      "source": [
        "# 2º Passo - Análise exploratória dos dados\n",
        "\n",
        "Aqui iremos visualizar as informações presentes em noss banco de dados, não seremos incisivos, iremos somente enteder o dados e visualizá-lo de forma simples."
      ],
      "metadata": {
        "id": "NfJ8IifJmxKn"
      }
    },
    {
      "cell_type": "markdown",
      "source": [
        "## Sobre os dados que importamos:\n",
        "\n",
        "Estrutura: Temos 269 linhas e 7 colunas. Os dados estão organizados em dias, cada dia terá sua respectiva:\n",
        "- Date: Data\n",
        "- Open: Abertura\n",
        "- High: Alta\n",
        "- Low: Baixa\n",
        "- Close: Fechamento\n",
        "- Change (Pips): Variação em pontos\n",
        "- Change (%): Variação em percentual\n",
        "\n",
        "\n"
      ],
      "metadata": {
        "id": "X6dCk4CAlPZ_"
      }
    },
    {
      "cell_type": "code",
      "source": [
        "# Visualizando formato das variáveis\n",
        "df.dtypes"
      ],
      "metadata": {
        "colab": {
          "base_uri": "https://localhost:8080/"
        },
        "id": "ZVtGUbQXnqfX",
        "outputId": "f04b7cb7-f473-4f40-8eca-60246d08339d"
      },
      "execution_count": 3,
      "outputs": [
        {
          "output_type": "execute_result",
          "data": {
            "text/plain": [
              "Date             object\n",
              "Open            float64\n",
              "High            float64\n",
              "Low             float64\n",
              "Close           float64\n",
              "Change(Pips)    float64\n",
              "Change(%)       float64\n",
              "dtype: object"
            ]
          },
          "metadata": {},
          "execution_count": 3
        }
      ]
    },
    {
      "cell_type": "code",
      "source": [
        "# Variável(Coluna) Date não está em formato correto! Vamos corrigi-lá abaixo:\n",
        "\n",
        "df.Date = pd.to_datetime(df.Date)\n",
        "\n",
        "# Verificando novamente, agora vemos que Date está em formato data ( datetime64[ns] )\n",
        "df.dtypes"
      ],
      "metadata": {
        "colab": {
          "base_uri": "https://localhost:8080/"
        },
        "id": "10NH3tEqnwEm",
        "outputId": "2645e480-a4e5-4347-8370-2fa58fbe0f89"
      },
      "execution_count": 4,
      "outputs": [
        {
          "output_type": "execute_result",
          "data": {
            "text/plain": [
              "Date            datetime64[ns]\n",
              "Open                   float64\n",
              "High                   float64\n",
              "Low                    float64\n",
              "Close                  float64\n",
              "Change(Pips)           float64\n",
              "Change(%)              float64\n",
              "dtype: object"
            ]
          },
          "metadata": {},
          "execution_count": 4
        }
      ]
    },
    {
      "cell_type": "code",
      "source": [
        "# Biblioteca para visualização (Plotagem)\n",
        "import matplotlib.pyplot as plt\n",
        "import plotly.graph_objects as go\n",
        "\n",
        "# Visualizando variações:\n",
        "print('Visualizando variável do fechamento ao longo do período')\n",
        "plt.figure(figsize=(10,4))\n",
        "plt.title('Variação EUR/USB de jan/22 até 13/fev/23')\n",
        "plt.ylabel('Valor')\n",
        "plt.xlabel('Data')\n",
        "plt.plot(df.Date.values, df.Close.values)\n",
        "plt.show()\n",
        "\n",
        "# Visualizando candle's\n",
        "print('\\nVisualizando candles dia ao longo do período')\n",
        "go.Figure(data=[go.Candlestick(\n",
        "                x=df.Date.values,\n",
        "                open=df.Open.values,\n",
        "                high=df.High.values,\n",
        "                low=df.Low.values,\n",
        "                close=df.Close.values)]).show()"
      ],
      "metadata": {
        "colab": {
          "base_uri": "https://localhost:8080/",
          "height": 0
        },
        "id": "BD_JpSzym-CM",
        "outputId": "487c5cb6-354d-499d-a340-c5cc98576d12"
      },
      "execution_count": 5,
      "outputs": [
        {
          "output_type": "stream",
          "name": "stdout",
          "text": [
            "Visualizando variável do fechamento ao longo do período\n"
          ]
        },
        {
          "output_type": "display_data",
          "data": {
            "text/plain": [
              "<Figure size 720x288 with 1 Axes>"
            ],
            "image/png": "[encoded data removed]"
          },
          "metadata": {
            "needs_background": "light"
          }
        },
        {
          "output_type": "stream",
          "name": "stdout",
          "text": [
            "\n",
            "Visualizando candles dia ao longo do período\n"
          ]
        },
        {
          "output_type": "display_data",
          "data": {
            "text/html": [
              "<html>\n",
              "<head><meta charset=\"utf-8\" /></head>\n",
              "<body>\n",
              "    <div>            <script src=\"https://cdnjs.cloudflare.com/ajax/libs/mathjax/2.7.5/MathJax.js?config=TeX-AMS-MML_SVG\"></script><script type=\"text/javascript\">if (window.MathJax) {MathJax.Hub.Config({SVG: {font: \"STIX-Web\"}});}</script>                <script type=\"text/javascript\">window.PlotlyConfig = {MathJaxConfig: 'local'};</script>\n",
              "        <script src=\"https://cdn.plot.ly/plotly-2.8.3.min.js\"></script>                <div id=\"cb39f47a-cd4e-419b-8690-2d10d2013fb9\" class=\"plotly-graph-div\" style=\"height:525px; width:100%;\"></div>            <script type=\"text/javascript\">                                    window.PLOTLYENV=window.PLOTLYENV || {};                                    if (document.getElementById(\"cb39f47a-cd4e-419b-8690-2d10d2013fb9\")) {                    Plotly.newPlot(                        \"cb39f47a-cd4e-419b-8690-2d10d2013fb9\",                        [{\"close\":[1.08321,1.08506,1.07564,1.07342,1.07327,1.06453,1.05215,1.06034,1.05488,1.06594,1.06996,1.06616,1.06124,1.06388,1.06205,1.05983,1.06034,1.0624,1.06067,1.05855,1.06257,1.06814,1.06324,1.05387,1.05328,1.05547,1.05055,1.04671,1.04932,1.05405,1.05253,1.04085,1.03294,1.03397,1.03885,1.04103,1.03945,1.0302,1.02405,1.03195,1.03645,1.03942,1.03469,1.03254,1.0353,1.02078,1.00116,1.00727,1.00206,0.99591,0.97497,0.98142,0.98735,0.98826,0.99658,0.99645,1.00831,0.99679,0.98731,0.98628,0.97879,0.97723,0.98603,0.9844,0.97235,0.9777,0.9702,0.97047,0.9703,0.97382,0.97908,0.98856,0.99862,0.98248,0.9799,0.9813,0.97363,0.95933,0.96084,0.96883,0.98339,0.98369,0.99698,1.00246,1.00127,0.99962,0.99791,0.99673,1.01217,1.00459,0.99986,1.00061,0.99064,0.99316,0.99574,0.99456,1.00524,1.00148,0.99976,0.9965,0.99741,0.99679,0.99673,0.99421,1.0039,1.00867,1.01774,1.01705,1.01589,1.02562,1.03198,1.02973,1.02133,1.01932,1.01779,1.0245,1.01688,1.01659,1.02599,1.02265,1.01967,1.01988,1.01178,1.0218,1.02112,1.02276,1.01816,1.02245,1.01435,1.00861,1.00202,1.00572,1.0036,1.00408,1.01836,1.01613,1.01807,1.0264,1.04225,1.0427,1.04832,1.04413,1.05208,1.05815,1.05539,1.05207,1.05684,1.05348,1.05103,1.04969,1.05499,1.04471,1.04172,1.04076,1.05209,1.06174,1.07153,1.07052,1.06956,1.07168,1.07468,1.06525,1.07324,1.07795,1.07312,1.07297,1.06785,1.07356,1.06919,1.05592,1.05837,1.04605,1.05502,1.0434,1.0408,1.03797,1.05138,1.05298,1.05581,1.05439,1.05388,1.06222,1.05193,1.05073,1.05464,1.04987,1.05582,1.06371,1.07113,1.08016,1.08314,1.08542,1.07886,1.07806,1.08064,1.08295,1.08914,1.08256,1.08834,1.08751,1.08798,1.08962,1.09055,1.0971,1.10449,1.10659,1.11579,1.10861,1.09863,1.09849,1.09968,1.10057,1.10303,1.10165,1.10498,1.10908,1.1035,1.09543,1.09398,1.09143,1.09886,1.10758,1.08962,1.0854,1.09306,1.10657,1.11195,1.11234,1.12187,1.12718,1.11934,1.13045,1.13248,1.1309,1.13228,1.13616,1.13727,1.13573,1.13062,1.13478,1.14274,1.14222,1.1417,1.14415,1.14521,1.14385,1.1304,1.12733,1.12328,1.11471,1.11442,1.12413,1.13014,1.13242,1.13416,1.13103,1.13419,1.13278,1.14061,1.14153,1.14541,1.14414,1.13683,1.13278,1.13592,1.12982,1.13125,1.12878,1.12974],\"high\":[1.08681,1.08667,1.07765,1.07595,1.07607,1.06482,1.0631,1.0635,1.06835,1.07069,1.07129,1.06902,1.06746,1.06695,1.0633,1.06597,1.06453,1.06584,1.06578,1.0663,1.0736,1.06953,1.06735,1.05805,1.05883,1.0565,1.05495,1.05328,1.0595,1.05452,1.05337,1.0429,1.03945,1.0497,1.0429,1.04486,1.04051,1.03079,1.0333,1.03962,1.04066,1.04386,1.0481,1.03583,1.03641,1.02216,1.00879,1.00961,1.00337,0.99663,0.98394,0.99758,0.99538,0.9966,0.99981,1.00933,1.00886,0.99771,0.98995,0.98689,0.98457,0.98727,0.98759,0.98521,0.98084,0.98059,0.97344,0.97747,0.97531,0.98171,0.99261,0.99948,0.99998,0.98446,0.98535,0.98147,0.9751,0.9671,0.97099,0.98516,0.99074,0.99754,1.00508,1.00289,1.00362,1.00178,1.00233,1.01873,1.01978,1.01131,1.00296,1.00107,0.99861,0.99444,1.00336,1.00543,1.00791,1.00548,1.0029,1.00899,1.00336,0.99993,1.0018,1.00465,1.00954,1.01931,1.02031,1.01948,1.02679,1.03272,1.03646,1.03684,1.02477,1.02216,1.0252,1.02534,1.02099,1.02939,1.02752,1.02544,1.02342,1.02208,1.02501,1.02574,1.02555,1.02779,1.02729,1.02694,1.02009,1.0098,1.00589,1.0122,1.00738,1.01835,1.01915,1.0221,1.02766,1.04488,1.04626,1.04849,1.04887,1.05357,1.06063,1.06147,1.05711,1.05808,1.06054,1.05827,1.05456,1.05606,1.06015,1.05078,1.04846,1.05197,1.0642,1.07736,1.07484,1.07145,1.07517,1.07646,1.07501,1.07392,1.07791,1.07868,1.07651,1.07317,1.0739,1.07482,1.06972,1.05991,1.06071,1.05636,1.05553,1.0443,1.04195,1.05293,1.05771,1.05855,1.05923,1.05988,1.06417,1.0631,1.05779,1.05683,1.05931,1.05645,1.06543,1.07387,1.08149,1.08515,1.0936,1.08671,1.08143,1.08217,1.08296,1.09236,1.08942,1.09035,1.09331,1.0892,1.09382,1.09381,1.09886,1.10543,1.10758,1.11848,1.1171,1.11373,1.09998,1.10377,1.10138,1.10442,1.10457,1.10701,1.11187,1.11373,1.10472,1.102,1.09938,1.10438,1.11212,1.1095,1.09583,1.09324,1.1068,1.11217,1.11441,1.12331,1.12461,1.1274,1.13085,1.13585,1.13663,1.13906,1.13767,1.13858,1.13958,1.13681,1.1369,1.14302,1.14949,1.14477,1.14488,1.14639,1.1484,1.14513,1.13298,1.12784,1.12479,1.11732,1.12429,1.13106,1.13287,1.1345,1.13595,1.13688,1.13571,1.14217,1.14344,1.14824,1.14818,1.14529,1.13753,1.13604,1.13646,1.13318,1.13465,1.13226,1.13786],\"low\":[1.07803,1.07293,1.07256,1.07122,1.06371,1.04821,1.05148,1.05404,1.05196,1.06505,1.06383,1.06068,1.06065,1.06115,1.05866,1.05734,1.059,1.05787,1.05759,1.05837,1.0592,1.06191,1.05281,1.0506,1.05019,1.04896,1.04429,1.04592,1.04803,1.04285,1.03932,1.02905,1.03202,1.03303,1.03544,1.0382,1.02968,1.02386,1.02224,1.03136,1.03052,1.03309,1.02798,1.02712,1.0163,0.99353,0.99926,0.99717,0.9905,0.97421,0.97299,0.98128,0.98526,0.98731,0.99269,0.99573,0.99434,0.9849,0.98069,0.97048,0.97549,0.97575,0.98129,0.97184,0.97067,0.96315,0.96676,0.96704,0.96817,0.97265,0.9788,0.98348,0.98062,0.97527,0.97344,0.96355,0.95359,0.95693,0.95504,0.96679,0.98072,0.98127,0.99553,0.99656,0.99448,0.99557,0.99553,0.99671,1.00597,0.99941,0.99309,0.98751,0.98637,0.9878,0.99414,0.99108,0.99713,0.99821,0.99142,0.99465,0.99493,0.99102,0.99,0.99262,1.00319,1.00797,1.01457,1.01225,1.01544,1.02384,1.02756,1.02018,1.01889,1.01588,1.01416,1.01541,1.01229,1.01633,1.02052,1.01461,1.01139,1.00965,1.01077,1.01785,1.01298,1.0153,1.01552,1.01197,1.00783,1.0007,0.99522,0.99978,1.00001,1.00338,1.00721,1.01441,1.01614,1.02353,1.04159,1.0366,1.03827,1.04353,1.05037,1.05458,1.05121,1.04825,1.04686,1.0506,1.04729,1.04447,1.03811,1.0359,1.03969,1.03995,1.05056,1.06111,1.06712,1.06522,1.06837,1.07041,1.06429,1.06274,1.06789,1.07249,1.06971,1.06625,1.06423,1.06607,1.05536,1.05332,1.04604,1.04601,1.04282,1.0389,1.03495,1.0354,1.05019,1.05256,1.04951,1.04829,1.04924,1.05062,1.04924,1.04902,1.04915,1.04709,1.05143,1.06357,1.06968,1.07707,1.08234,1.0784,1.0761,1.07699,1.07963,1.07577,1.08087,1.08213,1.08727,1.08366,1.08647,1.08748,1.09001,1.09604,1.10278,1.10609,1.10798,1.09696,1.09449,1.09809,1.0966,1.09643,1.09609,1.10102,1.10031,1.10074,1.0948,1.09264,1.09006,1.09021,1.09763,1.08898,1.08486,1.08061,1.0886,1.10338,1.10577,1.10897,1.11228,1.11658,1.11062,1.13009,1.12877,1.13067,1.13145,1.13229,1.13451,1.13009,1.12799,1.13297,1.1375,1.14025,1.13964,1.14154,1.14118,1.12671,1.12664,1.12207,1.11381,1.11211,1.11313,1.12354,1.12635,1.12906,1.13005,1.13031,1.13188,1.13148,1.13918,1.13982,1.14359,1.13549,1.1313,1.12851,1.12898,1.12847,1.12771,1.12724,1.12796],\"open\":[1.08442,1.07538,1.07324,1.07282,1.06387,1.05216,1.06015,1.05456,1.06647,1.06937,1.06598,1.06068,1.06386,1.06353,1.05917,1.06036,1.0618,1.06034,1.05841,1.06211,1.06806,1.06322,1.05305,1.05288,1.05523,1.05022,1.04628,1.04864,1.05309,1.05204,1.04033,1.0325,1.03369,1.03699,1.04013,1.03968,1.03018,1.02407,1.03216,1.03593,1.03932,1.03478,1.03257,1.03374,1.02067,1.00075,1.00739,1.00164,0.9905,0.97495,0.98146,0.98777,0.98766,0.99497,0.99641,1.00754,0.99632,0.98741,0.9873,0.97837,0.97719,0.98537,0.98414,0.97225,0.97704,0.97012,0.9704,0.96994,0.97292,0.97897,0.98805,0.99852,0.98242,0.97922,0.98168,0.97306,0.9593,0.9609,0.96701,0.98311,0.98358,0.99677,1.0021,1.0011,0.99976,0.99735,0.99681,1.01223,1.01,0.99941,1.00076,0.99034,0.99246,0.99251,0.99437,1.00511,1.00135,0.99935,0.99624,0.9973,0.99649,0.99668,0.99414,1.00369,1.00855,1.01772,1.01651,1.0161,1.02563,1.03203,1.0298,1.02118,1.01915,1.01757,1.02459,1.01623,1.01649,1.02592,1.02165,1.01973,1.02003,1.01145,1.0216,1.02104,1.02259,1.01816,1.02233,1.01389,1.00819,1.00134,1.0058,1.0037,1.00365,1.01775,1.01625,1.01806,1.02676,1.04199,1.04182,1.04789,1.04395,1.05182,1.05834,1.05468,1.0521,1.05644,1.05325,1.05073,1.04729,1.05467,1.0443,1.04088,1.04066,1.05137,1.06152,1.07154,1.07018,1.06901,1.07147,1.07445,1.0644,1.07324,1.07759,1.07329,1.07177,1.06822,1.0734,1.06875,1.05571,1.05825,1.04672,1.05441,1.04337,1.03999,1.03757,1.05206,1.05265,1.05558,1.05352,1.0542,1.06198,1.05203,1.05021,1.05513,1.04978,1.05618,1.06371,1.07124,1.08029,1.08329,1.0849,1.07868,1.07791,1.07998,1.08275,1.08868,1.08257,1.08824,1.09154,1.0876,1.08912,1.09057,1.09698,1.10263,1.10628,1.11575,1.10862,1.09768,1.09831,1.0996,1.10064,1.10247,1.10145,1.10551,1.10907,1.10352,1.09532,1.09397,1.09182,1.09831,1.10705,1.09003,1.08548,1.09189,1.10635,1.11172,1.11213,1.12161,1.11228,1.11905,1.13053,1.13228,1.13069,1.13134,1.13583,1.13713,1.13559,1.13051,1.13368,1.14269,1.14229,1.14127,1.14411,1.14633,1.14367,1.13011,1.12699,1.12332,1.114,1.11451,1.12409,1.12987,1.1322,1.13375,1.13086,1.1341,1.13215,1.14054,1.14097,1.14539,1.14404,1.1367,1.13218,1.13555,1.1295,1.13109,1.12841,1.12952,1.13648],\"x\":[\"2023-01-13T00:00:00.000000000\",\"2023-01-12T00:00:00.000000000\",\"2023-01-11T00:00:00.000000000\",\"2023-01-10T00:00:00.000000000\",\"2023-01-09T00:00:00.000000000\",\"2023-01-06T00:00:00.000000000\",\"2023-01-05T00:00:00.000000000\",\"2023-01-04T00:00:00.000000000\",\"2023-01-03T00:00:00.000000000\",\"2023-01-02T00:00:00.000000000\",\"2022-12-30T00:00:00.000000000\",\"2022-12-29T00:00:00.000000000\",\"2022-12-28T00:00:00.000000000\",\"2022-12-27T00:00:00.000000000\",\"2022-12-23T00:00:00.000000000\",\"2022-12-22T00:00:00.000000000\",\"2022-12-21T00:00:00.000000000\",\"2022-12-20T00:00:00.000000000\",\"2022-12-19T00:00:00.000000000\",\"2022-12-16T00:00:00.000000000\",\"2022-12-15T00:00:00.000000000\",\"2022-12-14T00:00:00.000000000\",\"2022-12-13T00:00:00.000000000\",\"2022-12-12T00:00:00.000000000\",\"2022-12-09T00:00:00.000000000\",\"2022-12-08T00:00:00.000000000\",\"2022-12-07T00:00:00.000000000\",\"2022-12-06T00:00:00.000000000\",\"2022-12-05T00:00:00.000000000\",\"2022-12-02T00:00:00.000000000\",\"2022-12-01T00:00:00.000000000\",\"2022-11-30T00:00:00.000000000\",\"2022-11-29T00:00:00.000000000\",\"2022-11-28T00:00:00.000000000\",\"2022-11-25T00:00:00.000000000\",\"2022-11-24T00:00:00.000000000\",\"2022-11-23T00:00:00.000000000\",\"2022-11-22T00:00:00.000000000\",\"2022-11-21T00:00:00.000000000\",\"2022-11-18T00:00:00.000000000\",\"2022-11-17T00:00:00.000000000\",\"2022-11-16T00:00:00.000000000\",\"2022-11-15T00:00:00.000000000\",\"2022-11-14T00:00:00.000000000\",\"2022-11-11T00:00:00.000000000\",\"2022-11-10T00:00:00.000000000\",\"2022-11-09T00:00:00.000000000\",\"2022-11-08T00:00:00.000000000\",\"2022-11-07T00:00:00.000000000\",\"2022-11-04T00:00:00.000000000\",\"2022-11-03T00:00:00.000000000\",\"2022-11-02T00:00:00.000000000\",\"2022-11-01T00:00:00.000000000\",\"2022-10-31T00:00:00.000000000\",\"2022-10-28T00:00:00.000000000\",\"2022-10-27T00:00:00.000000000\",\"2022-10-26T00:00:00.000000000\",\"2022-10-25T00:00:00.000000000\",\"2022-10-24T00:00:00.000000000\",\"2022-10-21T00:00:00.000000000\",\"2022-10-20T00:00:00.000000000\",\"2022-10-19T00:00:00.000000000\",\"2022-10-18T00:00:00.000000000\",\"2022-10-17T00:00:00.000000000\",\"2022-10-14T00:00:00.000000000\",\"2022-10-13T00:00:00.000000000\",\"2022-10-12T00:00:00.000000000\",\"2022-10-11T00:00:00.000000000\",\"2022-10-10T00:00:00.000000000\",\"2022-10-07T00:00:00.000000000\",\"2022-10-06T00:00:00.000000000\",\"2022-10-05T00:00:00.000000000\",\"2022-10-04T00:00:00.000000000\",\"2022-10-03T00:00:00.000000000\",\"2022-09-30T00:00:00.000000000\",\"2022-09-29T00:00:00.000000000\",\"2022-09-28T00:00:00.000000000\",\"2022-09-27T00:00:00.000000000\",\"2022-09-26T00:00:00.000000000\",\"2022-09-23T00:00:00.000000000\",\"2022-09-22T00:00:00.000000000\",\"2022-09-21T00:00:00.000000000\",\"2022-09-20T00:00:00.000000000\",\"2022-09-19T00:00:00.000000000\",\"2022-09-16T00:00:00.000000000\",\"2022-09-15T00:00:00.000000000\",\"2022-09-14T00:00:00.000000000\",\"2022-09-13T00:00:00.000000000\",\"2022-09-12T00:00:00.000000000\",\"2022-09-09T00:00:00.000000000\",\"2022-09-08T00:00:00.000000000\",\"2022-09-07T00:00:00.000000000\",\"2022-09-06T00:00:00.000000000\",\"2022-09-05T00:00:00.000000000\",\"2022-09-02T00:00:00.000000000\",\"2022-09-01T00:00:00.000000000\",\"2022-08-31T00:00:00.000000000\",\"2022-08-30T00:00:00.000000000\",\"2022-08-29T00:00:00.000000000\",\"2022-08-26T00:00:00.000000000\",\"2022-08-25T00:00:00.000000000\",\"2022-08-24T00:00:00.000000000\",\"2022-08-23T00:00:00.000000000\",\"2022-08-22T00:00:00.000000000\",\"2022-08-19T00:00:00.000000000\",\"2022-08-18T00:00:00.000000000\",\"2022-08-17T00:00:00.000000000\",\"2022-08-16T00:00:00.000000000\",\"2022-08-15T00:00:00.000000000\",\"2022-08-12T00:00:00.000000000\",\"2022-08-11T00:00:00.000000000\",\"2022-08-10T00:00:00.000000000\",\"2022-08-09T00:00:00.000000000\",\"2022-08-08T00:00:00.000000000\",\"2022-08-05T00:00:00.000000000\",\"2022-08-04T00:00:00.000000000\",\"2022-08-03T00:00:00.000000000\",\"2022-08-02T00:00:00.000000000\",\"2022-08-01T00:00:00.000000000\",\"2022-07-29T00:00:00.000000000\",\"2022-07-28T00:00:00.000000000\",\"2022-07-27T00:00:00.000000000\",\"2022-07-26T00:00:00.000000000\",\"2022-07-25T00:00:00.000000000\",\"2022-07-22T00:00:00.000000000\",\"2022-07-21T00:00:00.000000000\",\"2022-07-20T00:00:00.000000000\",\"2022-07-19T00:00:00.000000000\",\"2022-07-18T00:00:00.000000000\",\"2022-07-15T00:00:00.000000000\",\"2022-07-14T00:00:00.000000000\",\"2022-07-13T00:00:00.000000000\",\"2022-07-12T00:00:00.000000000\",\"2022-07-11T00:00:00.000000000\",\"2022-07-08T00:00:00.000000000\",\"2022-07-07T00:00:00.000000000\",\"2022-07-06T00:00:00.000000000\",\"2022-07-05T00:00:00.000000000\",\"2022-07-04T00:00:00.000000000\",\"2022-07-01T00:00:00.000000000\",\"2022-06-30T00:00:00.000000000\",\"2022-06-29T00:00:00.000000000\",\"2022-06-28T00:00:00.000000000\",\"2022-06-27T00:00:00.000000000\",\"2022-06-24T00:00:00.000000000\",\"2022-06-23T00:00:00.000000000\",\"2022-06-22T00:00:00.000000000\",\"2022-06-21T00:00:00.000000000\",\"2022-06-20T00:00:00.000000000\",\"2022-06-17T00:00:00.000000000\",\"2022-06-16T00:00:00.000000000\",\"2022-06-15T00:00:00.000000000\",\"2022-06-14T00:00:00.000000000\",\"2022-06-13T00:00:00.000000000\",\"2022-06-10T00:00:00.000000000\",\"2022-06-09T00:00:00.000000000\",\"2022-06-08T00:00:00.000000000\",\"2022-06-07T00:00:00.000000000\",\"2022-06-06T00:00:00.000000000\",\"2022-06-03T00:00:00.000000000\",\"2022-06-02T00:00:00.000000000\",\"2022-06-01T00:00:00.000000000\",\"2022-05-31T00:00:00.000000000\",\"2022-05-30T00:00:00.000000000\",\"2022-05-27T00:00:00.000000000\",\"2022-05-26T00:00:00.000000000\",\"2022-05-25T00:00:00.000000000\",\"2022-05-24T00:00:00.000000000\",\"2022-05-23T00:00:00.000000000\",\"2022-05-20T00:00:00.000000000\",\"2022-05-19T00:00:00.000000000\",\"2022-05-18T00:00:00.000000000\",\"2022-05-17T00:00:00.000000000\",\"2022-05-16T00:00:00.000000000\",\"2022-05-13T00:00:00.000000000\",\"2022-05-12T00:00:00.000000000\",\"2022-05-11T00:00:00.000000000\",\"2022-05-10T00:00:00.000000000\",\"2022-05-09T00:00:00.000000000\",\"2022-05-06T00:00:00.000000000\",\"2022-05-05T00:00:00.000000000\",\"2022-05-04T00:00:00.000000000\",\"2022-05-03T00:00:00.000000000\",\"2022-05-02T00:00:00.000000000\",\"2022-04-29T00:00:00.000000000\",\"2022-04-28T00:00:00.000000000\",\"2022-04-27T00:00:00.000000000\",\"2022-04-26T00:00:00.000000000\",\"2022-04-25T00:00:00.000000000\",\"2022-04-22T00:00:00.000000000\",\"2022-04-21T00:00:00.000000000\",\"2022-04-20T00:00:00.000000000\",\"2022-04-19T00:00:00.000000000\",\"2022-04-18T00:00:00.000000000\",\"2022-04-15T00:00:00.000000000\",\"2022-04-14T00:00:00.000000000\",\"2022-04-13T00:00:00.000000000\",\"2022-04-12T00:00:00.000000000\",\"2022-04-11T00:00:00.000000000\",\"2022-04-08T00:00:00.000000000\",\"2022-04-07T00:00:00.000000000\",\"2022-04-06T00:00:00.000000000\",\"2022-04-05T00:00:00.000000000\",\"2022-04-04T00:00:00.000000000\",\"2022-04-01T00:00:00.000000000\",\"2022-03-31T00:00:00.000000000\",\"2022-03-30T00:00:00.000000000\",\"2022-03-29T00:00:00.000000000\",\"2022-03-28T00:00:00.000000000\",\"2022-03-25T00:00:00.000000000\",\"2022-03-24T00:00:00.000000000\",\"2022-03-23T00:00:00.000000000\",\"2022-03-22T00:00:00.000000000\",\"2022-03-21T00:00:00.000000000\",\"2022-03-18T00:00:00.000000000\",\"2022-03-17T00:00:00.000000000\",\"2022-03-16T00:00:00.000000000\",\"2022-03-15T00:00:00.000000000\",\"2022-03-14T00:00:00.000000000\",\"2022-03-11T00:00:00.000000000\",\"2022-03-10T00:00:00.000000000\",\"2022-03-09T00:00:00.000000000\",\"2022-03-08T00:00:00.000000000\",\"2022-03-07T00:00:00.000000000\",\"2022-03-04T00:00:00.000000000\",\"2022-03-03T00:00:00.000000000\",\"2022-03-02T00:00:00.000000000\",\"2022-03-01T00:00:00.000000000\",\"2022-02-28T00:00:00.000000000\",\"2022-02-25T00:00:00.000000000\",\"2022-02-24T00:00:00.000000000\",\"2022-02-23T00:00:00.000000000\",\"2022-02-22T00:00:00.000000000\",\"2022-02-21T00:00:00.000000000\",\"2022-02-18T00:00:00.000000000\",\"2022-02-17T00:00:00.000000000\",\"2022-02-16T00:00:00.000000000\",\"2022-02-15T00:00:00.000000000\",\"2022-02-14T00:00:00.000000000\",\"2022-02-11T00:00:00.000000000\",\"2022-02-10T00:00:00.000000000\",\"2022-02-09T00:00:00.000000000\",\"2022-02-08T00:00:00.000000000\",\"2022-02-07T00:00:00.000000000\",\"2022-02-04T00:00:00.000000000\",\"2022-02-03T00:00:00.000000000\",\"2022-02-02T00:00:00.000000000\",\"2022-02-01T00:00:00.000000000\",\"2022-01-31T00:00:00.000000000\",\"2022-01-28T00:00:00.000000000\",\"2022-01-27T00:00:00.000000000\",\"2022-01-26T00:00:00.000000000\",\"2022-01-25T00:00:00.000000000\",\"2022-01-24T00:00:00.000000000\",\"2022-01-21T00:00:00.000000000\",\"2022-01-20T00:00:00.000000000\",\"2022-01-19T00:00:00.000000000\",\"2022-01-18T00:00:00.000000000\",\"2022-01-17T00:00:00.000000000\",\"2022-01-14T00:00:00.000000000\",\"2022-01-13T00:00:00.000000000\",\"2022-01-12T00:00:00.000000000\",\"2022-01-11T00:00:00.000000000\",\"2022-01-10T00:00:00.000000000\",\"2022-01-07T00:00:00.000000000\",\"2022-01-06T00:00:00.000000000\",\"2022-01-05T00:00:00.000000000\",\"2022-01-04T00:00:00.000000000\",\"2022-01-03T00:00:00.000000000\"],\"type\":\"candlestick\"}],                        {\"template\":{\"data\":{\"bar\":[{\"error_x\":{\"color\":\"#2a3f5f\"},\"error_y\":{\"color\":\"#2a3f5f\"},\"marker\":{\"line\":{\"color\":\"#E5ECF6\",\"width\":0.5},\"pattern\":{\"fillmode\":\"overlay\",\"size\":10,\"solidity\":0.2}},\"type\":\"bar\"}],\"barpolar\":[{\"marker\":{\"line\":{\"color\":\"#E5ECF6\",\"width\":0.5},\"pattern\":{\"fillmode\":\"overlay\",\"size\":10,\"solidity\":0.2}},\"type\":\"barpolar\"}],\"carpet\":[{\"aaxis\":{\"endlinecolor\":\"#2a3f5f\",\"gridcolor\":\"white\",\"linecolor\":\"white\",\"minorgridcolor\":\"white\",\"startlinecolor\":\"#2a3f5f\"},\"baxis\":{\"endlinecolor\":\"#2a3f5f\",\"gridcolor\":\"white\",\"linecolor\":\"white\",\"minorgridcolor\":\"white\",\"startlinecolor\":\"#2a3f5f\"},\"type\":\"carpet\"}],\"choropleth\":[{\"colorbar\":{\"outlinewidth\":0,\"ticks\":\"\"},\"type\":\"choropleth\"}],\"contour\":[{\"colorbar\":{\"outlinewidth\":0,\"ticks\":\"\"},\"colorscale\":[[0.0,\"#0d0887\"],[0.1111111111111111,\"#46039f\"],[0.2222222222222222,\"#7201a8\"],[0.3333333333333333,\"#9c179e\"],[0.4444444444444444,\"#bd3786\"],[0.5555555555555556,\"#d8576b\"],[0.6666666666666666,\"#ed7953\"],[0.7777777777777778,\"#fb9f3a\"],[0.8888888888888888,\"#fdca26\"],[1.0,\"#f0f921\"]],\"type\":\"contour\"}],\"contourcarpet\":[{\"colorbar\":{\"outlinewidth\":0,\"ticks\":\"\"},\"type\":\"contourcarpet\"}],\"heatmap\":[{\"colorbar\":{\"outlinewidth\":0,\"ticks\":\"\"},\"colorscale\":[[0.0,\"#0d0887\"],[0.1111111111111111,\"#46039f\"],[0.2222222222222222,\"#7201a8\"],[0.3333333333333333,\"#9c179e\"],[0.4444444444444444,\"#bd3786\"],[0.5555555555555556,\"#d8576b\"],[0.6666666666666666,\"#ed7953\"],[0.7777777777777778,\"#fb9f3a\"],[0.8888888888888888,\"#fdca26\"],[1.0,\"#f0f921\"]],\"type\":\"heatmap\"}],\"heatmapgl\":[{\"colorbar\":{\"outlinewidth\":0,\"ticks\":\"\"},\"colorscale\":[[0.0,\"#0d0887\"],[0.1111111111111111,\"#46039f\"],[0.2222222222222222,\"#7201a8\"],[0.3333333333333333,\"#9c179e\"],[0.4444444444444444,\"#bd3786\"],[0.5555555555555556,\"#d8576b\"],[0.6666666666666666,\"#ed7953\"],[0.7777777777777778,\"#fb9f3a\"],[0.8888888888888888,\"#fdca26\"],[1.0,\"#f0f921\"]],\"type\":\"heatmapgl\"}],\"histogram\":[{\"marker\":{\"pattern\":{\"fillmode\":\"overlay\",\"size\":10,\"solidity\":0.2}},\"type\":\"histogram\"}],\"histogram2d\":[{\"colorbar\":{\"outlinewidth\":0,\"ticks\":\"\"},\"colorscale\":[[0.0,\"#0d0887\"],[0.1111111111111111,\"#46039f\"],[0.2222222222222222,\"#7201a8\"],[0.3333333333333333,\"#9c179e\"],[0.4444444444444444,\"#bd3786\"],[0.5555555555555556,\"#d8576b\"],[0.6666666666666666,\"#ed7953\"],[0.7777777777777778,\"#fb9f3a\"],[0.8888888888888888,\"#fdca26\"],[1.0,\"#f0f921\"]],\"type\":\"histogram2d\"}],\"histogram2dcontour\":[{\"colorbar\":{\"outlinewidth\":0,\"ticks\":\"\"},\"colorscale\":[[0.0,\"#0d0887\"],[0.1111111111111111,\"#46039f\"],[0.2222222222222222,\"#7201a8\"],[0.3333333333333333,\"#9c179e\"],[0.4444444444444444,\"#bd3786\"],[0.5555555555555556,\"#d8576b\"],[0.6666666666666666,\"#ed7953\"],[0.7777777777777778,\"#fb9f3a\"],[0.8888888888888888,\"#fdca26\"],[1.0,\"#f0f921\"]],\"type\":\"histogram2dcontour\"}],\"mesh3d\":[{\"colorbar\":{\"outlinewidth\":0,\"ticks\":\"\"},\"type\":\"mesh3d\"}],\"parcoords\":[{\"line\":{\"colorbar\":{\"outlinewidth\":0,\"ticks\":\"\"}},\"type\":\"parcoords\"}],\"pie\":[{\"automargin\":true,\"type\":\"pie\"}],\"scatter\":[{\"marker\":{\"colorbar\":{\"outlinewidth\":0,\"ticks\":\"\"}},\"type\":\"scatter\"}],\"scatter3d\":[{\"line\":{\"colorbar\":{\"outlinewidth\":0,\"ticks\":\"\"}},\"marker\":{\"colorbar\":{\"outlinewidth\":0,\"ticks\":\"\"}},\"type\":\"scatter3d\"}],\"scattercarpet\":[{\"marker\":{\"colorbar\":{\"outlinewidth\":0,\"ticks\":\"\"}},\"type\":\"scattercarpet\"}],\"scattergeo\":[{\"marker\":{\"colorbar\":{\"outlinewidth\":0,\"ticks\":\"\"}},\"type\":\"scattergeo\"}],\"scattergl\":[{\"marker\":{\"colorbar\":{\"outlinewidth\":0,\"ticks\":\"\"}},\"type\":\"scattergl\"}],\"scattermapbox\":[{\"marker\":{\"colorbar\":{\"outlinewidth\":0,\"ticks\":\"\"}},\"type\":\"scattermapbox\"}],\"scatterpolar\":[{\"marker\":{\"colorbar\":{\"outlinewidth\":0,\"ticks\":\"\"}},\"type\":\"scatterpolar\"}],\"scatterpolargl\":[{\"marker\":{\"colorbar\":{\"outlinewidth\":0,\"ticks\":\"\"}},\"type\":\"scatterpolargl\"}],\"scatterternary\":[{\"marker\":{\"colorbar\":{\"outlinewidth\":0,\"ticks\":\"\"}},\"type\":\"scatterternary\"}],\"surface\":[{\"colorbar\":{\"outlinewidth\":0,\"ticks\":\"\"},\"colorscale\":[[0.0,\"#0d0887\"],[0.1111111111111111,\"#46039f\"],[0.2222222222222222,\"#7201a8\"],[0.3333333333333333,\"#9c179e\"],[0.4444444444444444,\"#bd3786\"],[0.5555555555555556,\"#d8576b\"],[0.6666666666666666,\"#ed7953\"],[0.7777777777777778,\"#fb9f3a\"],[0.8888888888888888,\"#fdca26\"],[1.0,\"#f0f921\"]],\"type\":\"surface\"}],\"table\":[{\"cells\":{\"fill\":{\"color\":\"#EBF0F8\"},\"line\":{\"color\":\"white\"}},\"header\":{\"fill\":{\"color\":\"#C8D4E3\"},\"line\":{\"color\":\"white\"}},\"type\":\"table\"}]},\"layout\":{\"annotationdefaults\":{\"arrowcolor\":\"#2a3f5f\",\"arrowhead\":0,\"arrowwidth\":1},\"autotypenumbers\":\"strict\",\"coloraxis\":{\"colorbar\":{\"outlinewidth\":0,\"ticks\":\"\"}},\"colorscale\":{\"diverging\":[[0,\"#8e0152\"],[0.1,\"#c51b7d\"],[0.2,\"#de77ae\"],[0.3,\"#f1b6da\"],[0.4,\"#fde0ef\"],[0.5,\"#f7f7f7\"],[0.6,\"#e6f5d0\"],[0.7,\"#b8e186\"],[0.8,\"#7fbc41\"],[0.9,\"#4d9221\"],[1,\"#276419\"]],\"sequential\":[[0.0,\"#0d0887\"],[0.1111111111111111,\"#46039f\"],[0.2222222222222222,\"#7201a8\"],[0.3333333333333333,\"#9c179e\"],[0.4444444444444444,\"#bd3786\"],[0.5555555555555556,\"#d8576b\"],[0.6666666666666666,\"#ed7953\"],[0.7777777777777778,\"#fb9f3a\"],[0.8888888888888888,\"#fdca26\"],[1.0,\"#f0f921\"]],\"sequentialminus\":[[0.0,\"#0d0887\"],[0.1111111111111111,\"#46039f\"],[0.2222222222222222,\"#7201a8\"],[0.3333333333333333,\"#9c179e\"],[0.4444444444444444,\"#bd3786\"],[0.5555555555555556,\"#d8576b\"],[0.6666666666666666,\"#ed7953\"],[0.7777777777777778,\"#fb9f3a\"],[0.8888888888888888,\"#fdca26\"],[1.0,\"#f0f921\"]]},\"colorway\":[\"#636efa\",\"#EF553B\",\"#00cc96\",\"#ab63fa\",\"#FFA15A\",\"#19d3f3\",\"#FF6692\",\"#B6E880\",\"#FF97FF\",\"#FECB52\"],\"font\":{\"color\":\"#2a3f5f\"},\"geo\":{\"bgcolor\":\"white\",\"lakecolor\":\"white\",\"landcolor\":\"#E5ECF6\",\"showlakes\":true,\"showland\":true,\"subunitcolor\":\"white\"},\"hoverlabel\":{\"align\":\"left\"},\"hovermode\":\"closest\",\"mapbox\":{\"style\":\"light\"},\"paper_bgcolor\":\"white\",\"plot_bgcolor\":\"#E5ECF6\",\"polar\":{\"angularaxis\":{\"gridcolor\":\"white\",\"linecolor\":\"white\",\"ticks\":\"\"},\"bgcolor\":\"#E5ECF6\",\"radialaxis\":{\"gridcolor\":\"white\",\"linecolor\":\"white\",\"ticks\":\"\"}},\"scene\":{\"xaxis\":{\"backgroundcolor\":\"#E5ECF6\",\"gridcolor\":\"white\",\"gridwidth\":2,\"linecolor\":\"white\",\"showbackground\":true,\"ticks\":\"\",\"zerolinecolor\":\"white\"},\"yaxis\":{\"backgroundcolor\":\"#E5ECF6\",\"gridcolor\":\"white\",\"gridwidth\":2,\"linecolor\":\"white\",\"showbackground\":true,\"ticks\":\"\",\"zerolinecolor\":\"white\"},\"zaxis\":{\"backgroundcolor\":\"#E5ECF6\",\"gridcolor\":\"white\",\"gridwidth\":2,\"linecolor\":\"white\",\"showbackground\":true,\"ticks\":\"\",\"zerolinecolor\":\"white\"}},\"shapedefaults\":{\"line\":{\"color\":\"#2a3f5f\"}},\"ternary\":{\"aaxis\":{\"gridcolor\":\"white\",\"linecolor\":\"white\",\"ticks\":\"\"},\"baxis\":{\"gridcolor\":\"white\",\"linecolor\":\"white\",\"ticks\":\"\"},\"bgcolor\":\"#E5ECF6\",\"caxis\":{\"gridcolor\":\"white\",\"linecolor\":\"white\",\"ticks\":\"\"}},\"title\":{\"x\":0.05},\"xaxis\":{\"automargin\":true,\"gridcolor\":\"white\",\"linecolor\":\"white\",\"ticks\":\"\",\"title\":{\"standoff\":15},\"zerolinecolor\":\"white\",\"zerolinewidth\":2},\"yaxis\":{\"automargin\":true,\"gridcolor\":\"white\",\"linecolor\":\"white\",\"ticks\":\"\",\"title\":{\"standoff\":15},\"zerolinecolor\":\"white\",\"zerolinewidth\":2}}}},                        {\"responsive\": true}                    ).then(function(){\n",
              "                            \n",
              "var gd = document.getElementById('cb39f47a-cd4e-419b-8690-2d10d2013fb9');\n",
              "var x = new MutationObserver(function (mutations, observer) {{\n",
              "        var display = window.getComputedStyle(gd).display;\n",
              "        if (!display || display === 'none') {{\n",
              "            console.log([gd, 'removed!']);\n",
              "            Plotly.purge(gd);\n",
              "            observer.disconnect();\n",
              "        }}\n",
              "}});\n",
              "\n",
              "// Listen for the removal of the full notebook cells\n",
              "var notebookContainer = gd.closest('#notebook-container');\n",
              "if (notebookContainer) {{\n",
              "    x.observe(notebookContainer, {childList: true});\n",
              "}}\n",
              "\n",
              "// Listen for the clearing of the current output cell\n",
              "var outputEl = gd.closest('.output');\n",
              "if (outputEl) {{\n",
              "    x.observe(outputEl, {childList: true});\n",
              "}}\n",
              "\n",
              "                        })                };                            </script>        </div>\n",
              "</body>\n",
              "</html>"
            ]
          },
          "metadata": {}
        }
      ]
    },
    {
      "cell_type": "markdown",
      "source": [
        "Antes de encerrarmos esse tópico, gostaria de somente convídá-lo a visualizar gráficos de outras fontes de dados e verificar se estamos realmente vendo a mesma informação do mercado... \n",
        "\n",
        "Se não quiser pesquisar eu já dei uma olhadinha no [google finanças no EUR/USD](https://www.google.com/finance/quote/EUR-USD?sa=X&ved=2ahUKEwiL-svdpMf8AhWQJrkGHXdfBlMQmY0JegQIBxAc&window=1Y) e vi no período 15/01/22 até 13/01/23 praticamente a mesma informação que estamos vendo acima e foram extraídas do [myfxbook](https://www.myfxbook.com/forex-market/currencies/EURUSD-historical-data), veja abaixo:\n",
        "\n",
        "<img src='https://github.com/LucasPequenoSterzeck/Machine_Learning_LPS/blob/main/Regressao_Linear_EUR_USD/GoogleFinance_EUR_USD.png?raw=true' width='700'>\n",
        "\n",
        "[Imagem em maior resolução.](https://github.com/LucasPequenoSterzeck/Machine_Learning_LPS/blob/main/Regressao_Linear_EUR_USD/GoogleFinance_EUR_USD.png?raw=true)"
      ],
      "metadata": {
        "id": "fOYSULDwt6XP"
      }
    },
    {
      "cell_type": "markdown",
      "source": [
        "# 3º Passo - Seleção de características\n",
        "\n",
        "Agora chegou o momento de modelarmos o banco de dados e deixar somente as variáveis que iremos realmente utilizar, e talvez até criar alguma para utilizarmos no modelo.\n"
      ],
      "metadata": {
        "id": "Za2Cg6s1m41P"
      }
    },
    {
      "cell_type": "markdown",
      "source": [
        "**Retirando uma variávei:** Já que a variável Change é a mesma informação porém representada de formas diferentes, estarei retirando a coluna 'Change(Pips)'.\n",
        "\n",
        "**Adicionando uma variável:** Vamos criar uma média de 14 períodos baseado no preço de fechamento, dessa forma teremos uma linha de tendência baseado nessa média para auxiliar o modelo.\n",
        "\n",
        "**Modificando uma variável:** Poderiamos dar a variável 'Close' que representa o fechamento diretamente ao nosso modelo, porém para tornar a previsão mais simples vamos criar uma variável que nos diga se o valor de fechamento referente ao dia anterior subiu(1 / UM) ou desceu(0 / ZERO), dessa forma nosso modelo não tentará prever exatamente o preço do próximo fechamento, mas sim o movimento do próximo fechamento, iremos chamar esa variável de 'Movimento'.\n",
        "\n",
        "**Modificando um eixo:** Iremos deslocar a nova variável (Movimento) para D-1, dessa forma teremos a relação abertura, baixa, alta e fechamento de hoje para então o movimento de amanhã(Superior/Call ou Inferior/Put). É importante fazermos esse ajuste pois consideremos que você quer saber o movimento que o ativo fará amanhã, para isso você irá alimentar ele com as variáveis que tem do dia anterior buscando prever o dia seguinte.\n",
        "\n",
        "**Limpeza:** Remover linhas aonde temos valores em branco/vazios."
      ],
      "metadata": {
        "id": "S9TTnMrzpwsl"
      }
    },
    {
      "cell_type": "code",
      "source": [
        "# Retirando variável Change(Pips)\n",
        "df.drop(columns=['Change(Pips)'], inplace=True)"
      ],
      "metadata": {
        "id": "KP1em8NItKdu"
      },
      "execution_count": 6,
      "outputs": []
    },
    {
      "cell_type": "code",
      "source": [
        "# Adicionando variável \n",
        "df['Med_14'] = df.Close.rolling(14).mean()\n",
        "\n",
        "# importante ficar que as 14 primeiras linhas estarão vazias 'NaN' pois ele precisa de 14 períodos para ter uma média,\n",
        "# Apartir da 15ª Linha teremos valor média dos 14 períodos anteriores."
      ],
      "metadata": {
        "id": "LlOdNyMTvUEV"
      },
      "execution_count": 7,
      "outputs": []
    },
    {
      "cell_type": "code",
      "source": [
        "# Modificando variável Close teremos uma nova variável chamada Movimento\n",
        "for row in df.iterrows():\n",
        "  if row[0] > 0 and row[1].Close > rowP[1].Close: df.loc[row[0], 'Movimento'] = 1\n",
        "  elif row[0] > 0 and row[1].Close < rowP[1].Close: df.loc[row[0], 'Movimento'] = 0\n",
        "  rowP = row\n",
        "\n",
        "df"
      ],
      "metadata": {
        "colab": {
          "base_uri": "https://localhost:8080/",
          "height": 0
        },
        "id": "2ftwNuGRwQ32",
        "outputId": "4dd5df26-1be9-4177-b756-440cf4803798"
      },
      "execution_count": 8,
      "outputs": [
        {
          "output_type": "execute_result",
          "data": {
            "text/plain": [
              "          Date     Open     High      Low    Close  Change(%)    Med_14  \\\n",
              "0   2023-01-13  1.08442  1.08681  1.07803  1.08321      -0.11       NaN   \n",
              "1   2023-01-12  1.07538  1.08667  1.07293  1.08506       0.89       NaN   \n",
              "2   2023-01-11  1.07324  1.07765  1.07256  1.07564       0.22       NaN   \n",
              "3   2023-01-10  1.07282  1.07595  1.07122  1.07342       0.06       NaN   \n",
              "4   2023-01-09  1.06387  1.07607  1.06371  1.07327       0.88       NaN   \n",
              "..         ...      ...      ...      ...      ...        ...       ...   \n",
              "264 2022-01-07  1.12950  1.13646  1.12898  1.13592       0.57  1.135434   \n",
              "265 2022-01-06  1.13109  1.13318  1.12847  1.12982      -0.11  1.135840   \n",
              "266 2022-01-05  1.12841  1.13465  1.12771  1.13125       0.25  1.135919   \n",
              "267 2022-01-04  1.12952  1.13226  1.12724  1.12878      -0.07  1.135659   \n",
              "268 2022-01-03  1.13648  1.13786  1.12796  1.12974      -0.60  1.135344   \n",
              "\n",
              "     Movimento  \n",
              "0          NaN  \n",
              "1          1.0  \n",
              "2          0.0  \n",
              "3          0.0  \n",
              "4          0.0  \n",
              "..         ...  \n",
              "264        1.0  \n",
              "265        0.0  \n",
              "266        1.0  \n",
              "267        0.0  \n",
              "268        1.0  \n",
              "\n",
              "[269 rows x 8 columns]"
            ],
            "text/html": [
              "\n",
              "  <div id=\"df-a9d23849-ac6d-42b7-8bcb-56defa7ac641\">\n",
              "    <div class=\"colab-df-container\">\n",
              "      <div>\n",
              "<style scoped>\n",
              "    .dataframe tbody tr th:only-of-type {\n",
              "        vertical-align: middle;\n",
              "    }\n",
              "\n",
              "    .dataframe tbody tr th {\n",
              "        vertical-align: top;\n",
              "    }\n",
              "\n",
              "    .dataframe thead th {\n",
              "        text-align: right;\n",
              "    }\n",
              "</style>\n",
              "<table border=\"1\" class=\"dataframe\">\n",
              "  <thead>\n",
              "    <tr style=\"text-align: right;\">\n",
              "      <th></th>\n",
              "      <th>Date</th>\n",
              "      <th>Open</th>\n",
              "      <th>High</th>\n",
              "      <th>Low</th>\n",
              "      <th>Close</th>\n",
              "      <th>Change(%)</th>\n",
              "      <th>Med_14</th>\n",
              "      <th>Movimento</th>\n",
              "    </tr>\n",
              "  </thead>\n",
              "  <tbody>\n",
              "    <tr>\n",
              "      <th>0</th>\n",
              "      <td>2023-01-13</td>\n",
              "      <td>1.08442</td>\n",
              "      <td>1.08681</td>\n",
              "      <td>1.07803</td>\n",
              "      <td>1.08321</td>\n",
              "      <td>-0.11</td>\n",
              "      <td>NaN</td>\n",
              "      <td>NaN</td>\n",
              "    </tr>\n",
              "    <tr>\n",
              "      <th>1</th>\n",
              "      <td>2023-01-12</td>\n",
              "      <td>1.07538</td>\n",
              "      <td>1.08667</td>\n",
              "      <td>1.07293</td>\n",
              "      <td>1.08506</td>\n",
              "      <td>0.89</td>\n",
              "      <td>NaN</td>\n",
              "      <td>1.0</td>\n",
              "    </tr>\n",
              "    <tr>\n",
              "      <th>2</th>\n",
              "      <td>2023-01-11</td>\n",
              "      <td>1.07324</td>\n",
              "      <td>1.07765</td>\n",
              "      <td>1.07256</td>\n",
              "      <td>1.07564</td>\n",
              "      <td>0.22</td>\n",
              "      <td>NaN</td>\n",
              "      <td>0.0</td>\n",
              "    </tr>\n",
              "    <tr>\n",
              "      <th>3</th>\n",
              "      <td>2023-01-10</td>\n",
              "      <td>1.07282</td>\n",
              "      <td>1.07595</td>\n",
              "      <td>1.07122</td>\n",
              "      <td>1.07342</td>\n",
              "      <td>0.06</td>\n",
              "      <td>NaN</td>\n",
              "      <td>0.0</td>\n",
              "    </tr>\n",
              "    <tr>\n",
              "      <th>4</th>\n",
              "      <td>2023-01-09</td>\n",
              "      <td>1.06387</td>\n",
              "      <td>1.07607</td>\n",
              "      <td>1.06371</td>\n",
              "      <td>1.07327</td>\n",
              "      <td>0.88</td>\n",
              "      <td>NaN</td>\n",
              "      <td>0.0</td>\n",
              "    </tr>\n",
              "    <tr>\n",
              "      <th>...</th>\n",
              "      <td>...</td>\n",
              "      <td>...</td>\n",
              "      <td>...</td>\n",
              "      <td>...</td>\n",
              "      <td>...</td>\n",
              "      <td>...</td>\n",
              "      <td>...</td>\n",
              "      <td>...</td>\n",
              "    </tr>\n",
              "    <tr>\n",
              "      <th>264</th>\n",
              "      <td>2022-01-07</td>\n",
              "      <td>1.12950</td>\n",
              "      <td>1.13646</td>\n",
              "      <td>1.12898</td>\n",
              "      <td>1.13592</td>\n",
              "      <td>0.57</td>\n",
              "      <td>1.135434</td>\n",
              "      <td>1.0</td>\n",
              "    </tr>\n",
              "    <tr>\n",
              "      <th>265</th>\n",
              "      <td>2022-01-06</td>\n",
              "      <td>1.13109</td>\n",
              "      <td>1.13318</td>\n",
              "      <td>1.12847</td>\n",
              "      <td>1.12982</td>\n",
              "      <td>-0.11</td>\n",
              "      <td>1.135840</td>\n",
              "      <td>0.0</td>\n",
              "    </tr>\n",
              "    <tr>\n",
              "      <th>266</th>\n",
              "      <td>2022-01-05</td>\n",
              "      <td>1.12841</td>\n",
              "      <td>1.13465</td>\n",
              "      <td>1.12771</td>\n",
              "      <td>1.13125</td>\n",
              "      <td>0.25</td>\n",
              "      <td>1.135919</td>\n",
              "      <td>1.0</td>\n",
              "    </tr>\n",
              "    <tr>\n",
              "      <th>267</th>\n",
              "      <td>2022-01-04</td>\n",
              "      <td>1.12952</td>\n",
              "      <td>1.13226</td>\n",
              "      <td>1.12724</td>\n",
              "      <td>1.12878</td>\n",
              "      <td>-0.07</td>\n",
              "      <td>1.135659</td>\n",
              "      <td>0.0</td>\n",
              "    </tr>\n",
              "    <tr>\n",
              "      <th>268</th>\n",
              "      <td>2022-01-03</td>\n",
              "      <td>1.13648</td>\n",
              "      <td>1.13786</td>\n",
              "      <td>1.12796</td>\n",
              "      <td>1.12974</td>\n",
              "      <td>-0.60</td>\n",
              "      <td>1.135344</td>\n",
              "      <td>1.0</td>\n",
              "    </tr>\n",
              "  </tbody>\n",
              "</table>\n",
              "<p>269 rows × 8 columns</p>\n",
              "</div>\n",
              "      <button class=\"colab-df-convert\" onclick=\"convertToInteractive('df-a9d23849-ac6d-42b7-8bcb-56defa7ac641')\"\n",
              "              title=\"Convert this dataframe to an interactive table.\"\n",
              "              style=\"display:none;\">\n",
              "        \n",
              "  <svg xmlns=\"http://www.w3.org/2000/svg\" height=\"24px\"viewBox=\"0 0 24 24\"\n",
              "       width=\"24px\">\n",
              "    <path d=\"M0 0h24v24H0V0z\" fill=\"none\"/>\n",
              "    <path d=\"M18.56 5.44l.94 2.06.94-2.06 2.06-.94-2.06-.94-.94-2.06-.94 2.06-2.06.94zm-11 1L8.5 8.5l.94-2.06 2.06-.94-2.06-.94L8.5 2.5l-.94 2.06-2.06.94zm10 10l.94 2.06.94-2.06 2.06-.94-2.06-.94-.94-2.06-.94 2.06-2.06.94z\"/><path d=\"M17.41 7.96l-1.37-1.37c-.4-.4-.92-.59-1.43-.59-.52 0-1.04.2-1.43.59L10.3 9.45l-7.72 7.72c-.78.78-.78 2.05 0 2.83L4 21.41c.39.39.9.59 1.41.59.51 0 1.02-.2 1.41-.59l7.78-7.78 2.81-2.81c.8-.78.8-2.07 0-2.86zM5.41 20L4 18.59l7.72-7.72 1.47 1.35L5.41 20z\"/>\n",
              "  </svg>\n",
              "      </button>\n",
              "      \n",
              "  <style>\n",
              "    .colab-df-container {\n",
              "      display:flex;\n",
              "      flex-wrap:wrap;\n",
              "      gap: 12px;\n",
              "    }\n",
              "\n",
              "    .colab-df-convert {\n",
              "      background-color: #E8F0FE;\n",
              "      border: none;\n",
              "      border-radius: 50%;\n",
              "      cursor: pointer;\n",
              "      display: none;\n",
              "      fill: #1967D2;\n",
              "      height: 32px;\n",
              "      padding: 0 0 0 0;\n",
              "      width: 32px;\n",
              "    }\n",
              "\n",
              "    .colab-df-convert:hover {\n",
              "      background-color: #E2EBFA;\n",
              "      box-shadow: 0px 1px 2px rgba(60, 64, 67, 0.3), 0px 1px 3px 1px rgba(60, 64, 67, 0.15);\n",
              "      fill: #174EA6;\n",
              "    }\n",
              "\n",
              "    [theme=dark] .colab-df-convert {\n",
              "      background-color: #3B4455;\n",
              "      fill: #D2E3FC;\n",
              "    }\n",
              "\n",
              "    [theme=dark] .colab-df-convert:hover {\n",
              "      background-color: #434B5C;\n",
              "      box-shadow: 0px 1px 3px 1px rgba(0, 0, 0, 0.15);\n",
              "      filter: drop-shadow(0px 1px 2px rgba(0, 0, 0, 0.3));\n",
              "      fill: #FFFFFF;\n",
              "    }\n",
              "  </style>\n",
              "\n",
              "      <script>\n",
              "        const buttonEl =\n",
              "          document.querySelector('#df-a9d23849-ac6d-42b7-8bcb-56defa7ac641 button.colab-df-convert');\n",
              "        buttonEl.style.display =\n",
              "          google.colab.kernel.accessAllowed ? 'block' : 'none';\n",
              "\n",
              "        async function convertToInteractive(key) {\n",
              "          const element = document.querySelector('#df-a9d23849-ac6d-42b7-8bcb-56defa7ac641');\n",
              "          const dataTable =\n",
              "            await google.colab.kernel.invokeFunction('convertToInteractive',\n",
              "                                                     [key], {});\n",
              "          if (!dataTable) return;\n",
              "\n",
              "          const docLinkHtml = 'Like what you see? Visit the ' +\n",
              "            '<a target=\"_blank\" href=https://colab.research.google.com/notebooks/data_table.ipynb>data table notebook</a>'\n",
              "            + ' to learn more about interactive tables.';\n",
              "          element.innerHTML = '';\n",
              "          dataTable['output_type'] = 'display_data';\n",
              "          await google.colab.output.renderOutput(dataTable, element);\n",
              "          const docLink = document.createElement('div');\n",
              "          docLink.innerHTML = docLinkHtml;\n",
              "          element.appendChild(docLink);\n",
              "        }\n",
              "      </script>\n",
              "    </div>\n",
              "  </div>\n",
              "  "
            ]
          },
          "metadata": {},
          "execution_count": 8
        }
      ]
    },
    {
      "cell_type": "code",
      "source": [
        "# Retrocedendo variável Movimento para o dia anterior:\n",
        "df.Movimento = df.Movimento.shift(-1)\n"
      ],
      "metadata": {
        "id": "rm-O2XKqxONG"
      },
      "execution_count": 9,
      "outputs": []
    },
    {
      "cell_type": "code",
      "source": [
        "# Removento linhas em branco/NaN\n",
        "df.dropna(inplace=True, axis=0)\n",
        "\n",
        "df"
      ],
      "metadata": {
        "colab": {
          "base_uri": "https://localhost:8080/",
          "height": 0
        },
        "id": "uIOqikTuyatU",
        "outputId": "6bbfbd73-9355-436f-911c-3debdc03cafd"
      },
      "execution_count": 10,
      "outputs": [
        {
          "output_type": "execute_result",
          "data": {
            "text/plain": [
              "          Date     Open     High      Low    Close  Change(%)    Med_14  \\\n",
              "13  2022-12-27  1.06353  1.06695  1.06115  1.06388       0.03  1.067834   \n",
              "14  2022-12-23  1.05917  1.06330  1.05866  1.06205       0.27  1.066323   \n",
              "15  2022-12-22  1.06036  1.06597  1.05734  1.05983      -0.05  1.064521   \n",
              "16  2022-12-21  1.06180  1.06453  1.05900  1.06034      -0.14  1.063428   \n",
              "17  2022-12-20  1.06034  1.06584  1.05787  1.06240       0.19  1.062641   \n",
              "..         ...      ...      ...      ...      ...        ...       ...   \n",
              "263 2022-01-10  1.13555  1.13604  1.12851  1.13278      -0.24  1.133898   \n",
              "264 2022-01-07  1.12950  1.13646  1.12898  1.13592       0.57  1.135434   \n",
              "265 2022-01-06  1.13109  1.13318  1.12847  1.12982      -0.11  1.135840   \n",
              "266 2022-01-05  1.12841  1.13465  1.12771  1.13125       0.25  1.135919   \n",
              "267 2022-01-04  1.12952  1.13226  1.12724  1.12878      -0.07  1.135659   \n",
              "\n",
              "     Movimento  \n",
              "13         0.0  \n",
              "14         0.0  \n",
              "15         1.0  \n",
              "16         1.0  \n",
              "17         0.0  \n",
              "..         ...  \n",
              "263        1.0  \n",
              "264        0.0  \n",
              "265        1.0  \n",
              "266        0.0  \n",
              "267        1.0  \n",
              "\n",
              "[255 rows x 8 columns]"
            ],
            "text/html": [
              "\n",
              "  <div id=\"df-68563327-0df3-4bf2-97b7-3e94e20dc986\">\n",
              "    <div class=\"colab-df-container\">\n",
              "      <div>\n",
              "<style scoped>\n",
              "    .dataframe tbody tr th:only-of-type {\n",
              "        vertical-align: middle;\n",
              "    }\n",
              "\n",
              "    .dataframe tbody tr th {\n",
              "        vertical-align: top;\n",
              "    }\n",
              "\n",
              "    .dataframe thead th {\n",
              "        text-align: right;\n",
              "    }\n",
              "</style>\n",
              "<table border=\"1\" class=\"dataframe\">\n",
              "  <thead>\n",
              "    <tr style=\"text-align: right;\">\n",
              "      <th></th>\n",
              "      <th>Date</th>\n",
              "      <th>Open</th>\n",
              "      <th>High</th>\n",
              "      <th>Low</th>\n",
              "      <th>Close</th>\n",
              "      <th>Change(%)</th>\n",
              "      <th>Med_14</th>\n",
              "      <th>Movimento</th>\n",
              "    </tr>\n",
              "  </thead>\n",
              "  <tbody>\n",
              "    <tr>\n",
              "      <th>13</th>\n",
              "      <td>2022-12-27</td>\n",
              "      <td>1.06353</td>\n",
              "      <td>1.06695</td>\n",
              "      <td>1.06115</td>\n",
              "      <td>1.06388</td>\n",
              "      <td>0.03</td>\n",
              "      <td>1.067834</td>\n",
              "      <td>0.0</td>\n",
              "    </tr>\n",
              "    <tr>\n",
              "      <th>14</th>\n",
              "      <td>2022-12-23</td>\n",
              "      <td>1.05917</td>\n",
              "      <td>1.06330</td>\n",
              "      <td>1.05866</td>\n",
              "      <td>1.06205</td>\n",
              "      <td>0.27</td>\n",
              "      <td>1.066323</td>\n",
              "      <td>0.0</td>\n",
              "    </tr>\n",
              "    <tr>\n",
              "      <th>15</th>\n",
              "      <td>2022-12-22</td>\n",
              "      <td>1.06036</td>\n",
              "      <td>1.06597</td>\n",
              "      <td>1.05734</td>\n",
              "      <td>1.05983</td>\n",
              "      <td>-0.05</td>\n",
              "      <td>1.064521</td>\n",
              "      <td>1.0</td>\n",
              "    </tr>\n",
              "    <tr>\n",
              "      <th>16</th>\n",
              "      <td>2022-12-21</td>\n",
              "      <td>1.06180</td>\n",
              "      <td>1.06453</td>\n",
              "      <td>1.05900</td>\n",
              "      <td>1.06034</td>\n",
              "      <td>-0.14</td>\n",
              "      <td>1.063428</td>\n",
              "      <td>1.0</td>\n",
              "    </tr>\n",
              "    <tr>\n",
              "      <th>17</th>\n",
              "      <td>2022-12-20</td>\n",
              "      <td>1.06034</td>\n",
              "      <td>1.06584</td>\n",
              "      <td>1.05787</td>\n",
              "      <td>1.06240</td>\n",
              "      <td>0.19</td>\n",
              "      <td>1.062641</td>\n",
              "      <td>0.0</td>\n",
              "    </tr>\n",
              "    <tr>\n",
              "      <th>...</th>\n",
              "      <td>...</td>\n",
              "      <td>...</td>\n",
              "      <td>...</td>\n",
              "      <td>...</td>\n",
              "      <td>...</td>\n",
              "      <td>...</td>\n",
              "      <td>...</td>\n",
              "      <td>...</td>\n",
              "    </tr>\n",
              "    <tr>\n",
              "      <th>263</th>\n",
              "      <td>2022-01-10</td>\n",
              "      <td>1.13555</td>\n",
              "      <td>1.13604</td>\n",
              "      <td>1.12851</td>\n",
              "      <td>1.13278</td>\n",
              "      <td>-0.24</td>\n",
              "      <td>1.133898</td>\n",
              "      <td>1.0</td>\n",
              "    </tr>\n",
              "    <tr>\n",
              "      <th>264</th>\n",
              "      <td>2022-01-07</td>\n",
              "      <td>1.12950</td>\n",
              "      <td>1.13646</td>\n",
              "      <td>1.12898</td>\n",
              "      <td>1.13592</td>\n",
              "      <td>0.57</td>\n",
              "      <td>1.135434</td>\n",
              "      <td>0.0</td>\n",
              "    </tr>\n",
              "    <tr>\n",
              "      <th>265</th>\n",
              "      <td>2022-01-06</td>\n",
              "      <td>1.13109</td>\n",
              "      <td>1.13318</td>\n",
              "      <td>1.12847</td>\n",
              "      <td>1.12982</td>\n",
              "      <td>-0.11</td>\n",
              "      <td>1.135840</td>\n",
              "      <td>1.0</td>\n",
              "    </tr>\n",
              "    <tr>\n",
              "      <th>266</th>\n",
              "      <td>2022-01-05</td>\n",
              "      <td>1.12841</td>\n",
              "      <td>1.13465</td>\n",
              "      <td>1.12771</td>\n",
              "      <td>1.13125</td>\n",
              "      <td>0.25</td>\n",
              "      <td>1.135919</td>\n",
              "      <td>0.0</td>\n",
              "    </tr>\n",
              "    <tr>\n",
              "      <th>267</th>\n",
              "      <td>2022-01-04</td>\n",
              "      <td>1.12952</td>\n",
              "      <td>1.13226</td>\n",
              "      <td>1.12724</td>\n",
              "      <td>1.12878</td>\n",
              "      <td>-0.07</td>\n",
              "      <td>1.135659</td>\n",
              "      <td>1.0</td>\n",
              "    </tr>\n",
              "  </tbody>\n",
              "</table>\n",
              "<p>255 rows × 8 columns</p>\n",
              "</div>\n",
              "      <button class=\"colab-df-convert\" onclick=\"convertToInteractive('df-68563327-0df3-4bf2-97b7-3e94e20dc986')\"\n",
              "              title=\"Convert this dataframe to an interactive table.\"\n",
              "              style=\"display:none;\">\n",
              "        \n",
              "  <svg xmlns=\"http://www.w3.org/2000/svg\" height=\"24px\"viewBox=\"0 0 24 24\"\n",
              "       width=\"24px\">\n",
              "    <path d=\"M0 0h24v24H0V0z\" fill=\"none\"/>\n",
              "    <path d=\"M18.56 5.44l.94 2.06.94-2.06 2.06-.94-2.06-.94-.94-2.06-.94 2.06-2.06.94zm-11 1L8.5 8.5l.94-2.06 2.06-.94-2.06-.94L8.5 2.5l-.94 2.06-2.06.94zm10 10l.94 2.06.94-2.06 2.06-.94-2.06-.94-.94-2.06-.94 2.06-2.06.94z\"/><path d=\"M17.41 7.96l-1.37-1.37c-.4-.4-.92-.59-1.43-.59-.52 0-1.04.2-1.43.59L10.3 9.45l-7.72 7.72c-.78.78-.78 2.05 0 2.83L4 21.41c.39.39.9.59 1.41.59.51 0 1.02-.2 1.41-.59l7.78-7.78 2.81-2.81c.8-.78.8-2.07 0-2.86zM5.41 20L4 18.59l7.72-7.72 1.47 1.35L5.41 20z\"/>\n",
              "  </svg>\n",
              "      </button>\n",
              "      \n",
              "  <style>\n",
              "    .colab-df-container {\n",
              "      display:flex;\n",
              "      flex-wrap:wrap;\n",
              "      gap: 12px;\n",
              "    }\n",
              "\n",
              "    .colab-df-convert {\n",
              "      background-color: #E8F0FE;\n",
              "      border: none;\n",
              "      border-radius: 50%;\n",
              "      cursor: pointer;\n",
              "      display: none;\n",
              "      fill: #1967D2;\n",
              "      height: 32px;\n",
              "      padding: 0 0 0 0;\n",
              "      width: 32px;\n",
              "    }\n",
              "\n",
              "    .colab-df-convert:hover {\n",
              "      background-color: #E2EBFA;\n",
              "      box-shadow: 0px 1px 2px rgba(60, 64, 67, 0.3), 0px 1px 3px 1px rgba(60, 64, 67, 0.15);\n",
              "      fill: #174EA6;\n",
              "    }\n",
              "\n",
              "    [theme=dark] .colab-df-convert {\n",
              "      background-color: #3B4455;\n",
              "      fill: #D2E3FC;\n",
              "    }\n",
              "\n",
              "    [theme=dark] .colab-df-convert:hover {\n",
              "      background-color: #434B5C;\n",
              "      box-shadow: 0px 1px 3px 1px rgba(0, 0, 0, 0.15);\n",
              "      filter: drop-shadow(0px 1px 2px rgba(0, 0, 0, 0.3));\n",
              "      fill: #FFFFFF;\n",
              "    }\n",
              "  </style>\n",
              "\n",
              "      <script>\n",
              "        const buttonEl =\n",
              "          document.querySelector('#df-68563327-0df3-4bf2-97b7-3e94e20dc986 button.colab-df-convert');\n",
              "        buttonEl.style.display =\n",
              "          google.colab.kernel.accessAllowed ? 'block' : 'none';\n",
              "\n",
              "        async function convertToInteractive(key) {\n",
              "          const element = document.querySelector('#df-68563327-0df3-4bf2-97b7-3e94e20dc986');\n",
              "          const dataTable =\n",
              "            await google.colab.kernel.invokeFunction('convertToInteractive',\n",
              "                                                     [key], {});\n",
              "          if (!dataTable) return;\n",
              "\n",
              "          const docLinkHtml = 'Like what you see? Visit the ' +\n",
              "            '<a target=\"_blank\" href=https://colab.research.google.com/notebooks/data_table.ipynb>data table notebook</a>'\n",
              "            + ' to learn more about interactive tables.';\n",
              "          element.innerHTML = '';\n",
              "          dataTable['output_type'] = 'display_data';\n",
              "          await google.colab.output.renderOutput(dataTable, element);\n",
              "          const docLink = document.createElement('div');\n",
              "          docLink.innerHTML = docLinkHtml;\n",
              "          element.appendChild(docLink);\n",
              "        }\n",
              "      </script>\n",
              "    </div>\n",
              "  </div>\n",
              "  "
            ]
          },
          "metadata": {},
          "execution_count": 10
        }
      ]
    },
    {
      "cell_type": "markdown",
      "source": [
        "Terminamos nossa analise com 255 linhas e 8 colunas para usarmos no treinamento e aferição do nosso modelo."
      ],
      "metadata": {
        "id": "IbLHmCYmytHU"
      }
    },
    {
      "cell_type": "markdown",
      "source": [
        "# 4º Passo - Treinamento do modelo\n",
        "\n",
        "Aqui é aonde a brincadeira começa! Vamos importar um modelo de Machine Learning baseado em Regressão Linear, vamos treiná-lo para então aferir sua precisão.\n",
        "\n",
        "Não darei muita atenção para as configurações do modelo, tentarei de forma breve somente descrever as ações nos comentários de cada célula de código."
      ],
      "metadata": {
        "id": "npC_CpmnyF41"
      }
    },
    {
      "cell_type": "code",
      "source": [
        "# Importando bibliotecas\n",
        "from sklearn.model_selection import train_test_split\n",
        "from sklearn.model_selection import cross_val_score\n",
        "from sklearn.preprocessing import MinMaxScaler\n",
        "from sklearn.linear_model import LogisticRegression\n",
        "from sklearn.pipeline import Pipeline\n",
        "from sklearn.model_selection import cross_val_score\n",
        "\n",
        "# Separando dados para o modelo:\n",
        "X = df.drop(columns=['Date','Movimento'], axis=1)\n",
        "y = df['Movimento'].values\n",
        "\n",
        "# Deixandos dados em mesma escala\n",
        "scaler = MinMaxScaler().fit(X)\n",
        "features_scale = scaler.transform(X)\n",
        "\n",
        "# Separado os dados em conjunto de treino e teste\n",
        "Xtrain, Xtest, ytrain, ytest=train_test_split(features_scale, y, test_size=0.5, random_state = 42,shuffle=False)\n",
        "\n",
        "# Declarando e treinando modelo\n",
        "LR = LogisticRegression(C=0.5,fit_intercept=True,penalty='l1',solver='saga')\n",
        "LR.fit(Xtrain, ytrain)\n",
        "scores = cross_val_score(LR, Xtrain, ytrain, cv=5)\n",
        "\n",
        "for n in scores:\n",
        "  print('Nota: ', round(n*100),'%')\n",
        "print(f'Acurária do modelo: {round(scores.mean()*100,2)}% (+/- {round(scores.std()*2*100,2)}%)\\n')\n"
      ],
      "metadata": {
        "colab": {
          "base_uri": "https://localhost:8080/"
        },
        "id": "QeGAEtjKP81v",
        "outputId": "bd31ea11-8222-435a-e9a2-82db3acae55a"
      },
      "execution_count": 139,
      "outputs": [
        {
          "output_type": "stream",
          "name": "stdout",
          "text": [
            "Nota:  92 %\n",
            "Nota:  92 %\n",
            "Nota:  96 %\n",
            "Nota:  96 %\n",
            "Nota:  88 %\n",
            "Acurária do modelo: 92.92% (+/- 5.93%)\n",
            "\n"
          ]
        }
      ]
    },
    {
      "cell_type": "markdown",
      "source": [
        "Já treinamos nosso modelo, com os dados de teste ele apresentou uma acurária de 97,04%, porém será que esse realmente é o valor que ele vai apresentar quando utilizarmos os dados de teste?\n",
        "\n",
        "Vamos conferir a seguir:"
      ],
      "metadata": {
        "id": "6jBirA2JTqUm"
      }
    },
    {
      "cell_type": "code",
      "source": [
        "# Criand o loop para comparação com cada movimento real x previsto\n",
        "\n",
        "for xv,yv in zip(Xtest,ytest):\n",
        "  print(f\"Real {round(yv)} x Previsto {round(LR.predict(xv.reshape(1,-1))[0])} = Resultado {'CORRETO' if yv == LR.predict(xv.reshape(1,-1)) else 'ERRADO'}\")\n",
        "\n"
      ],
      "metadata": {
        "id": "VEvdWIm0Q11_"
      },
      "execution_count": null,
      "outputs": []
    },
    {
      "cell_type": "code",
      "source": [
        "# Tentando converter valores manualmente para input\n",
        "\n",
        "display(X.tail(6))\n",
        "print(df.Movimento.tail(6))\n",
        "y[-6:]"
      ],
      "metadata": {
        "colab": {
          "base_uri": "https://localhost:8080/",
          "height": 383
        },
        "id": "XC-PA68ZdUIV",
        "outputId": "7452d3ea-b80e-4ea3-dbf0-39b2028b416e"
      },
      "execution_count": 135,
      "outputs": [
        {
          "output_type": "display_data",
          "data": {
            "text/plain": [
              "        Open     High      Low    Close  Change(%)    Med_14\n",
              "262  1.13218  1.13753  1.13130  1.13683       0.41  1.132607\n",
              "263  1.13555  1.13604  1.12851  1.13278      -0.24  1.133898\n",
              "264  1.12950  1.13646  1.12898  1.13592       0.57  1.135434\n",
              "265  1.13109  1.13318  1.12847  1.12982      -0.11  1.135840\n",
              "266  1.12841  1.13465  1.12771  1.13125       0.25  1.135919\n",
              "267  1.12952  1.13226  1.12724  1.12878      -0.07  1.135659"
            ],
            "text/html": [
              "\n",
              "  <div id=\"df-8171457e-989e-475a-bee5-a80b207f3b3a\">\n",
              "    <div class=\"colab-df-container\">\n",
              "      <div>\n",
              "<style scoped>\n",
              "    .dataframe tbody tr th:only-of-type {\n",
              "        vertical-align: middle;\n",
              "    }\n",
              "\n",
              "    .dataframe tbody tr th {\n",
              "        vertical-align: top;\n",
              "    }\n",
              "\n",
              "    .dataframe thead th {\n",
              "        text-align: right;\n",
              "    }\n",
              "</style>\n",
              "<table border=\"1\" class=\"dataframe\">\n",
              "  <thead>\n",
              "    <tr style=\"text-align: right;\">\n",
              "      <th></th>\n",
              "      <th>Open</th>\n",
              "      <th>High</th>\n",
              "      <th>Low</th>\n",
              "      <th>Close</th>\n",
              "      <th>Change(%)</th>\n",
              "      <th>Med_14</th>\n",
              "    </tr>\n",
              "  </thead>\n",
              "  <tbody>\n",
              "    <tr>\n",
              "      <th>262</th>\n",
              "      <td>1.13218</td>\n",
              "      <td>1.13753</td>\n",
              "      <td>1.13130</td>\n",
              "      <td>1.13683</td>\n",
              "      <td>0.41</td>\n",
              "      <td>1.132607</td>\n",
              "    </tr>\n",
              "    <tr>\n",
              "      <th>263</th>\n",
              "      <td>1.13555</td>\n",
              "      <td>1.13604</td>\n",
              "      <td>1.12851</td>\n",
              "      <td>1.13278</td>\n",
              "      <td>-0.24</td>\n",
              "      <td>1.133898</td>\n",
              "    </tr>\n",
              "    <tr>\n",
              "      <th>264</th>\n",
              "      <td>1.12950</td>\n",
              "      <td>1.13646</td>\n",
              "      <td>1.12898</td>\n",
              "      <td>1.13592</td>\n",
              "      <td>0.57</td>\n",
              "      <td>1.135434</td>\n",
              "    </tr>\n",
              "    <tr>\n",
              "      <th>265</th>\n",
              "      <td>1.13109</td>\n",
              "      <td>1.13318</td>\n",
              "      <td>1.12847</td>\n",
              "      <td>1.12982</td>\n",
              "      <td>-0.11</td>\n",
              "      <td>1.135840</td>\n",
              "    </tr>\n",
              "    <tr>\n",
              "      <th>266</th>\n",
              "      <td>1.12841</td>\n",
              "      <td>1.13465</td>\n",
              "      <td>1.12771</td>\n",
              "      <td>1.13125</td>\n",
              "      <td>0.25</td>\n",
              "      <td>1.135919</td>\n",
              "    </tr>\n",
              "    <tr>\n",
              "      <th>267</th>\n",
              "      <td>1.12952</td>\n",
              "      <td>1.13226</td>\n",
              "      <td>1.12724</td>\n",
              "      <td>1.12878</td>\n",
              "      <td>-0.07</td>\n",
              "      <td>1.135659</td>\n",
              "    </tr>\n",
              "  </tbody>\n",
              "</table>\n",
              "</div>\n",
              "      <button class=\"colab-df-convert\" onclick=\"convertToInteractive('df-8171457e-989e-475a-bee5-a80b207f3b3a')\"\n",
              "              title=\"Convert this dataframe to an interactive table.\"\n",
              "              style=\"display:none;\">\n",
              "        \n",
              "  <svg xmlns=\"http://www.w3.org/2000/svg\" height=\"24px\"viewBox=\"0 0 24 24\"\n",
              "       width=\"24px\">\n",
              "    <path d=\"M0 0h24v24H0V0z\" fill=\"none\"/>\n",
              "    <path d=\"M18.56 5.44l.94 2.06.94-2.06 2.06-.94-2.06-.94-.94-2.06-.94 2.06-2.06.94zm-11 1L8.5 8.5l.94-2.06 2.06-.94-2.06-.94L8.5 2.5l-.94 2.06-2.06.94zm10 10l.94 2.06.94-2.06 2.06-.94-2.06-.94-.94-2.06-.94 2.06-2.06.94z\"/><path d=\"M17.41 7.96l-1.37-1.37c-.4-.4-.92-.59-1.43-.59-.52 0-1.04.2-1.43.59L10.3 9.45l-7.72 7.72c-.78.78-.78 2.05 0 2.83L4 21.41c.39.39.9.59 1.41.59.51 0 1.02-.2 1.41-.59l7.78-7.78 2.81-2.81c.8-.78.8-2.07 0-2.86zM5.41 20L4 18.59l7.72-7.72 1.47 1.35L5.41 20z\"/>\n",
              "  </svg>\n",
              "      </button>\n",
              "      \n",
              "  <style>\n",
              "    .colab-df-container {\n",
              "      display:flex;\n",
              "      flex-wrap:wrap;\n",
              "      gap: 12px;\n",
              "    }\n",
              "\n",
              "    .colab-df-convert {\n",
              "      background-color: #E8F0FE;\n",
              "      border: none;\n",
              "      border-radius: 50%;\n",
              "      cursor: pointer;\n",
              "      display: none;\n",
              "      fill: #1967D2;\n",
              "      height: 32px;\n",
              "      padding: 0 0 0 0;\n",
              "      width: 32px;\n",
              "    }\n",
              "\n",
              "    .colab-df-convert:hover {\n",
              "      background-color: #E2EBFA;\n",
              "      box-shadow: 0px 1px 2px rgba(60, 64, 67, 0.3), 0px 1px 3px 1px rgba(60, 64, 67, 0.15);\n",
              "      fill: #174EA6;\n",
              "    }\n",
              "\n",
              "    [theme=dark] .colab-df-convert {\n",
              "      background-color: #3B4455;\n",
              "      fill: #D2E3FC;\n",
              "    }\n",
              "\n",
              "    [theme=dark] .colab-df-convert:hover {\n",
              "      background-color: #434B5C;\n",
              "      box-shadow: 0px 1px 3px 1px rgba(0, 0, 0, 0.15);\n",
              "      filter: drop-shadow(0px 1px 2px rgba(0, 0, 0, 0.3));\n",
              "      fill: #FFFFFF;\n",
              "    }\n",
              "  </style>\n",
              "\n",
              "      <script>\n",
              "        const buttonEl =\n",
              "          document.querySelector('#df-8171457e-989e-475a-bee5-a80b207f3b3a button.colab-df-convert');\n",
              "        buttonEl.style.display =\n",
              "          google.colab.kernel.accessAllowed ? 'block' : 'none';\n",
              "\n",
              "        async function convertToInteractive(key) {\n",
              "          const element = document.querySelector('#df-8171457e-989e-475a-bee5-a80b207f3b3a');\n",
              "          const dataTable =\n",
              "            await google.colab.kernel.invokeFunction('convertToInteractive',\n",
              "                                                     [key], {});\n",
              "          if (!dataTable) return;\n",
              "\n",
              "          const docLinkHtml = 'Like what you see? Visit the ' +\n",
              "            '<a target=\"_blank\" href=https://colab.research.google.com/notebooks/data_table.ipynb>data table notebook</a>'\n",
              "            + ' to learn more about interactive tables.';\n",
              "          element.innerHTML = '';\n",
              "          dataTable['output_type'] = 'display_data';\n",
              "          await google.colab.output.renderOutput(dataTable, element);\n",
              "          const docLink = document.createElement('div');\n",
              "          docLink.innerHTML = docLinkHtml;\n",
              "          element.appendChild(docLink);\n",
              "        }\n",
              "      </script>\n",
              "    </div>\n",
              "  </div>\n",
              "  "
            ]
          },
          "metadata": {}
        },
        {
          "output_type": "stream",
          "name": "stdout",
          "text": [
            "262    0.0\n",
            "263    1.0\n",
            "264    0.0\n",
            "265    1.0\n",
            "266    0.0\n",
            "267    1.0\n",
            "Name: Movimento, dtype: float64\n"
          ]
        },
        {
          "output_type": "execute_result",
          "data": {
            "text/plain": [
              "array([0., 1., 0., 1., 0., 1.])"
            ]
          },
          "metadata": {},
          "execution_count": 135
        }
      ]
    },
    {
      "cell_type": "code",
      "source": [
        "\n",
        "i = 0\n",
        "for n in Xtest[-6:]:\n",
        "  print(n)\n",
        "  print(LR.predict(n.reshape(1,-1)), f'REAL {y[-6:][i]}')\n",
        "  print('\\n')\n",
        "  i += 1"
      ],
      "metadata": {
        "colab": {
          "base_uri": "https://localhost:8080/"
        },
        "id": "bWDWr06bdqA9",
        "outputId": "a32a5d8f-b102-4f12-880e-c7bf724c4d9c"
      },
      "execution_count": 143,
      "outputs": [
        {
          "output_type": "stream",
          "name": "stdout",
          "text": [
            "[0.92434369 0.93442623 0.93531579 0.9538908  0.53825137 0.96762044]\n",
            "[0.] REAL 0.0\n",
            "\n",
            "\n",
            "[0.94236219 0.92625692 0.92063158 0.93212597 0.36065574 0.97557123]\n",
            "[1.] REAL 1.0\n",
            "\n",
            "\n",
            "[0.91001444 0.92855968 0.92310526 0.94900043 0.58196721 0.98503122]\n",
            "[0.] REAL 0.0\n",
            "\n",
            "\n",
            "[0.91851575 0.91057624 0.92042105 0.91621883 0.39617486 0.98753481]\n",
            "[1.] REAL 1.0\n",
            "\n",
            "\n",
            "[0.90418649 0.91863589 0.91642105 0.9239037  0.49453552 0.98802321]\n",
            "[0.] REAL 0.0\n",
            "\n",
            "\n",
            "[0.91012137 0.9055321  0.91394737 0.91062984 0.40710383 0.98642162]\n",
            "[1.] REAL 1.0\n",
            "\n",
            "\n"
          ]
        }
      ]
    },
    {
      "cell_type": "markdown",
      "source": [
        "Formula que calcula Min_Max_Scaler:\n",
        "\n",
        "<img src='https://external-content.duckduckgo.com/iu/?u=https%3A%2F%2Fandroidkt.com%2Fwp-content%2Fuploads%2F2020%2F10%2FSelection_060.png&f=1&nofb=1&ipt=6635fa543a8577abc160769933efe4231b50c0d6d8d3c98d7b909cb23a264306&ipo=images' width='500'>"
      ],
      "metadata": {
        "id": "qi7_cr1veP88"
      }
    },
    {
      "cell_type": "code",
      "source": [
        "import numpy as np\n",
        "\n",
        "value = 1.12841\n",
        "\n",
        "def get_scaler(value_ref,column_name):\n",
        "  print('MAX = ',max(X.Open.values))\n",
        "  print('MIN = ',min(X.Open.values))\n",
        "  return ((value_ref - min(X[str(column_name)].values)) / (max(X[str(column_name)].values) - min(X[str(column_name)].values)))\n",
        "\n",
        "get_scaler(value,'Open')"
      ],
      "metadata": {
        "colab": {
          "base_uri": "https://localhost:8080/"
        },
        "id": "gcWd85uwd1rs",
        "outputId": "3a516dc6-8e39-4889-a433-939383bc39bd"
      },
      "execution_count": 129,
      "outputs": [
        {
          "output_type": "stream",
          "name": "stdout",
          "text": [
            "MAX =  1.14633\n",
            "MIN =  0.9593\n"
          ]
        },
        {
          "output_type": "execute_result",
          "data": {
            "text/plain": [
              "0.9041864941453235"
            ]
          },
          "metadata": {},
          "execution_count": 129
        }
      ]
    },
    {
      "cell_type": "code",
      "source": [
        "tra = scaler.transform(X.tail(2)[:1])"
      ],
      "metadata": {
        "id": "-dhz4Obdg04G"
      },
      "execution_count": 97,
      "outputs": []
    },
    {
      "cell_type": "code",
      "source": [
        "features_scale[-2:]"
      ],
      "metadata": {
        "colab": {
          "base_uri": "https://localhost:8080/"
        },
        "id": "9e5uJupgg6Vr",
        "outputId": "f2c96dd9-cdf3-4101-af56-c1d20303f99c"
      },
      "execution_count": 131,
      "outputs": [
        {
          "output_type": "execute_result",
          "data": {
            "text/plain": [
              "array([[0.90418649, 0.91863589, 0.91642105, 0.9239037 , 0.49453552,\n",
              "        0.98802321],\n",
              "       [0.91012137, 0.9055321 , 0.91394737, 0.91062984, 0.40710383,\n",
              "        0.98642162]])"
            ]
          },
          "metadata": {},
          "execution_count": 131
        }
      ]
    },
    {
      "cell_type": "code",
      "source": [
        "Xtest[-2:]"
      ],
      "metadata": {
        "colab": {
          "base_uri": "https://localhost:8080/"
        },
        "id": "MXaCebuDiE7c",
        "outputId": "9e17c036-23c1-428f-a4b6-774671c473b0"
      },
      "execution_count": 130,
      "outputs": [
        {
          "output_type": "execute_result",
          "data": {
            "text/plain": [
              "array([[0.81494947, 0.79538352, 0.78836842, 0.79127257, 0.29781421,\n",
              "        0.75979549],\n",
              "       [0.63829332, 0.65579253, 0.65689474, 0.67761178, 0.59562842,\n",
              "        0.53481496]])"
            ]
          },
          "metadata": {},
          "execution_count": 130
        }
      ]
    }
  ]
}