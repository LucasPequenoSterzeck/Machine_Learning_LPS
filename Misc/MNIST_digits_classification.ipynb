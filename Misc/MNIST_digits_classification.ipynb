{
  "nbformat": 4,
  "nbformat_minor": 0,
  "metadata": {
    "colab": {
      "provenance": [],
      "authorship_tag": "ABX9TyMj3UZQZkfqoSMCRsDsEKYV",
      "include_colab_link": true
    },
    "kernelspec": {
      "name": "python3",
      "display_name": "Python 3"
    },
    "language_info": {
      "name": "python"
    },
    "accelerator": "GPU",
    "gpuClass": "standard"
  },
  "cells": [
    {
      "cell_type": "markdown",
      "metadata": {
        "id": "view-in-github",
        "colab_type": "text"
      },
      "source": [
        "<a href=\"https://colab.research.google.com/github/LucasPequenoSterzeck/Machine_Learning_LPS/blob/main/MNIST_digits_classification.ipynb\" target=\"_parent\"><img src=\"https://colab.research.google.com/assets/colab-badge.svg\" alt=\"Open In Colab\"/></a>"
      ]
    },
    {
      "cell_type": "markdown",
      "source": [
        "Notebook de estudos aplicados ao dataset MNIST digits classification\n",
        "\n",
        "[Referência1](https://www.youtube.com/watch?v=wIR9_aS59jE)\n",
        "\n",
        "[Referência2](https://keras.io/api/datasets/mnist/)\n",
        "\n",
        "[Referência3](https://medium.com/mlearning-ai/mnist-dataset-of-handwritten-digits-f8cf28edafe)"
      ],
      "metadata": {
        "id": "tr4HAhSbo110"
      }
    },
    {
      "cell_type": "code",
      "source": [
        "# Importar\n",
        "import pandas as pd\n",
        "import numpy as np\n",
        "from tqdm.notebook import tqdm\n",
        "from tensorflow.keras.preprocessing.image import img_to_array, load_img\n",
        "import tensorflow as tf\n",
        "import matplotlib.pyplot as plt\n",
        "%matplotlib inline\n",
        "import warnings\n",
        "\n",
        "warnings.filterwarnings('ignore')"
      ],
      "metadata": {
        "id": "Wg9SiuPXo5rs"
      },
      "execution_count": 6,
      "outputs": []
    },
    {
      "cell_type": "code",
      "source": [
        "# dataset\n",
        "(x_train, y_train), (x_test, y_test) = tf.keras.datasets.mnist.load_data()"
      ],
      "metadata": {
        "id": "FJpUBK0opnjT"
      },
      "execution_count": 36,
      "outputs": []
    },
    {
      "cell_type": "code",
      "source": [
        "# Verificando dados de treino\n",
        "print(y_train[2])\n",
        "plt.imshow(x_train[2])"
      ],
      "metadata": {
        "colab": {
          "base_uri": "https://localhost:8080/",
          "height": 302
        },
        "id": "z0xbUULVqAYb",
        "outputId": "b3132b92-c073-4615-e533-75299e1f8c3d"
      },
      "execution_count": 34,
      "outputs": [
        {
          "output_type": "stream",
          "name": "stdout",
          "text": [
            "4\n"
          ]
        },
        {
          "output_type": "execute_result",
          "data": {
            "text/plain": [
              "<matplotlib.image.AxesImage at 0x7fe330294940>"
            ]
          },
          "metadata": {},
          "execution_count": 34
        },
        {
          "output_type": "display_data",
          "data": {
            "text/plain": [
              "<Figure size 432x288 with 1 Axes>"
            ],
            "image/png": "[encoded data removed]"
          },
          "metadata": {
            "needs_background": "light"
          }
        }
      ]
    },
    {
      "cell_type": "code",
      "source": [
        "# Configurando variáveis\n",
        "from tensorflow.keras import utils as np_utils\n",
        "\n",
        "y_train = np_utils.to_categorical(y_train)\n",
        "y_test = np_utils.to_categorical(y_test)\n",
        "\n",
        "X_train = (x_train / 255).reshape(60000, (28*28)).astype('float')\n",
        "X_test = (x_test / 255).reshape(10000, (28*28)).astype('float')"
      ],
      "metadata": {
        "id": "kX-yonkDqfrb"
      },
      "execution_count": 37,
      "outputs": []
    },
    {
      "cell_type": "code",
      "source": [
        "# Verificando formato\n",
        "x_test.shape"
      ],
      "metadata": {
        "colab": {
          "base_uri": "https://localhost:8080/"
        },
        "id": "B2J_quYlrp9c",
        "outputId": "3449f618-c7b8-4841-92a9-368197235393"
      },
      "execution_count": 31,
      "outputs": [
        {
          "output_type": "execute_result",
          "data": {
            "text/plain": [
              "(10000, 28, 28)"
            ]
          },
          "metadata": {},
          "execution_count": 31
        }
      ]
    },
    {
      "cell_type": "markdown",
      "source": [
        "> Variavel de treino com 60 mil amostras\n",
        "\n",
        "> Variavel de teste com 10 mil amostras"
      ],
      "metadata": {
        "id": "Y8qsGzpAsEG8"
      }
    },
    {
      "cell_type": "code",
      "source": [
        "# Separando treino e teste (NÃO PRECISAMOS FAZER DEVIDO MODELO JÁ VIR DIVIDIDO EM TREINO E TESTE\n",
        "# from sklearn.model_selection import train_test_split"
      ],
      "metadata": {
        "id": "deUL1EBvrxET"
      },
      "execution_count": null,
      "outputs": []
    },
    {
      "cell_type": "code",
      "source": [
        "# Criando modelo\n",
        "from tensorflow.keras.layers import Dense\n",
        "\n",
        "model = tf.keras.models.Sequential()\n",
        "\n",
        "model.add(Dense(120, input_dim=(28 * 28), activation='relu'))\n",
        "model.add(Dense(16, activation='relu'))\n",
        "model.add(Dense(16, activation='relu'))\n",
        "model.add(Dense(y_train.shape[1], activation='softmax'))\n",
        "model.compile(optimizer='sgd', loss='categorical_crossentropy', metrics=['acc'])\n",
        "\n",
        "model.fit(X_train, y_train, epochs=15, batch_size=32, validation_data=(X_test, y_test))"
      ],
      "metadata": {
        "colab": {
          "base_uri": "https://localhost:8080/"
        },
        "id": "kYniQli2qTdd",
        "outputId": "1cb3cb27-d5c3-454c-80b3-62e88d422b8b"
      },
      "execution_count": 43,
      "outputs": [
        {
          "output_type": "stream",
          "name": "stdout",
          "text": [
            "Epoch 1/15\n",
            "1875/1875 [==============================] - 6s 3ms/step - loss: 0.8722 - acc: 0.7313 - val_loss: 0.3637 - val_acc: 0.8971\n",
            "Epoch 2/15\n",
            "1875/1875 [==============================] - 6s 3ms/step - loss: 0.3213 - acc: 0.9083 - val_loss: 0.2542 - val_acc: 0.9285\n",
            "Epoch 3/15\n",
            "1875/1875 [==============================] - 5s 3ms/step - loss: 0.2411 - acc: 0.9309 - val_loss: 0.2042 - val_acc: 0.9388\n",
            "Epoch 4/15\n",
            "1875/1875 [==============================] - 6s 3ms/step - loss: 0.1943 - acc: 0.9440 - val_loss: 0.1846 - val_acc: 0.9466\n",
            "Epoch 5/15\n",
            "1875/1875 [==============================] - 5s 3ms/step - loss: 0.1639 - acc: 0.9528 - val_loss: 0.1572 - val_acc: 0.9543\n",
            "Epoch 6/15\n",
            "1875/1875 [==============================] - 6s 3ms/step - loss: 0.1435 - acc: 0.9580 - val_loss: 0.1488 - val_acc: 0.9555\n",
            "Epoch 7/15\n",
            "1875/1875 [==============================] - 5s 3ms/step - loss: 0.1268 - acc: 0.9624 - val_loss: 0.1259 - val_acc: 0.9638\n",
            "Epoch 8/15\n",
            "1875/1875 [==============================] - 5s 3ms/step - loss: 0.1147 - acc: 0.9667 - val_loss: 0.1254 - val_acc: 0.9611\n",
            "Epoch 9/15\n",
            "1875/1875 [==============================] - 6s 3ms/step - loss: 0.1039 - acc: 0.9693 - val_loss: 0.1190 - val_acc: 0.9645\n",
            "Epoch 10/15\n",
            "1875/1875 [==============================] - 5s 3ms/step - loss: 0.0952 - acc: 0.9722 - val_loss: 0.1091 - val_acc: 0.9681\n",
            "Epoch 11/15\n",
            "1875/1875 [==============================] - 6s 3ms/step - loss: 0.0868 - acc: 0.9748 - val_loss: 0.1004 - val_acc: 0.9713\n",
            "Epoch 12/15\n",
            "1875/1875 [==============================] - 5s 3ms/step - loss: 0.0799 - acc: 0.9769 - val_loss: 0.1099 - val_acc: 0.9676\n",
            "Epoch 13/15\n",
            "1875/1875 [==============================] - 7s 4ms/step - loss: 0.0739 - acc: 0.9780 - val_loss: 0.0978 - val_acc: 0.9722\n",
            "Epoch 14/15\n",
            "1875/1875 [==============================] - 6s 3ms/step - loss: 0.0683 - acc: 0.9797 - val_loss: 0.1032 - val_acc: 0.9682\n",
            "Epoch 15/15\n",
            "1875/1875 [==============================] - 6s 3ms/step - loss: 0.0638 - acc: 0.9814 - val_loss: 0.1032 - val_acc: 0.9691\n"
          ]
        },
        {
          "output_type": "execute_result",
          "data": {
            "text/plain": [
              "<keras.callbacks.History at 0x7fe330228fd0>"
            ]
          },
          "metadata": {},
          "execution_count": 43
        }
      ]
    }
  ]
}