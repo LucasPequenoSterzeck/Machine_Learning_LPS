{
  "nbformat": 4,
  "nbformat_minor": 0,
  "metadata": {
    "colab": {
      "provenance": [],
      "authorship_tag": "ABX9TyMOJynC+dP4/vpVaodTZk4V",
      "include_colab_link": true
    },
    "kernelspec": {
      "name": "python3",
      "display_name": "Python 3"
    },
    "language_info": {
      "name": "python"
    }
  },
  "cells": [
    {
      "cell_type": "markdown",
      "metadata": {
        "id": "view-in-github",
        "colab_type": "text"
      },
      "source": [
        "<a href=\"https://colab.research.google.com/github/LucasPequenoSterzeck/Machine_Learning_LPS/blob/main/Exemplos_Classifica%C3%A7%C3%A3o_revisao.ipynb\" target=\"_parent\"><img src=\"https://colab.research.google.com/assets/colab-badge.svg\" alt=\"Open In Colab\"/></a>"
      ]
    },
    {
      "cell_type": "markdown",
      "source": [
        "Revisão do arquiovo Classificação com Scikit learn\n",
        "\n",
        "Material do site https://dadosaocubo.com/classificacao-com-scikit-learn/\n",
        "\n",
        "Utilizado aqui somente como estudo e fixação."
      ],
      "metadata": {
        "id": "caCBMVzoMSK2"
      }
    },
    {
      "cell_type": "markdown",
      "source": [
        "# Classificação\n",
        "\n",
        "> **O que é:** Problemas que envolvem classificação se resumem em uma tarefa de atribuição de classes dado a amostra analisada.\n",
        "\n",
        "> **Exemplo:** Temos fotos de gatos e cachorros, será classificado entre 0 e 1 (Podendo por exempo 1 = Cachorro e 0 = Gato). Se adicionarmos uma terceira possibilidade de animal como Colho, teríamos uma classificação do tipo multiclasse."
      ],
      "metadata": {
        "id": "qQGTCr_vMvEm"
      }
    },
    {
      "cell_type": "markdown",
      "source": [
        "## Um problema classifoc de classificação:\n",
        "\n",
        "Temos um dataset com 3 espécies de flot íris, temos algumas medidas para realizar essa classificação:\n",
        "\n",
        "<img src='https://lh6.googleusercontent.com/DSPcFoGn1tIPsZSuY9NVi1kFHWgpKY-EECtZ_iDhieW7PmRPK8PpV28Hgi2wOLepLLAyY_4poi1KKV8k4NpJa6G-LF_grMOkr_VUmAtz2ltwWIo1uKbyKtHqlGeP4iKG07m_B3FV' width='800'>\n",
        "\n",
        "De acordo com a imagem acima podemos visualizar de uma forma clara a separação entre algumas variáveis. E nesse exemplo já temos a classificação, como podemos então aferir se nosso modelo está performando bem? Vamos conferir a seguir."
      ],
      "metadata": {
        "id": "9Jlmzc-AN6Q2"
      }
    },
    {
      "cell_type": "markdown",
      "source": [
        "# Avaliação do modelo\n",
        "\n",
        "Para realizar a avaliação do modelo temos duas ferramentas:\n",
        "\n",
        "\n",
        "## Matriz de confusão\n",
        "> É uma tabela que representa os acertos e erros de uma classificação, dessa forma é possível realizarmos calculos de performance atravez dos resultados obtidos.\n",
        "\n",
        "<img src='https://lh6.googleusercontent.com/4xdBRkFH8ROwt3OVWnSuUPZ3rQcH_7ll-prXJApIP3kLgjB57Mvq8IMPcFNnXiEwrG8nRXaXF82hOCyMg9iuulKDiaVug_5axKpwYnlfTbsFAt3x20eDwYTCqYQrgyMRQtAVB99U' width='350'>\n",
        "\n",
        "Com base na imagem acima, consideremos que:\n",
        "> Verdadeiros Positivos e Negativos são os acertos do classificador;\n",
        "\n",
        "> Falsos Positivos e Negativos são os erros do classificador.\n",
        "\n",
        "**NOTA_1:** Falso positivo é quando o classificador aponta como positivo, porém o correto é negativo (Erro tipo 1).\n",
        "\n",
        "**NOTA_2:** Falso Negativo é quando o classificador aponta negativo mas o correto seria positivo (Erro tipo 2).\n",
        "\n",
        "As lógicas aplicadas para aferir o modelo são:\n",
        "\n",
        "> **Acurácia** – A acurácia é a proporção das observações classificadas corretas dentre o total de observações.\n",
        "\n",
        "> **Precisão** – A precisão é a proporção das observações positivas classificadas corretamente dentre as observações positivas que foram previstas.\n",
        "\n",
        "> **Recall** – O recall é a proporção das observações positivas classificadas corretamente dentre as observações positivas verdadeiras.\n",
        "\n",
        "> **F1 Score** – O F1 Score é a média harmônica entre precisão e recall.\n",
        "\n",
        "\n",
        "## Curva ROC\n",
        "> (Receiver Operating Characteristic Curve) É uma representação gráfica do desempenho do classificador conforme a seguir.\n",
        "\n",
        "<img src='https://lh4.googleusercontent.com/KPtLFMaUNXp5XsFV0_UEKnbAtWmML3H2oOO7A0kh9V9rqx-8YaIMWEuQBrEFtjP-FwXhv57M6RV_r_6f3plCovijMjOGYlv25gkDma7JB8b8bCCz-l3M_d6J33OTXqisfopAuLCa' width='350'>\n",
        "\n",
        "Em um mundo ideal (que não acontece na realidade) a curva ROC deveria estar na **CLASSIFICAÇÃO PERFEITA**. Acertar todas as observações positivas em 100% (recall = 1) e nunca classificar errado uma observação negativa.\n",
        "\n",
        "Mas no mundo real, com problemas reais, basta a curva ROC estar acima do limite ALEATÓRIO que já temos algo satisfatório. Qualquer ponto seguindo a seta MELHOR é bom? Não é bem assim também, a avaliação de performance depende de cada problema e isso é muito relativo. A curva ROC bem como a matriz de confusão e suas métricas servem para ajudar a se aproximar do modelo ideal para aquele problema."
      ],
      "metadata": {
        "id": "BS9UP0lsO_GO"
      }
    },
    {
      "cell_type": "markdown",
      "source": [
        "# Desbalanceamento dos dados\n",
        "\n",
        "Um problema muito comum em problemas de classificação é ter **uma classe sendo minoritária,** ou seja, ela representa a minoria naquela conjunto de observações.\n",
        "\n",
        "**Exemplo:** temos um classificador que identifica se uma foto é gato ou não em um conjunto de fotos de animais. Porém no nosso conjunto de fotos 97% são fotos de gatos e apenas 3% são outros animais (não gatos). Os classificadores entendem, de forma equivocada, que se ele prever todas as fotos como gato ele vai acertar em 97% das vezes. Gerando uma falsa avaliação de bom desempenho.\n",
        "\n",
        "Para resolver este problema precisamos balancear os dados antes de fazer a classificação. As técnicas mais comuns são através de reamostragem (resampling). Podendo ser feito basicamente de duas formas:\n",
        "\n",
        "> **Undersampling:** Remover dados da classe majoritária;\n",
        "\n",
        "> **Oversampling:** Reamostrar dados da classe minoritária;\n"
      ],
      "metadata": {
        "id": "ZPr_2zFsUQjm"
      }
    },
    {
      "cell_type": "markdown",
      "source": [
        "## Técnica SMOTE (Oversampling)\n",
        "\n",
        "Uma das abordagens para balancear os dados é criar dados sintéticos que preencham a classe minoritária:\n",
        "\n",
        "<img src='https://lh6.googleusercontent.com/Igp6UpH7F5V80J0SKKcQrODJBuy36WFhTFkU2HlKXay1UqIVNG1edgz62mYTUqWCfi66FaWjiCc1Jgb2pdr0YsdHAAD37hmbeaQbxg6wv8djzqqeY82khy8EkaZMQqj1E9tg1Cti'>\n"
      ],
      "metadata": {
        "id": "PUQl_QJiU0u9"
      }
    },
    {
      "cell_type": "markdown",
      "source": [
        "## Técnica NearMISS (Undersampling)\n",
        "\n",
        "Uma outra abordagem é reduzir a classe majoritária, objetivando também um balanceamento dos dados:\n",
        "\n",
        "<img src='https://lh5.googleusercontent.com/HtX91RZ1jZ8iar0JbXvlwUA_htnzpB8UBSnkvLBzK2cYB8fMNdqCvQHOFLpybeQ0eAf7BLeDhcgadn_SJn0K35V4pgIn3-YLEvf7LYfv3Pci1VmdepsuvULRafvNuQfXXxJTCSwn'>"
      ],
      "metadata": {
        "id": "HK8ph4YKVIiM"
      }
    },
    {
      "cell_type": "markdown",
      "source": [
        "# Classificação no python\n",
        "\n",
        "Abaixo será realizada uma classificação em Python"
      ],
      "metadata": {
        "id": "Sm-YPesHVX00"
      }
    },
    {
      "cell_type": "code",
      "execution_count": 1,
      "metadata": {
        "id": "J7d_dqMrMNj5"
      },
      "outputs": [],
      "source": [
        "import pandas as pd\n",
        "import seaborn as sns\n",
        "from sklearn.model_selection import train_test_split\n",
        "from sklearn.linear_model import LogisticRegression\n",
        "from sklearn.neighbors import KNeighborsClassifier\n",
        "from sklearn.tree import DecisionTreeClassifier\n",
        "from sklearn.metrics import classification_report\n",
        "\n",
        "df = sns.load_dataset(\"iris\")\n",
        "\n",
        "X = df.drop(columns='species')\n",
        "y = df.species\n",
        "\n",
        "X_train, X_test, y_train, y_test = train_test_split(X, y, test_size=0.7)"
      ]
    },
    {
      "cell_type": "markdown",
      "source": [
        "## Regressão logística\n",
        "\n",
        "Regressão logística? Mas não estávamos falando sobre classificação? Sim claro, apesar do nome regressão é um algoritmo para problemas de classificação. A regressão logística estima probabilidades para uma observação de acordo com a(s) variável(eis) explicativa(s), ou seja, nossa(s) variável(eis) de entrada. Confere a imagem abaixo.\n",
        "\n"
      ],
      "metadata": {
        "id": "haIFFyESWP0G"
      }
    },
    {
      "cell_type": "code",
      "source": [
        "# Criando modelo e treinando com os dados de treino\n",
        "clr = LogisticRegression()\n",
        "clr.fit(X_train, y_train)\n",
        "# Fazendo a predição nos dados de treino\n",
        "resultado_clr = clr.predict(X_test)"
      ],
      "metadata": {
        "id": "7FBoSIzTWUZd"
      },
      "execution_count": 3,
      "outputs": []
    },
    {
      "cell_type": "code",
      "source": [
        "# Principais métricas de performance\n",
        "print(classification_report(y_test, resultado_clr))"
      ],
      "metadata": {
        "colab": {
          "base_uri": "https://localhost:8080/"
        },
        "id": "JuyXgI1XWWpu",
        "outputId": "9c7f140b-81fc-4b66-fef9-f6fcb8e8338e"
      },
      "execution_count": 4,
      "outputs": [
        {
          "output_type": "stream",
          "name": "stdout",
          "text": [
            "              precision    recall  f1-score   support\n",
            "\n",
            "      setosa       1.00      1.00      1.00        36\n",
            "  versicolor       0.88      0.94      0.91        32\n",
            "   virginica       0.94      0.89      0.92        37\n",
            "\n",
            "    accuracy                           0.94       105\n",
            "   macro avg       0.94      0.94      0.94       105\n",
            "weighted avg       0.94      0.94      0.94       105\n",
            "\n"
          ]
        }
      ]
    },
    {
      "cell_type": "markdown",
      "source": [
        "A função classification_report() disponível nas métricas do scikit-learn trás as principais métricas de performance para modelos de classificação. Como vimos no item 2.1 os 4 principais indicadores de performance acurácia, precisão, recall e o F1 score. Agora vamos ver a matriz de confusão e a curva ROC para o modelo de regressão logística.\n",
        "\n",
        "<img src='https://i0.wp.com/dadosaocubo.com/wp-content/uploads/2020/07/MC_Logistic-4.png?strip=info&w=759&ssl=1' width='500'> <img src='https://i1.wp.com/dadosaocubo.com/wp-content/uploads/2020/07/ROC_logistic-4.png?strip=info&w=742&ssl=1' width='455'>"
      ],
      "metadata": {
        "id": "E-uRZzLVWre9"
      }
    },
    {
      "cell_type": "markdown",
      "source": [
        "# K Nearest Neighbors (KNN)\n",
        "\n",
        "Ou K Vizinho mais próximo (Tradução literal) é um algoritmo que utiliza a distancia euclidiana para classificar as amostras comparando sua distancia entre outras amostras. (Além da euclidiana pode utilizar-sem outras medidas).\n",
        "\n",
        "<img src='https://lh3.googleusercontent.com/Bi9vV2mR9OZv1kE9m9OvtONJsGXunbA8G3Q_W8A_w9SLAk8pCqcM8LijRPtEnA1EYJ6ngwJXV7UDKqNHBNSSX34kbgGBZQy5Vxk4CkDwi6abncv9Cry4yHYfOLdql49zfvvM_aWI' width='400'>\n",
        "\n",
        "A representa o nosso NOVO EXEMPLO que vamos classificar, quadrados azuis são a CLASSE1 e triângulos vermelhos são a CLASSE2. Então temos a DISTÂNCIA para os pontos mais próximos e o NÚMERO DE VIZINHOS que vão ser levados em consideração para classificar. Caso o algoritmo seja configurado como K=1 o NOVO EXEMPLO seria classificado como quadrado azul, mas se for configurado como K=3 o NOVO EXEMPLO seria classificado como triângulo vermelho. Portanto dá para perceber como uma sutil mudança que pode fazer toda a diferença.\n",
        "\n"
      ],
      "metadata": {
        "id": "Gi30T4sdXDG2"
      }
    },
    {
      "cell_type": "markdown",
      "source": [
        "# KNN com python"
      ],
      "metadata": {
        "id": "hBBnQgAnZJJl"
      }
    },
    {
      "cell_type": "code",
      "source": [
        "# Criando modelo e treinando com os dados de treino\n",
        "knn = KNeighborsClassifier()\n",
        "knn.fit(X_train, y_train)\n",
        "# Fazendo a predição nos dados de treino\n",
        "resultado_knn = knn.predict(X_test)"
      ],
      "metadata": {
        "id": "kuNJRYyhZIP-"
      },
      "execution_count": 5,
      "outputs": []
    },
    {
      "cell_type": "code",
      "source": [
        "# Principais métricas de performance\n",
        "print(classification_report(y_test, resultado_knn))"
      ],
      "metadata": {
        "colab": {
          "base_uri": "https://localhost:8080/"
        },
        "id": "Y2ce4oCFb3m2",
        "outputId": "29123e59-22db-4548-e0ed-30131ba982c0"
      },
      "execution_count": 6,
      "outputs": [
        {
          "output_type": "stream",
          "name": "stdout",
          "text": [
            "              precision    recall  f1-score   support\n",
            "\n",
            "      setosa       1.00      1.00      1.00        36\n",
            "  versicolor       0.94      0.94      0.94        32\n",
            "   virginica       0.95      0.95      0.95        37\n",
            "\n",
            "    accuracy                           0.96       105\n",
            "   macro avg       0.96      0.96      0.96       105\n",
            "weighted avg       0.96      0.96      0.96       105\n",
            "\n"
          ]
        }
      ]
    },
    {
      "cell_type": "markdown",
      "source": [
        "A função classification_report() disponível nas métricas do scikit-learn trás as principais métricas de performance para modelos de classificação. Agora vamos ver a matriz de confusão e a curva ROC para o modelo knn.\n",
        "\n",
        "<img src='https://i1.wp.com/dadosaocubo.com/wp-content/uploads/2020/07/MC_knn-1.png?strip=info&w=759&ssl=1' width='455'> <img src='https://i2.wp.com/dadosaocubo.com/wp-content/uploads/2020/07/ROC_knn-1.png?strip=info&w=742&ssl=1' width='415'>\n",
        "\n",
        "Para completar a nossa avaliação a nossa matriz de confusão, uma forma visual para ver os erros e acertos do nosso classificador.\n",
        "\n",
        "E a ameixa do bolo, a curva ROC para finalizar a avaliação do nosso modelo, que podemos ver com todas as métricas até aqui e comparado aos outros modelos seria também uma boa opção."
      ],
      "metadata": {
        "id": "p2E2MEJwb5sm"
      }
    },
    {
      "cell_type": "markdown",
      "source": [
        " # Árvores de decisão / Decision Tree\n",
        "\n",
        " Para finalizar nossos algoritmos hoje, a árvore de decisão, que funciona realmente como uma árvore. Cada galho da árvore se divide em dois até chegar às folhas, que são as decisões da árvore. Vamos ver a figura a seguir para fixar o entendimento.\n",
        "\n",
        "<img src='https://lh3.googleusercontent.com/UrqzWqRQv-Pe53HnJuLO0QHZehEwGCbAHAovDrZX3X56hsbLks1Vhvxnzeo0-KcpoGDYvUQSM1wG9EdSvhAEStV4_t1K751wsxSTItKRm3XxRBZOrdsuKaC7z3BIJMEddkJ4d5M9' width='300'>\n",
        "\n",
        "No exemplo figurado acima, temos duas variáveis de entradas e três classes possíveis como saída. Primeiramente o algoritmo verifica a variável X, caso ela seja menor ou igual a 0 a saída é CLASSE 1. Se a variável X for maior que 0, ele verifica a segunda variável, caso Y seja maior ou igual a 0 a saída é CLASSE 2, mas se Y for menor que 0 a saída será CLASSE 3. Portanto vimos neste simples exemplo de uma forma ilustrada o funcionamento do algoritmo."
      ],
      "metadata": {
        "id": "xqddb6ybcKCF"
      }
    },
    {
      "cell_type": "code",
      "source": [
        "# Criando modelo e treinando com os dados de treino\n",
        "dtc = DecisionTreeClassifier()\n",
        "dtc.fit(X_train, y_train)\n",
        "# Fazendo a predição nos dados de treino\n",
        "resultado_dtc = dtc.predict(X_test)\n",
        "# Principais métricas de performance\n",
        "print(classification_report(y_test, resultado_dtc))"
      ],
      "metadata": {
        "colab": {
          "base_uri": "https://localhost:8080/"
        },
        "id": "mNsKeznGcVVt",
        "outputId": "a4783274-ef3e-4265-b20a-2d7ecc546377"
      },
      "execution_count": 7,
      "outputs": [
        {
          "output_type": "stream",
          "name": "stdout",
          "text": [
            "              precision    recall  f1-score   support\n",
            "\n",
            "      setosa       1.00      1.00      1.00        36\n",
            "  versicolor       0.90      0.88      0.89        32\n",
            "   virginica       0.89      0.92      0.91        37\n",
            "\n",
            "    accuracy                           0.93       105\n",
            "   macro avg       0.93      0.93      0.93       105\n",
            "weighted avg       0.93      0.93      0.93       105\n",
            "\n"
          ]
        }
      ]
    },
    {
      "cell_type": "markdown",
      "source": [
        "A função classification_report() disponível nas métricas do scikit-learn trás as principais métricas de performance para modelos de classificação. Agora vamos ver a matriz de confusão e a curva ROC para o modelo da árvore de decisão.\n",
        "\n",
        "<img src='https://i1.wp.com/dadosaocubo.com/wp-content/uploads/2020/07/MC_arvore.png?strip=info&w=759&ssl=1' width='455'> <img src='https://i2.wp.com/dadosaocubo.com/wp-content/uploads/2020/07/ROC_arvore.png?strip=info&w=742&ssl=1' width='415'>\n",
        "\n",
        "Para completar a nossa avaliação a nossa matriz de confusão, uma forma visual para ver os erros e acertos do nosso classificador."
      ],
      "metadata": {
        "id": "7MZYk6rpcgOF"
      }
    }
  ]
}