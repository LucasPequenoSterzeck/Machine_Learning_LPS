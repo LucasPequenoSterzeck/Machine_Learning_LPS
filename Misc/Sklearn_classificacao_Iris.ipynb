{
  "nbformat": 4,
  "nbformat_minor": 0,
  "metadata": {
    "colab": {
      "provenance": [],
      "authorship_tag": "ABX9TyNkCRY8KrhIoMOHi0xtb5RI",
      "include_colab_link": true
    },
    "kernelspec": {
      "name": "python3",
      "display_name": "Python 3"
    },
    "language_info": {
      "name": "python"
    }
  },
  "cells": [
    {
      "cell_type": "markdown",
      "metadata": {
        "id": "view-in-github",
        "colab_type": "text"
      },
      "source": [
        "<a href=\"https://colab.research.google.com/github/LucasPequenoSterzeck/Machine_Learning_LPS/blob/main/Sklearn_classificacao_Iris.ipynb\" target=\"_parent\"><img src=\"https://colab.research.google.com/assets/colab-badge.svg\" alt=\"Open In Colab\"/></a>"
      ]
    },
    {
      "cell_type": "markdown",
      "source": [
        "Notebook de estudos de classificação de dados utilizando Sklearn, utilizado como fonte de dados e do conteúdo: https://dadosaocubo.com/classificacao-com-scikit-learn/ e também de https://github.com/ronaldolagepessoa/machine-learning/blob/master/classification_01.ipynb\n",
        "\n",
        "Conforme já abordei em outros notebooks o conceito teórico da classficação, nesse realizaremos de forma prática uma análise de classificação, o banco de dados a ser utilizado."
      ],
      "metadata": {
        "id": "fk2aRntm_pQT"
      }
    },
    {
      "cell_type": "markdown",
      "source": [
        "# O que é classificação?\n",
        "\n",
        "De forma breve, a classificação faz parte dos métodos de aprendizado de máquina supervisionado onde buscamos prever classes para um conjunto de dados, fornecendo assim variáveis discretar de saída (y), sendo norteadas pelas de dentrada (X).\n",
        "\n",
        "Exemplo: Temos fotos de gatos e cachorros(X) e queremos que o algorítmo nos diga se a foto corresponde a um gato ou cachorro(y).\n",
        "\n",
        "# Tipos de classificadores:\n",
        "\n",
        "> **Classficador LAZY** (Preguiçoso): Basicamente são classficadores que decoram os dados e realizam o processamento somente no momento da previsão;\n",
        "\n",
        "> **Classificadores EAGER** (Pró-ativos): Aprendem a classificar com os dados de treino e somente tomam a decisão na previsão (Processamento dos dados ocorre no treino).\n",
        "\n",
        "# Classificador KNN (k-nearest neighbors)\n",
        "\n",
        "O classificador KNN faz parte do conjunto de classificadores Lazy. Este, utiliza medidas de distância entre os pontos já classificados e o ponto a ser classificado para teterminar a classe do mesmo, onde o parâmetro conhecido como tamanho da vizinhança estabelece o númmero de pontos próximos considerados"
      ],
      "metadata": {
        "id": "RtnbKQoyCIqj"
      }
    },
    {
      "cell_type": "code",
      "source": [
        "# Instalar as bibliotecas:\n",
        "! pip install pandas\n",
        "! pip install matplotlib\n",
        "! pip install seaborn"
      ],
      "metadata": {
        "id": "gR4EVpxCDz47"
      },
      "execution_count": null,
      "outputs": []
    },
    {
      "cell_type": "code",
      "source": [
        "import pandas as pd\n",
        "import matplotlib.pyplot as plt\n",
        "import seaborn as sns\n",
        "\n",
        "df = sns.load_dataset(\"iris\")\n",
        "df.head()"
      ],
      "metadata": {
        "colab": {
          "base_uri": "https://localhost:8080/",
          "height": 206
        },
        "id": "m1KRyzE-DpJL",
        "outputId": "21048de1-f1d7-4257-d546-d6930323b729"
      },
      "execution_count": 9,
      "outputs": [
        {
          "output_type": "execute_result",
          "data": {
            "text/plain": [
              "   sepal_length  sepal_width  petal_length  petal_width species\n",
              "0           5.1          3.5           1.4          0.2  setosa\n",
              "1           4.9          3.0           1.4          0.2  setosa\n",
              "2           4.7          3.2           1.3          0.2  setosa\n",
              "3           4.6          3.1           1.5          0.2  setosa\n",
              "4           5.0          3.6           1.4          0.2  setosa"
            ],
            "text/html": [
              "\n",
              "  <div id=\"df-c637770b-c0a0-42f5-9e8a-3ba37e4b040a\">\n",
              "    <div class=\"colab-df-container\">\n",
              "      <div>\n",
              "<style scoped>\n",
              "    .dataframe tbody tr th:only-of-type {\n",
              "        vertical-align: middle;\n",
              "    }\n",
              "\n",
              "    .dataframe tbody tr th {\n",
              "        vertical-align: top;\n",
              "    }\n",
              "\n",
              "    .dataframe thead th {\n",
              "        text-align: right;\n",
              "    }\n",
              "</style>\n",
              "<table border=\"1\" class=\"dataframe\">\n",
              "  <thead>\n",
              "    <tr style=\"text-align: right;\">\n",
              "      <th></th>\n",
              "      <th>sepal_length</th>\n",
              "      <th>sepal_width</th>\n",
              "      <th>petal_length</th>\n",
              "      <th>petal_width</th>\n",
              "      <th>species</th>\n",
              "    </tr>\n",
              "  </thead>\n",
              "  <tbody>\n",
              "    <tr>\n",
              "      <th>0</th>\n",
              "      <td>5.1</td>\n",
              "      <td>3.5</td>\n",
              "      <td>1.4</td>\n",
              "      <td>0.2</td>\n",
              "      <td>setosa</td>\n",
              "    </tr>\n",
              "    <tr>\n",
              "      <th>1</th>\n",
              "      <td>4.9</td>\n",
              "      <td>3.0</td>\n",
              "      <td>1.4</td>\n",
              "      <td>0.2</td>\n",
              "      <td>setosa</td>\n",
              "    </tr>\n",
              "    <tr>\n",
              "      <th>2</th>\n",
              "      <td>4.7</td>\n",
              "      <td>3.2</td>\n",
              "      <td>1.3</td>\n",
              "      <td>0.2</td>\n",
              "      <td>setosa</td>\n",
              "    </tr>\n",
              "    <tr>\n",
              "      <th>3</th>\n",
              "      <td>4.6</td>\n",
              "      <td>3.1</td>\n",
              "      <td>1.5</td>\n",
              "      <td>0.2</td>\n",
              "      <td>setosa</td>\n",
              "    </tr>\n",
              "    <tr>\n",
              "      <th>4</th>\n",
              "      <td>5.0</td>\n",
              "      <td>3.6</td>\n",
              "      <td>1.4</td>\n",
              "      <td>0.2</td>\n",
              "      <td>setosa</td>\n",
              "    </tr>\n",
              "  </tbody>\n",
              "</table>\n",
              "</div>\n",
              "      <button class=\"colab-df-convert\" onclick=\"convertToInteractive('df-c637770b-c0a0-42f5-9e8a-3ba37e4b040a')\"\n",
              "              title=\"Convert this dataframe to an interactive table.\"\n",
              "              style=\"display:none;\">\n",
              "        \n",
              "  <svg xmlns=\"http://www.w3.org/2000/svg\" height=\"24px\"viewBox=\"0 0 24 24\"\n",
              "       width=\"24px\">\n",
              "    <path d=\"M0 0h24v24H0V0z\" fill=\"none\"/>\n",
              "    <path d=\"M18.56 5.44l.94 2.06.94-2.06 2.06-.94-2.06-.94-.94-2.06-.94 2.06-2.06.94zm-11 1L8.5 8.5l.94-2.06 2.06-.94-2.06-.94L8.5 2.5l-.94 2.06-2.06.94zm10 10l.94 2.06.94-2.06 2.06-.94-2.06-.94-.94-2.06-.94 2.06-2.06.94z\"/><path d=\"M17.41 7.96l-1.37-1.37c-.4-.4-.92-.59-1.43-.59-.52 0-1.04.2-1.43.59L10.3 9.45l-7.72 7.72c-.78.78-.78 2.05 0 2.83L4 21.41c.39.39.9.59 1.41.59.51 0 1.02-.2 1.41-.59l7.78-7.78 2.81-2.81c.8-.78.8-2.07 0-2.86zM5.41 20L4 18.59l7.72-7.72 1.47 1.35L5.41 20z\"/>\n",
              "  </svg>\n",
              "      </button>\n",
              "      \n",
              "  <style>\n",
              "    .colab-df-container {\n",
              "      display:flex;\n",
              "      flex-wrap:wrap;\n",
              "      gap: 12px;\n",
              "    }\n",
              "\n",
              "    .colab-df-convert {\n",
              "      background-color: #E8F0FE;\n",
              "      border: none;\n",
              "      border-radius: 50%;\n",
              "      cursor: pointer;\n",
              "      display: none;\n",
              "      fill: #1967D2;\n",
              "      height: 32px;\n",
              "      padding: 0 0 0 0;\n",
              "      width: 32px;\n",
              "    }\n",
              "\n",
              "    .colab-df-convert:hover {\n",
              "      background-color: #E2EBFA;\n",
              "      box-shadow: 0px 1px 2px rgba(60, 64, 67, 0.3), 0px 1px 3px 1px rgba(60, 64, 67, 0.15);\n",
              "      fill: #174EA6;\n",
              "    }\n",
              "\n",
              "    [theme=dark] .colab-df-convert {\n",
              "      background-color: #3B4455;\n",
              "      fill: #D2E3FC;\n",
              "    }\n",
              "\n",
              "    [theme=dark] .colab-df-convert:hover {\n",
              "      background-color: #434B5C;\n",
              "      box-shadow: 0px 1px 3px 1px rgba(0, 0, 0, 0.15);\n",
              "      filter: drop-shadow(0px 1px 2px rgba(0, 0, 0, 0.3));\n",
              "      fill: #FFFFFF;\n",
              "    }\n",
              "  </style>\n",
              "\n",
              "      <script>\n",
              "        const buttonEl =\n",
              "          document.querySelector('#df-c637770b-c0a0-42f5-9e8a-3ba37e4b040a button.colab-df-convert');\n",
              "        buttonEl.style.display =\n",
              "          google.colab.kernel.accessAllowed ? 'block' : 'none';\n",
              "\n",
              "        async function convertToInteractive(key) {\n",
              "          const element = document.querySelector('#df-c637770b-c0a0-42f5-9e8a-3ba37e4b040a');\n",
              "          const dataTable =\n",
              "            await google.colab.kernel.invokeFunction('convertToInteractive',\n",
              "                                                     [key], {});\n",
              "          if (!dataTable) return;\n",
              "\n",
              "          const docLinkHtml = 'Like what you see? Visit the ' +\n",
              "            '<a target=\"_blank\" href=https://colab.research.google.com/notebooks/data_table.ipynb>data table notebook</a>'\n",
              "            + ' to learn more about interactive tables.';\n",
              "          element.innerHTML = '';\n",
              "          dataTable['output_type'] = 'display_data';\n",
              "          await google.colab.output.renderOutput(dataTable, element);\n",
              "          const docLink = document.createElement('div');\n",
              "          docLink.innerHTML = docLinkHtml;\n",
              "          element.appendChild(docLink);\n",
              "        }\n",
              "      </script>\n",
              "    </div>\n",
              "  </div>\n",
              "  "
            ]
          },
          "metadata": {},
          "execution_count": 9
        }
      ]
    },
    {
      "cell_type": "code",
      "source": [
        "# Banco de dados perfeitamente distribuido entre os tipos de flor iris\n",
        "df.species.value_counts()"
      ],
      "metadata": {
        "colab": {
          "base_uri": "https://localhost:8080/"
        },
        "id": "JrIZ0hJME-n6",
        "outputId": "580a28b0-f3dd-41fb-9f1f-68a7eb065fa6"
      },
      "execution_count": 20,
      "outputs": [
        {
          "output_type": "execute_result",
          "data": {
            "text/plain": [
              "setosa        50\n",
              "versicolor    50\n",
              "virginica     50\n",
              "Name: species, dtype: int64"
            ]
          },
          "metadata": {},
          "execution_count": 20
        }
      ]
    },
    {
      "cell_type": "markdown",
      "source": [
        "# Sobre o banco de dados utilizado:\n",
        "\n",
        "Estamos utilizando um conjunto de dados denominado \"Iris\" presente na biblioteca seaborn, ele contem dados aonde poderemos prever a espécie do flor iris\n",
        "\n",
        "<img src='https://external-content.duckduckgo.com/iu/?u=https%3A%2F%2Ftse1.mm.bing.net%2Fth%3Fid%3DOIP.TVKg942fOsNbD33Cxz0VFAHaEo%26pid%3DApi&f=1&ipt=54156d45b34689b254a7e95d903b5a30f4cc986097fe31753d821e8a41ff1c18&ipo=images' width='250'>"
      ],
      "metadata": {
        "id": "iKb1fwjyEtTb"
      }
    },
    {
      "cell_type": "code",
      "source": [
        "# Breve visualização para termos uma ideia de dispersão dos dados\n",
        "\n",
        "print('------'*10)\n",
        "plt.figure(figsize=(8, 4))\n",
        "plt.scatter(df[df.species == 'setosa'].sepal_length, df[df.species == 'versicolor'].sepal_width, c='blue')\n",
        "plt.scatter(df[df.species == 'versicolor'].sepal_length, df[df.species == 'setosa'].sepal_width, c='red')\n",
        "plt.xlabel('sepal_length')\n",
        "plt.ylabel('sepal_width')\n",
        "plt.legend(['setosa', 'versicolor'])\n",
        "plt.title('Relação sepal_length x sepal_width para versicolor e setosa')\n",
        "plt.show()\n",
        "print('------'*10)\n",
        "plt.figure(figsize=(8, 4))\n",
        "plt.scatter(df[df.species == 'setosa'].sepal_length, df[df.species == 'virginica'].sepal_width, c='blue')\n",
        "plt.scatter(df[df.species == 'virginica'].sepal_length, df[df.species == 'setosa'].sepal_width, c='green')\n",
        "plt.xlabel('sepal_length')\n",
        "plt.ylabel('sepal_width')\n",
        "plt.legend(['setosa', 'versicolor'])\n",
        "plt.title('Relação sepal_length x sepal_width para virginica e setosa')\n",
        "plt.show()\n",
        "print('------'*10)\n",
        "plt.figure(figsize=(8, 4))\n",
        "plt.scatter(df[df.species == 'versicolor'].sepal_length, df[df.species == 'virginica'].sepal_width, c='green')\n",
        "plt.scatter(df[df.species == 'virginica'].sepal_length, df[df.species == 'versicolor'].sepal_width, c='red')\n",
        "plt.xlabel('sepal_length')\n",
        "plt.ylabel('sepal_width')\n",
        "plt.legend(['setosa', 'versicolor'])\n",
        "plt.title('Relação sepal_length x sepal_width para virginica e versicolor')\n",
        "plt.show()"
      ],
      "metadata": {
        "colab": {
          "base_uri": "https://localhost:8080/",
          "height": 906
        },
        "id": "QHIc-12nEEMD",
        "outputId": "f877c464-6914-47ab-f4b3-f59493646a5e"
      },
      "execution_count": 29,
      "outputs": [
        {
          "output_type": "stream",
          "name": "stdout",
          "text": [
            "------------------------------------------------------------\n"
          ]
        },
        {
          "output_type": "display_data",
          "data": {
            "text/plain": [
              "<Figure size 576x288 with 1 Axes>"
            ],
            "image/png": "[encoded data removed]"
          },
          "metadata": {
            "needs_background": "light"
          }
        },
        {
          "output_type": "stream",
          "name": "stdout",
          "text": [
            "------------------------------------------------------------\n"
          ]
        },
        {
          "output_type": "display_data",
          "data": {
            "text/plain": [
              "<Figure size 576x288 with 1 Axes>"
            ],
            "image/png": "[encoded data removed]"
          },
          "metadata": {
            "needs_background": "light"
          }
        },
        {
          "output_type": "stream",
          "name": "stdout",
          "text": [
            "------------------------------------------------------------\n"
          ]
        },
        {
          "output_type": "display_data",
          "data": {
            "text/plain": [
              "<Figure size 576x288 with 1 Axes>"
            ],
            "image/png": "[encoded data removed]"
          },
          "metadata": {
            "needs_background": "light"
          }
        }
      ]
    },
    {
      "cell_type": "markdown",
      "source": [
        "# Separando inputs e outputs\n",
        "\n",
        "**Variável X** receberá banco de dados inteiro exceto coluna espécie/species\n",
        "\n",
        "**Variável y ** receberá somente coluna espécie/species\n"
      ],
      "metadata": {
        "id": "A94bfsG5HuQS"
      }
    },
    {
      "cell_type": "code",
      "source": [
        "X = df.drop('species', axis=1)\n",
        "y = df.species"
      ],
      "metadata": {
        "id": "dSVojr-XHrVj"
      },
      "execution_count": 31,
      "outputs": []
    },
    {
      "cell_type": "markdown",
      "source": [
        "# Pré processando inputs\n",
        "\n",
        "As variáveis presente no banco de dados precisam passar por um balanceamento de range's denominado \"Z-Score\"\n",
        "\n",
        "Z-Score formula: z = (x – μ)/σ\n",
        "\n",
        "basicamente estamos Normalizando todo o banco de dados para ficarem em escala 0 a 1, nosso objetivo com isso é uma maior acurária do classificador.\n",
        "\n",
        "> Classe **MixMaxScaler** extraída de *sklearn.preprocessing* para realização da normalização dos dados.\n"
      ],
      "metadata": {
        "id": "CWsCr1JlIHSD"
      }
    },
    {
      "cell_type": "code",
      "source": [
        "from sklearn.preprocessing import MinMaxScaler\n",
        "\n",
        "normalizador = MinMaxScaler()\n",
        "X_norm = normalizador.fit_transform(X)\n",
        "X_norm"
      ],
      "metadata": {
        "id": "gNHXSGr4IJyq"
      },
      "execution_count": null,
      "outputs": []
    },
    {
      "cell_type": "markdown",
      "source": [
        "# Realizando classificação\n",
        "\n",
        "Da biblioteca Sklearn utilizaremos:\n",
        "\n",
        "> Classe **KNeighborsClassifier** extraída de *sklearn.neighbors* para realização da classificação dos dados.\n",
        "\n",
        "> Função train_teste_split extraída de *sklearn.model_selection* para a separação do banco de dados train e test.\n",
        "\n",
        "> Função **accuracy_score** extraída de *sklearn.metrics* para encontrar a acurácia do modelo."
      ],
      "metadata": {
        "id": "X3yB7NzwIsBj"
      }
    },
    {
      "cell_type": "code",
      "source": [
        "from sklearn.neighbors import KNeighborsClassifier\n",
        "from sklearn.model_selection import train_test_split\n",
        "from sklearn.metrics import accuracy_score\n",
        "\n",
        "X_train, X_test, y_train, y_test = train_test_split(X_norm, y, test_size=0.33, random_state=42)\n",
        "\n",
        "knn = KNeighborsClassifier(n_neighbors=5)\n",
        "knn.fit(X_train, y_train)\n",
        "\n",
        "accuracy_score(y_test, knn.predict(X_test))"
      ],
      "metadata": {
        "colab": {
          "base_uri": "https://localhost:8080/"
        },
        "id": "87A0DwowIqRS",
        "outputId": "848a8071-ed58-45f4-bccb-416108e1f90f"
      },
      "execution_count": 33,
      "outputs": [
        {
          "output_type": "execute_result",
          "data": {
            "text/plain": [
              "0.98"
            ]
          },
          "metadata": {},
          "execution_count": 33
        }
      ]
    },
    {
      "cell_type": "markdown",
      "source": [
        "# Nossa acurária alcançada foi de 98%!\n",
        "\n",
        "\n",
        "\n"
      ],
      "metadata": {
        "id": "oTbXqEElI3Sx"
      }
    },
    {
      "cell_type": "markdown",
      "source": [
        "# Mas e se não tivessemos padronizado nossos dados com o normalizador/Z-Score?\n",
        "\n",
        "Iremos trocar o X_norm pelo X.\n",
        "\n",
        "Simulando abaixo, vemos que o percentual de precisão seria também de 98%, ou seja, nesse caso a normalização não aumento a nossa eficácia."
      ],
      "metadata": {
        "id": "mFtqrRnDJCmx"
      }
    },
    {
      "cell_type": "code",
      "source": [
        "from sklearn.neighbors import KNeighborsClassifier\n",
        "from sklearn.model_selection import train_test_split\n",
        "from sklearn.metrics import accuracy_score\n",
        "\n",
        "X_train, X_test, y_train, y_test = train_test_split(X, y, test_size=0.33, random_state=42)\n",
        "\n",
        "knn2 = KNeighborsClassifier(n_neighbors=5)\n",
        "knn2.fit(X_train, y_train)\n",
        "\n",
        "accuracy_score(y_test, knn2.predict(X_test))"
      ],
      "metadata": {
        "colab": {
          "base_uri": "https://localhost:8080/"
        },
        "id": "cJ644BUEJD8v",
        "outputId": "116427ec-705e-4b4f-de0b-d46359500ab2"
      },
      "execution_count": 34,
      "outputs": [
        {
          "output_type": "execute_result",
          "data": {
            "text/plain": [
              "0.98"
            ]
          },
          "metadata": {},
          "execution_count": 34
        }
      ]
    }
  ]
}