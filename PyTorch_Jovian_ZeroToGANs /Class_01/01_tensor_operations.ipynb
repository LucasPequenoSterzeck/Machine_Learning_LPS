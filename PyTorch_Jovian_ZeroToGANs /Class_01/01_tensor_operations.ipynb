{
  "cells": [
    {
      "cell_type": "markdown",
      "metadata": {
        "id": "view-in-github",
        "colab_type": "text"
      },
      "source": [
        "<a href=\"https://colab.research.google.com/github/LucasPequenoSterzeck/Machine_Learning_LPS/blob/main/PyTorch_Jovian_ZeroToGANs%20/Class_01/01_tensor_operations.ipynb\" target=\"_parent\"><img src=\"https://colab.research.google.com/assets/colab-badge.svg\" alt=\"Open In Colab\"/></a>"
      ]
    },
    {
      "cell_type": "markdown",
      "metadata": {
        "id": "KAPKjHfofvxH"
      },
      "source": [
        "> ### Assignment Instructions (delete this cell before submission)\n",
        ">\n",
        "> The objective of this assignment is to develop a solid understanding of PyTorch tensors. In this assignment you will:\n",
        ">\n",
        "> 1. Pick 5 interesting functions related to PyTorch tensors by [reading the documentation](https://pytorch.org/docs/stable/torch.html),\n",
        "> 2. Edit this starter template notebook to illustrate their usage and publish your notebook to Jovian using `jovian.commit`. Make sure to add proper explanations too, not just code.\n",
        "> 3. Submit the link to your published notebook on Jovian here: https://jovian.ai/learn/deep-learning-with-pytorch-zero-to-gans/assignment/assignment-1-all-about-torch-tensor .\n",
        "> 4. (Optional) Write a blog post on [Medium](https://medium.com) to accompany and showcase your Jupyter notebook. [Embed cells from your notebook](https://medium.com/@aakashns/share-and-embed-jupyter-notebooks-online-with-jovian-ml-df709a03064e) wherever necessary.\n",
        "> 5. (Optional) [Share your work](https://jovian.ai/forum/t/pytorch-functions-and-tensor-operations/13790) with the community and exchange feedback with other participants\n",
        ">\n",
        ">\n",
        "> The recommended way to run this notebook is to click the \"Run\" button at the top of this page, and select \"Run on Colab\". Run `jovian.commit` regularly to save your progress.\n",
        ">\n",
        "> Try to give your notebook an interesting title e.g. \"All about PyTorch tensor operations\", \"5 PyTorch functions you didn't know you needed\", \"A beginner's guide to Autograd in PyToch\", \"Interesting ways to create PyTorch tensors\", \"Trigonometic functions in PyTorch\", \"How to use PyTorch tensors for Linear Algebra\" etc.\n",
        ">\n",
        "> **IMPORTANT NOTE**: Make sure to submit a Jovian notebook link e.g. https://jovian.ai/aakashns/01-tensor-operations . Colab links will not be accepted.\n",
        ">\n",
        "> Remove this cell containing instructions before making a submission or sharing your notebook, to make it more presentable.\n",
        ">\n",
        "\n"
      ]
    },
    {
      "cell_type": "markdown",
      "metadata": {
        "id": "iokfqjCnfvxK"
      },
      "source": [
        "# Top 5 must now tensor functions\n",
        "\n",
        "An short introduction about PyTorch and about the chosen functions.\n",
        "\n",
        "- TORCH.TENSOR.POW\n",
        "- TORCH.TENSOR.QSCHEME & QUANTIZE_PER_TENSOR\n",
        "- TORCH.TENSOR.RESHAPE\n",
        "- TORCH.TENSOR.ROUND\n",
        "- TORCH.TENSOR.SPLIT\n",
        "\n",
        "Before we begin, let's install and import PyTorch"
      ]
    },
    {
      "cell_type": "code",
      "execution_count": null,
      "metadata": {
        "id": "8hVJQ7-tfvxK"
      },
      "outputs": [],
      "source": [
        "# Uncomment and run the appropriate command for your operating system, if required\n",
        "\n",
        "# Linux / Binder\n",
        "# !pip install numpy torch==1.7.0+cpu torchvision==0.8.1+cpu torchaudio==0.7.0 -f https://download.pytorch.org/whl/torch_stable.html\n",
        "\n",
        "# Windows\n",
        "# !pip install numpy torch==1.7.0+cpu torchvision==0.8.1+cpu torchaudio==0.7.0 -f https://download.pytorch.org/whl/torch_stable.html\n",
        "\n",
        "# MacOS\n",
        "# !pip install numpy torch torchvision torchaudio"
      ]
    },
    {
      "cell_type": "code",
      "execution_count": null,
      "metadata": {
        "id": "Pi7bZuuZfvxL"
      },
      "outputs": [],
      "source": [
        "# Import torch and other required modules\n",
        "import torch"
      ]
    },
    {
      "cell_type": "markdown",
      "metadata": {
        "id": "_W4p2Xx1fvxL"
      },
      "source": [
        "## Function 1 - [TORCH.TENSOR.POW_](https://pytorch.org/docs/stable/generated/torch.Tensor.pow_.html#torch.Tensor.pow_)\n",
        "\n",
        "Tensor.pow_(exponent)\n",
        "\n",
        "In PyTorch, Tensor.pow() and Tensor.pow_() are two different methods for exponentiation.\n",
        "\n",
        "This method returns a new tensor with each element raised to the power of the given exponent.\n",
        "The original tensor remains unchanged.\n",
        "\n",
        "Here's a simple example to illustrate the difference:"
      ]
    },
    {
      "cell_type": "code",
      "execution_count": null,
      "metadata": {
        "colab": {
          "base_uri": "https://localhost:8080/"
        },
        "id": "DyahR3affvxM",
        "outputId": "d91ee4d9-8d6b-46df-d6f1-10514c2fb390"
      },
      "outputs": [
        {
          "output_type": "stream",
          "name": "stdout",
          "text": [
            "Original tensor(tP) in POW function equals = tensor([ 4.,  9., 16.])\n",
            "Original tesnor(tP) without any function equals = tensor([2., 3., 4.])\n"
          ]
        }
      ],
      "source": [
        "tP = torch.tensor([2, 3, 4.])\n",
        "\n",
        "# Example 1 Using Tensor.pow()\n",
        "result = tP.pow(1)\n",
        "print('Original tensor =', tP)\n",
        "print('Tesnor using pow(1) =',tP)\n"
      ]
    },
    {
      "cell_type": "code",
      "source": [
        "\n",
        "# Example 2 Using Tensor.pow() with 2\n",
        "test = torch.tensor([2, 3, 4.]).pow_(2)\n",
        "print('New Tensor with pow(2)= ',test)\n"
      ],
      "metadata": {
        "colab": {
          "base_uri": "https://localhost:8080/"
        },
        "id": "Evv1X0RkiSeU",
        "outputId": "c33683f3-7cb7-44f0-ad59-df9941303a3b"
      },
      "execution_count": null,
      "outputs": [
        {
          "output_type": "stream",
          "name": "stdout",
          "text": [
            "New Tensor with pow(2)=  tensor([ 4.,  9., 16.])\n"
          ]
        }
      ]
    },
    {
      "cell_type": "markdown",
      "metadata": {
        "id": "vTaYmYqsfvxM"
      },
      "source": [
        "Here we use exponencialç multiplication with number 2, so the calculus for each item became like this:\n",
        "\n",
        "2*2 = 4<br>\n",
        "3*3 = 9<br>\n",
        "4*4 = 16<br>"
      ]
    },
    {
      "cell_type": "code",
      "execution_count": null,
      "metadata": {
        "colab": {
          "base_uri": "https://localhost:8080/"
        },
        "id": "nIipub76fvxM",
        "outputId": "e0d157a9-0041-4cf0-9b16-c4ce321aef6b"
      },
      "outputs": [
        {
          "output_type": "stream",
          "name": "stdout",
          "text": [
            "New Tensor with pow(3)=  tensor([ 8., 27., 64.])\n"
          ]
        }
      ],
      "source": [
        "\n",
        "# Example 2 Using Tensor.pow() with 3\n",
        "test = torch.tensor([2, 3, 4.]).pow_(3)\n",
        "print('New Tensor with pow(3)= ',test)\n"
      ]
    },
    {
      "cell_type": "markdown",
      "metadata": {
        "id": "_KkqrpyxfvxN"
      },
      "source": [
        "Here we have a similar aproach, but in this case we use a 3 as expoent, so the calculus become something like this:\n",
        "\n",
        "2*2*2 = 8<br>\n",
        "3*3*3 = 27<br>\n",
        "4*4*4 = 64<br>"
      ]
    },
    {
      "cell_type": "markdown",
      "metadata": {
        "id": "QpTFDBH2fvxN"
      },
      "source": [
        "We see that pow() use a matematical operatian in each item of the tensor."
      ]
    },
    {
      "cell_type": "markdown",
      "metadata": {
        "id": "oNX3cVbhfvxN"
      },
      "source": [
        "Let's save our work using Jovian before continuing."
      ]
    },
    {
      "cell_type": "code",
      "execution_count": null,
      "metadata": {
        "id": "iP1QPb5lfvxN"
      },
      "outputs": [],
      "source": [
        "!pip install jovian --upgrade --quiet"
      ]
    },
    {
      "cell_type": "code",
      "execution_count": null,
      "metadata": {
        "id": "O7Bhq700fvxO"
      },
      "outputs": [],
      "source": [
        "import jovian"
      ]
    },
    {
      "cell_type": "code",
      "execution_count": null,
      "metadata": {
        "id": "TXUs7t-ufvxO",
        "outputId": "b2a08aec-b441-4b60-cce6-49e4092819d1"
      },
      "outputs": [
        {
          "data": {
            "application/javascript": [
              "window.require && require([\"base/js/namespace\"],function(Jupyter){Jupyter.notebook.save_checkpoint()})"
            ],
            "text/plain": [
              "<IPython.core.display.Javascript object>"
            ]
          },
          "metadata": {},
          "output_type": "display_data"
        },
        {
          "name": "stdout",
          "output_type": "stream",
          "text": [
            "[jovian] Attempting to save notebook..\u001b[0m\n",
            "[jovian] Updating notebook \"aakashns/01-tensor-operations\" on https://jovian.ai/\u001b[0m\n",
            "[jovian] Uploading notebook..\u001b[0m\n",
            "[jovian] Capturing environment..\u001b[0m\n",
            "[jovian] Committed successfully! https://jovian.ai/aakashns/01-tensor-operations\u001b[0m\n"
          ]
        },
        {
          "data": {
            "text/plain": [
              "'https://jovian.ai/aakashns/01-tensor-operations'"
            ]
          },
          "execution_count": 15,
          "metadata": {},
          "output_type": "execute_result"
        }
      ],
      "source": [
        "jovian.commit(project='01-tensor-operations')"
      ]
    },
    {
      "cell_type": "markdown",
      "metadata": {
        "id": "ivJs95OcfvxO"
      },
      "source": [
        "## Function 2 - [TORCH.TENSOR.QSCHEME](https://pytorch.org/docs/stable/generated/torch.Tensor.qscheme.html#torch.Tensor.qscheme)\n",
        "\n",
        "Tensor.qscheme() → torch.qscheme\n",
        "\n",
        "Returns the quantization scheme of a given QTensor.\n",
        "\n",
        "Importante Note about this function: The qscheme() method is specifically designed to retrieve the quantization scheme of a quantized tensor (QTensor). In order to use qscheme(), you need to have a tensor that has undergone quantization using PyTorch's quantization functions.\n",
        "\n",
        "So befor we use the QSCHEME() we need to use:\n",
        "## [TORCH.TENSOR.QUANTIZE_PER_TENSOR](https://pytorch.org/docs/stable/generated/torch.quantize_per_tensor.html)\n",
        "The torch.quantize_per_tensor() function is one of the methods available in PyTorch to quantize a tensor. It applies per-tensor quantization by determining a scaling factor (scale) and zero point (zero_point) to represent the tensor's values within a reduced range.\n",
        "> In the practive: torch.quantize_per_tensor just turn each value into INT type"
      ]
    },
    {
      "cell_type": "code",
      "execution_count": null,
      "metadata": {
        "colab": {
          "base_uri": "https://localhost:8080/"
        },
        "id": "fBujlOPHfvxO",
        "outputId": "c94e5199-09b1-4ea2-ca0a-2e5a98200020"
      },
      "outputs": [
        {
          "output_type": "execute_result",
          "data": {
            "text/plain": [
              "tensor([[1., 1.],\n",
              "        [2., 3.],\n",
              "        [5., 4.]], size=(3, 2), dtype=torch.quint8,\n",
              "       quantization_scheme=torch.per_tensor_affine, scale=0.1, zero_point=0)"
            ]
          },
          "metadata": {},
          "execution_count": 17
        }
      ],
      "source": [
        "# Quantize the tensor\n",
        "tA = torch.tensor([[1,0.95],\n",
        "                   [2,2.99],\n",
        "                   [4.99,4.]], requires_grad=True)\n",
        "scale = 0.1\n",
        "zero_point = 0\n",
        "quantized_tensor = torch.quantize_per_tensor(tA, scale, zero_point, dtype=torch.quint8)\n",
        "\n",
        "quantized_tensor"
      ]
    },
    {
      "cell_type": "markdown",
      "metadata": {
        "id": "OB9E1W3-fvxO"
      },
      "source": [
        "**Note:** \"affine\" indicates that the quantization scheme uses an affine transformation to map floating-point values to quantized integer values"
      ]
    },
    {
      "cell_type": "code",
      "execution_count": null,
      "metadata": {
        "colab": {
          "base_uri": "https://localhost:8080/"
        },
        "id": "XYWhg0r2fvxO",
        "outputId": "cf3978b7-2607-4d64-9212-1c3a595b5c86"
      },
      "outputs": [
        {
          "output_type": "stream",
          "name": "stdout",
          "text": [
            "torch.per_tensor_affine\n"
          ]
        }
      ],
      "source": [
        "# Example 1 - using qscheme()\n",
        "qscheme = quantized_tensor.qscheme()\n",
        "print(qscheme)  # Output: torch.per_tensor_affine\n"
      ]
    },
    {
      "cell_type": "markdown",
      "metadata": {
        "id": "E1UI5CRqfvxO"
      },
      "source": [
        "returns the quantization scheme used for the quantized_tensor. Since the output is torch.per_tensor_affine, it means that the tensor is quantized using a per-tensor affine approach with a single scale and zero-point for the entire tensor."
      ]
    },
    {
      "cell_type": "code",
      "execution_count": null,
      "metadata": {
        "colab": {
          "base_uri": "https://localhost:8080/"
        },
        "id": "14PNvOKofvxO",
        "outputId": "5925f832-cf07-4929-ce65-5f0c428bc350"
      },
      "outputs": [
        {
          "output_type": "stream",
          "name": "stdout",
          "text": [
            "This is a per-tensor affine quantized tensor.\n"
          ]
        }
      ],
      "source": [
        "# Example 2 - consulting qscheme\n",
        "\n",
        "# Additional operations based on the quantization scheme\n",
        "if qscheme == torch.per_tensor_affine:\n",
        "    print(\"This is a per-tensor affine quantized tensor.\")\n",
        "elif qscheme == torch.per_channel_affine:\n",
        "    print(\"This is a per-channel affine quantized tensor.\")"
      ]
    },
    {
      "cell_type": "markdown",
      "metadata": {
        "id": "HbGbR7p5fvxO"
      },
      "source": [
        "The **torch.per_tensor_affine** quantization scheme is one of the quantization schemes available in PyTorch. Other schemes like **torch.per_tensor_symmetric** and **torch.per_channel_affine** also exist, and they use different quantization approaches to handle tensors."
      ]
    },
    {
      "cell_type": "code",
      "source": [
        "# Example 3 -\n",
        "x = torch.tensor([0.5, 0.85, 0.9, 3.11])\n",
        "zero_point = 0\n",
        "scale = 1\n",
        "\n",
        "# Quantitize the tensor element-wise\n",
        "quantized_x = torch.round((x - zero_point) / scale)\n",
        "\n",
        "print(quantized_x)"
      ],
      "metadata": {
        "colab": {
          "base_uri": "https://localhost:8080/"
        },
        "id": "fNhYqYcal-TU",
        "outputId": "fe8ed9f2-6e19-4ab4-df81-f63807cfdb31"
      },
      "execution_count": null,
      "outputs": [
        {
          "output_type": "stream",
          "name": "stdout",
          "text": [
            "tensor([0., 1., 1., 3.])\n"
          ]
        }
      ]
    },
    {
      "cell_type": "markdown",
      "source": [
        "The scale value depends on the specific quantization scheme and the range of values you want to represent with the quantized tensor."
      ],
      "metadata": {
        "id": "-74rSEo3l-ak"
      }
    },
    {
      "cell_type": "markdown",
      "metadata": {
        "id": "U-WaDz2NfvxP"
      },
      "source": [
        "Closing comments about when to use this function"
      ]
    },
    {
      "cell_type": "code",
      "execution_count": null,
      "metadata": {
        "id": "RLtKgvWufvxP",
        "outputId": "c6e4d5bf-6f34-4568-b6a7-dcb066e8466e"
      },
      "outputs": [
        {
          "data": {
            "application/javascript": [
              "window.require && require([\"base/js/namespace\"],function(Jupyter){Jupyter.notebook.save_checkpoint()})"
            ],
            "text/plain": [
              "<IPython.core.display.Javascript object>"
            ]
          },
          "metadata": {},
          "output_type": "display_data"
        },
        {
          "name": "stdout",
          "output_type": "stream",
          "text": [
            "[jovian] Attempting to save notebook..\u001b[0m\n",
            "[jovian] Updating notebook \"aakashns/01-tensor-operations\" on https://jovian.ai/\u001b[0m\n",
            "[jovian] Uploading notebook..\u001b[0m\n",
            "[jovian] Capturing environment..\u001b[0m\n",
            "[jovian] Committed successfully! https://jovian.ai/aakashns/01-tensor-operations\u001b[0m\n"
          ]
        },
        {
          "data": {
            "text/plain": [
              "'https://jovian.ai/aakashns/01-tensor-operations'"
            ]
          },
          "execution_count": 16,
          "metadata": {},
          "output_type": "execute_result"
        }
      ],
      "source": [
        "jovian.commit(project='01-tensor-operations')"
      ]
    },
    {
      "cell_type": "markdown",
      "metadata": {
        "id": "wvSmik-FfvxP"
      },
      "source": [
        "## Function 3 - [TORCH.TENSOR.RESHAPE](https://pytorch.org/docs/stable/generated/torch.Tensor.reshape.html#torch.Tensor.reshape)\n",
        "\n",
        "Tensor.reshape(*shape) → Tensor\n",
        "\n",
        "Returns a tensor with the same data and number of elements as self but with the specified shape. This method returns a view if shape is compatible with the current shape. See torch.Tensor.view() on when it is possible to return a view."
      ]
    },
    {
      "cell_type": "code",
      "execution_count": null,
      "metadata": {
        "colab": {
          "base_uri": "https://localhost:8080/"
        },
        "id": "4ZQuPlCefvxP",
        "outputId": "23209877-434a-4168-b3e1-84069f7bef4c"
      },
      "outputs": [
        {
          "output_type": "stream",
          "name": "stdout",
          "text": [
            "This is the original tensor(tA)\n",
            "tensor([[1.0000, 0.9500],\n",
            "        [2.0000, 2.9900],\n",
            "        [4.9900, 4.0000]], requires_grad=True)\n",
            "With Shape: torch.Size([3, 2])\n",
            "\n",
            "This is the new reshaped tensor(tX):\n",
            "tensor([[1.0000, 0.9500, 2.0000],\n",
            "        [2.9900, 4.9900, 4.0000]], grad_fn=<ReshapeAliasBackward0>)\n",
            "With the new shape: torch.Size([2, 3])\n"
          ]
        }
      ],
      "source": [
        "# Example 1 - working\n",
        "\n",
        "tX = tA.reshape([2,3])\n",
        "\n",
        "print(f'This is the original tensor(tA)\\n{tA}\\nWith Shape: {tA.shape}\\n\\nThis is the new reshaped tensor(tX):\\n{tX}\\nWith the new shape: {tX.shape}')"
      ]
    },
    {
      "cell_type": "markdown",
      "metadata": {
        "id": "FT4k9y8GfvxP"
      },
      "source": [
        "The reshape method enables data to be reshaped and rearranged without changing its contents, facilitating compatibility with various layers and model configurations. Properly using the reshape method is essential for preprocessing data and ensuring that tensors conform to the expected input shape of the model, thereby maximizing the effectiveness of the neural network during training and inference"
      ]
    },
    {
      "cell_type": "code",
      "execution_count": null,
      "metadata": {
        "colab": {
          "base_uri": "https://localhost:8080/"
        },
        "id": "Rz_HLahZfvxP",
        "outputId": "2218e7cd-a208-486b-ed05-1e65b2f56c3d"
      },
      "outputs": [
        {
          "output_type": "stream",
          "name": "stdout",
          "text": [
            "torch.Size([6])\n",
            "torch.Size([2, 3])\n"
          ]
        }
      ],
      "source": [
        "# Example 2\n",
        "x = torch.tensor([1, 2, 3, 4, 5, 6])\n",
        "reshaped_x = x.reshape(2, 3)\n",
        "print(x.shape)\n",
        "print(reshaped_x.shape)"
      ]
    },
    {
      "cell_type": "markdown",
      "metadata": {
        "id": "6sW6ddiufvxP"
      },
      "source": [
        "The tensor x with 6 elements is reshaped into a 2x3 matrix."
      ]
    },
    {
      "cell_type": "code",
      "execution_count": null,
      "metadata": {
        "colab": {
          "base_uri": "https://localhost:8080/"
        },
        "id": "88ybCs4DfvxP",
        "outputId": "1bec3399-4153-4316-cdc2-285969fde2e7"
      },
      "outputs": [
        {
          "output_type": "stream",
          "name": "stdout",
          "text": [
            "torch.Size([4, 2, 3])\n",
            "torch.Size([8, 3])\n"
          ]
        }
      ],
      "source": [
        "# Example 3\n",
        "x = torch.randn(4, 2, 3)\n",
        "reshaped_x = x.reshape(-1, 3)\n",
        "print(x.shape)\n",
        "print(reshaped_x.shape)"
      ]
    },
    {
      "cell_type": "markdown",
      "metadata": {
        "id": "W9aJJGiOfvxP"
      },
      "source": [
        " The tensor x of shape (4, 2, 3) is flattened into a matrix with 3 columns, and the number of rows is automatically computed to preserve the total number of elements."
      ]
    },
    {
      "cell_type": "code",
      "source": [
        "x = torch.arange(12)\n",
        "reshaped_x = x.reshape(3, 2, 2)\n",
        "print(x.shape)\n",
        "print(reshaped_x.shape)"
      ],
      "metadata": {
        "colab": {
          "base_uri": "https://localhost:8080/"
        },
        "id": "jtFU7HjYnfY2",
        "outputId": "fd5c6df6-dd03-4053-ef1e-7a13ca5bbcf7"
      },
      "execution_count": null,
      "outputs": [
        {
          "output_type": "stream",
          "name": "stdout",
          "text": [
            "torch.Size([12])\n",
            "torch.Size([3, 2, 2])\n"
          ]
        }
      ]
    },
    {
      "cell_type": "markdown",
      "source": [
        "The tensor x with 12 elements is reshaped into a 3x2x2 matrix (3 dimensions), organizing the elements according to the specified dimensions."
      ],
      "metadata": {
        "id": "sWGWSaK0nfvt"
      }
    },
    {
      "cell_type": "markdown",
      "metadata": {
        "id": "0OsW5X7UfvxP"
      },
      "source": [
        "Closing comments about when to use this function"
      ]
    },
    {
      "cell_type": "code",
      "execution_count": null,
      "metadata": {
        "id": "o8U9SvPPfvxP",
        "outputId": "8a719e6c-7bcd-415c-860f-3332573ee712"
      },
      "outputs": [
        {
          "data": {
            "application/javascript": [
              "window.require && require([\"base/js/namespace\"],function(Jupyter){Jupyter.notebook.save_checkpoint()})"
            ],
            "text/plain": [
              "<IPython.core.display.Javascript object>"
            ]
          },
          "metadata": {},
          "output_type": "display_data"
        },
        {
          "name": "stdout",
          "output_type": "stream",
          "text": [
            "[jovian] Attempting to save notebook..\u001b[0m\n",
            "[jovian] Updating notebook \"aakashns/01-tensor-operations\" on https://jovian.ai/\u001b[0m\n",
            "[jovian] Uploading notebook..\u001b[0m\n",
            "[jovian] Capturing environment..\u001b[0m\n",
            "[jovian] Committed successfully! https://jovian.ai/aakashns/01-tensor-operations\u001b[0m\n"
          ]
        },
        {
          "data": {
            "text/plain": [
              "'https://jovian.ai/aakashns/01-tensor-operations'"
            ]
          },
          "execution_count": 17,
          "metadata": {},
          "output_type": "execute_result"
        }
      ],
      "source": [
        "jovian.commit(project='01-tensor-operations')"
      ]
    },
    {
      "cell_type": "markdown",
      "metadata": {
        "id": "c6nd8jhefvxP"
      },
      "source": [
        "## Function 4 - [TORCH.TENSOR.ROUND](https://pytorch.org/docs/stable/generated/torch.Tensor.round.html#torch.Tensor.round)\n",
        "\n",
        "Tensor.round(decimals=0) → Tensor\n",
        "\n",
        "Simply round the values of the tensor, let's aplly:"
      ]
    },
    {
      "cell_type": "code",
      "execution_count": null,
      "metadata": {
        "colab": {
          "base_uri": "https://localhost:8080/"
        },
        "id": "Hj-r3Aj8fvxQ",
        "outputId": "55cae074-382a-4841-90a0-e2fc28e981f7"
      },
      "outputs": [
        {
          "output_type": "stream",
          "name": "stdout",
          "text": [
            "Example 1 - Rounded Tensor:\n",
            "tensor([1., 3., 3., 5., 5.])\n"
          ]
        }
      ],
      "source": [
        "# Example 1\n",
        "x1 = torch.tensor([1.4, 2.7, 3.1, 4.9, 5.2])\n",
        "rounded_x1 = x1.round()\n",
        "print(\"Example 1 - Rounded Tensor:\")\n",
        "print(rounded_x1)"
      ]
    },
    {
      "cell_type": "markdown",
      "metadata": {
        "id": "Q_AhccRWfvxQ"
      },
      "source": [
        "The tensor x with floating-point values is rounded to the nearest integers."
      ]
    },
    {
      "cell_type": "code",
      "execution_count": null,
      "metadata": {
        "colab": {
          "base_uri": "https://localhost:8080/"
        },
        "id": "mwLDcnD3fvxQ",
        "outputId": "a30d49ae-2661-4d27-db4f-da33f5e40308"
      },
      "outputs": [
        {
          "output_type": "stream",
          "name": "stdout",
          "text": [
            "\n",
            "Example 2 - Rounded Tensor:\n",
            "tensor([[-1., -1., -0.],\n",
            "        [-1., -2., -1.]])\n"
          ]
        }
      ],
      "source": [
        "# Example 2\n",
        "x2 = torch.randn(2, 3)\n",
        "rounded_x2 = x2.round()\n",
        "print(\"\\nExample 2 - Rounded Tensor:\")\n",
        "print(rounded_x2)"
      ]
    },
    {
      "cell_type": "markdown",
      "metadata": {
        "id": "VOUjGzKWfvxQ"
      },
      "source": [
        "The tensor x of shape (2, 3) with random floating-point values is rounded to the nearest integers."
      ]
    },
    {
      "cell_type": "code",
      "execution_count": null,
      "metadata": {
        "colab": {
          "base_uri": "https://localhost:8080/"
        },
        "id": "TLi5Hif7fvxS",
        "outputId": "276beefd-361a-4470-8f4d-c71bf1d3da5b"
      },
      "outputs": [
        {
          "output_type": "stream",
          "name": "stdout",
          "text": [
            "\n",
            "Example 3 - Rounded Tensor:\n",
            "tensor([0., 1., 1., 3., 4.])\n"
          ]
        }
      ],
      "source": [
        "# Example 3\n",
        "x3 = torch.tensor([0.1, 0.6, 1.3, 2.8, 3.5])\n",
        "rounded_x3 = x3.round()\n",
        "print(\"\\nExample 3 - Rounded Tensor:\")\n",
        "print(rounded_x3)"
      ]
    },
    {
      "cell_type": "markdown",
      "metadata": {
        "id": "bczNfAyGfvxT"
      },
      "source": [
        "The tensor x with floating-point values is rounded to the nearest integers."
      ]
    },
    {
      "cell_type": "markdown",
      "metadata": {
        "id": "ySz9cvYvfvxT"
      },
      "source": [
        "just like \"round\" function in python, this function is used to round item's of the tensor"
      ]
    },
    {
      "cell_type": "code",
      "execution_count": null,
      "metadata": {
        "id": "76skksRqfvxT",
        "outputId": "d4103866-ba34-4c94-b5cb-a62daf32bbe1"
      },
      "outputs": [
        {
          "data": {
            "application/javascript": [
              "window.require && require([\"base/js/namespace\"],function(Jupyter){Jupyter.notebook.save_checkpoint()})"
            ],
            "text/plain": [
              "<IPython.core.display.Javascript object>"
            ]
          },
          "metadata": {},
          "output_type": "display_data"
        },
        {
          "name": "stdout",
          "output_type": "stream",
          "text": [
            "[jovian] Attempting to save notebook..\u001b[0m\n",
            "[jovian] Updating notebook \"aakashns/01-tensor-operations\" on https://jovian.ai/\u001b[0m\n",
            "[jovian] Uploading notebook..\u001b[0m\n",
            "[jovian] Capturing environment..\u001b[0m\n",
            "[jovian] Committed successfully! https://jovian.ai/aakashns/01-tensor-operations\u001b[0m\n"
          ]
        },
        {
          "data": {
            "text/plain": [
              "'https://jovian.ai/aakashns/01-tensor-operations'"
            ]
          },
          "execution_count": 18,
          "metadata": {},
          "output_type": "execute_result"
        }
      ],
      "source": [
        "jovian.commit(project='01-tensor-operations')"
      ]
    },
    {
      "cell_type": "markdown",
      "metadata": {
        "id": "jMm2XKZvfvxT"
      },
      "source": [
        "## Function 5 - [TORCH.TENSOR.SPLIT](https://pytorch.org/docs/stable/generated/torch.Tensor.split.html#torch.Tensor.split)\n",
        "\n",
        "Tensor.split(split_size, dim=0)\n",
        "\n",
        "torch.split is a PyTorch function used to split a tensor into multiple smaller tensors along a specified dimension. It allows for convenient data partitioning and is useful for tasks like data batching in machine learning."
      ]
    },
    {
      "cell_type": "code",
      "execution_count": null,
      "metadata": {
        "colab": {
          "base_uri": "https://localhost:8080/"
        },
        "id": "v6RRZJ6tfvxT",
        "outputId": "b2a0d639-ed95-4c1d-c71e-cb6f7f885612"
      },
      "outputs": [
        {
          "output_type": "stream",
          "name": "stdout",
          "text": [
            "Example 1 - Splits:\n",
            "tensor([1, 2])\n",
            "tensor([3, 4])\n",
            "tensor([5, 6])\n",
            "tensor([7, 8])\n"
          ]
        }
      ],
      "source": [
        "# Example 1\n",
        "x = torch.tensor([1, 2, 3, 4, 5, 6, 7, 8])\n",
        "splits = torch.split(x, 2)\n",
        "print(\"Example 1 - Splits:\")\n",
        "for split in splits:\n",
        "    print(split)"
      ]
    },
    {
      "cell_type": "markdown",
      "metadata": {
        "id": "8rb3iulEfvxT"
      },
      "source": [
        "In this example, the tensor x is split into equal-sized chunks of size 2 along its first dimension. The output displays three splits: [1, 2], [3, 4], and [5, 6], with the last split containing the remaining elements [7, 8]."
      ]
    },
    {
      "cell_type": "code",
      "execution_count": null,
      "metadata": {
        "colab": {
          "base_uri": "https://localhost:8080/"
        },
        "id": "fAitcpMnfvxT",
        "outputId": "bcb0fa53-3ab4-41fb-e36f-dae424bd671e"
      },
      "outputs": [
        {
          "output_type": "stream",
          "name": "stdout",
          "text": [
            "\n",
            "Example 2 - Splits:\n",
            "tensor([[-0.1282],\n",
            "        [-0.1708],\n",
            "        [-0.1377]])\n",
            "tensor([[ 1.8134, -0.1918],\n",
            "        [ 2.0443, -0.2275],\n",
            "        [ 1.2209,  0.3996]])\n",
            "tensor([[ 0.6467],\n",
            "        [ 0.4944],\n",
            "        [-0.6341]])\n"
          ]
        }
      ],
      "source": [
        "# Example 2\n",
        "x = torch.randn(3, 4)\n",
        "splits = torch.split(x, [1, 2, 1], dim=1)\n",
        "print(\"\\nExample 2 - Splits:\")\n",
        "for split in splits:\n",
        "    print(split)"
      ]
    },
    {
      "cell_type": "markdown",
      "metadata": {
        "id": "Hj1Vy-QafvxT"
      },
      "source": [
        "Here, the tensor x of shape (3, 4) is split into three parts along the second dimension (columns). The sizes of the splits are specified as [1, 2, 1], resulting in three splits: the first split with one column, the second with two columns, and the third with one column."
      ]
    },
    {
      "cell_type": "code",
      "execution_count": null,
      "metadata": {
        "colab": {
          "base_uri": "https://localhost:8080/"
        },
        "id": "jOavVJPAfvxU",
        "outputId": "a13c7377-9192-4ab6-ea72-2f173f41b58a"
      },
      "outputs": [
        {
          "output_type": "stream",
          "name": "stdout",
          "text": [
            "\n",
            "Example 3 - Splits:\n",
            "tensor([0, 1, 2])\n",
            "tensor([3, 4, 5])\n",
            "tensor([6, 7, 8])\n",
            "tensor([9])\n"
          ]
        }
      ],
      "source": [
        "# Example 3\n",
        "x = torch.arange(10)\n",
        "splits = torch.split(x, 3, dim=0)\n",
        "print(\"\\nExample 3 - Splits:\")\n",
        "for split in splits:\n",
        "    print(split)"
      ]
    },
    {
      "cell_type": "markdown",
      "metadata": {
        "id": "uWIFtp9efvxU"
      },
      "source": [
        "In this example, the tensor x with values from 0 to 9 is split into chunks of size 3 along its first dimension (rows). The output displays four splits: [0, 1, 2], [3, 4, 5], [6, 7, 8], and [9], where the last split contains the remaining elements since the input tensor length is not divisible by 3."
      ]
    },
    {
      "cell_type": "markdown",
      "metadata": {
        "id": "n_Xlce0VfvxU"
      },
      "source": [
        "The torch.split function takes the input tensor and either the number of equally-sized chunks to split or a list of sizes to define the size of each split. The result is a tuple containing the split tensors. If the input tensor size is not divisible by the specified chunk size, the last split will contain the remaining elements."
      ]
    },
    {
      "cell_type": "code",
      "execution_count": null,
      "metadata": {
        "id": "AyJe-P-ZfvxU",
        "outputId": "723d89d8-77f9-4b3e-d659-99dc9570aef5"
      },
      "outputs": [
        {
          "data": {
            "application/javascript": [
              "window.require && require([\"base/js/namespace\"],function(Jupyter){Jupyter.notebook.save_checkpoint()})"
            ],
            "text/plain": [
              "<IPython.core.display.Javascript object>"
            ]
          },
          "metadata": {},
          "output_type": "display_data"
        },
        {
          "name": "stdout",
          "output_type": "stream",
          "text": [
            "[jovian] Attempting to save notebook..\u001b[0m\n",
            "[jovian] Updating notebook \"aakashns/01-tensor-operations\" on https://jovian.ai/\u001b[0m\n",
            "[jovian] Uploading notebook..\u001b[0m\n",
            "[jovian] Capturing environment..\u001b[0m\n",
            "[jovian] Committed successfully! https://jovian.ai/aakashns/01-tensor-operations\u001b[0m\n"
          ]
        },
        {
          "data": {
            "text/plain": [
              "'https://jovian.ai/aakashns/01-tensor-operations'"
            ]
          },
          "execution_count": 19,
          "metadata": {},
          "output_type": "execute_result"
        }
      ],
      "source": [
        "jovian.commit(project='01-tensor-operations')"
      ]
    },
    {
      "cell_type": "markdown",
      "metadata": {
        "id": "FX533hQ_fvxU"
      },
      "source": [
        "## Conclusion\n",
        "\n",
        "**torch.tensor.pow:** This function computes the element-wise power of a tensor with a specified exponent. It is beneficial for mathematical calculations and element-wise transformations of tensors.\n",
        "\n",
        "**torch.tensor.qscheme & torch.quantize_per_tensor:** These functions are part of PyTorch's quantization module, allowing users to understand the quantization scheme used for a quantized tensor. torch.quantize_per_tensor is used to quantize a floating-point tensor, while torch.tensor.qscheme helps determine the quantization scheme (e.g., per-tensor affine quantization) of a quantized tensor.\n",
        "\n",
        "**torch.tensor.reshape:** The reshape method allows the alteration of the shape of a tensor without changing its contents. It is essential for correctly preparing data to fit into specific model architectures and layers.\n",
        "\n",
        "**torch.tensor.round:** This function rounds the elements of a tensor to the nearest integers. It is useful for converting floating-point tensors to integers, especially when dealing with discrete values or for integer quantization.\n",
        "\n",
        "**torch.tensor.split:** The split function is useful for partitioning a tensor into smaller tensors along a specified dimension. It provides a convenient way to divide data into batches or subsets, essential for training and processing large datasets.\n",
        "\n",
        "These functions showcase the versatility and power of PyTorch in handling various tensor operations, enabling efficient computation and manipulation of data for deep learning and other numerical applications."
      ]
    },
    {
      "cell_type": "markdown",
      "metadata": {
        "id": "V_jUSMq4fvxU"
      },
      "source": [
        "## Reference Links\n",
        "Provide links to your references and other interesting articles about tensors\n",
        "* Official documentation for tensor operations: https://pytorch.org/docs/stable/torch.html"
      ]
    },
    {
      "cell_type": "code",
      "execution_count": null,
      "metadata": {
        "id": "1LOwergMfvxU",
        "outputId": "e39633a9-ca4a-419b-f0f5-1a4e2801d0f1"
      },
      "outputs": [
        {
          "data": {
            "application/javascript": [
              "window.require && require([\"base/js/namespace\"],function(Jupyter){Jupyter.notebook.save_checkpoint()})"
            ],
            "text/plain": [
              "<IPython.core.display.Javascript object>"
            ]
          },
          "metadata": {},
          "output_type": "display_data"
        },
        {
          "name": "stdout",
          "output_type": "stream",
          "text": [
            "[jovian] Attempting to save notebook..\u001b[0m\n"
          ]
        }
      ],
      "source": [
        "jovian.commit(project='01-tensor-operations')"
      ]
    },
    {
      "cell_type": "code",
      "execution_count": null,
      "metadata": {
        "id": "x9t1WsoOfvxU"
      },
      "outputs": [],
      "source": []
    }
  ],
  "metadata": {
    "kernelspec": {
      "display_name": "Python 3",
      "language": "python",
      "name": "python3"
    },
    "language_info": {
      "codemirror_mode": {
        "name": "ipython",
        "version": 3
      },
      "file_extension": ".py",
      "mimetype": "text/x-python",
      "name": "python",
      "nbconvert_exporter": "python",
      "pygments_lexer": "ipython3",
      "version": "3.8.5"
    },
    "colab": {
      "provenance": [],
      "include_colab_link": true
    }
  },
  "nbformat": 4,
  "nbformat_minor": 0
}