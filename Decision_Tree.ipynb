{
  "nbformat": 4,
  "nbformat_minor": 0,
  "metadata": {
    "colab": {
      "provenance": [],
      "authorship_tag": "ABX9TyOcq5xiA4H7KxQCkWkDQdv3",
      "include_colab_link": true
    },
    "kernelspec": {
      "name": "python3",
      "display_name": "Python 3"
    },
    "language_info": {
      "name": "python"
    }
  },
  "cells": [
    {
      "cell_type": "markdown",
      "metadata": {
        "id": "view-in-github",
        "colab_type": "text"
      },
      "source": [
        "<a href=\"https://colab.research.google.com/github/LucasPequenoSterzeck/Machine_Learning_LPS/blob/main/Decision_Tree.ipynb\" target=\"_parent\"><img src=\"https://colab.research.google.com/assets/colab-badge.svg\" alt=\"Open In Colab\"/></a>"
      ]
    },
    {
      "cell_type": "markdown",
      "source": [
        "# Método de aprendizado supervisionado **Arvore de Decisão**\n",
        "\n",
        "Árvores de decisão (Decision Tree), como o próprio nome sugere, é um dos métodos mais utilizados para a tomada de decisão. Essa abordagem é amplamente utilizada em modelos de machine learning, mas também encontra espaço em outras áreas, como a pesquisa operacional. \n",
        "\n",
        "<img src='https://miro.medium.com/max/1400/1*kvRHlVdWHIsXYafrTocD4Q.png' width='1150'>\n",
        "\n",
        "\n",
        "## Algumas Vantagens das árvores de decisão:\n",
        "\n",
        "1. É um modelo intuitivo e simples de interpretar. Além disso, as árvores de decisão podem ser visualizadas.\n",
        "2. Não necessita de grandes pré-processamento de dados, como a normalização ou escalonamento de dados.\n",
        "3. Utiliza o modelo conhecido como caixa branca. Ou seja, as decisões que o modelo toma podem ser explicadas e interpretadas.\n",
        "\n",
        "## Desvantagens:\n",
        "\n",
        "1. Pode criar regras muito complexas, que vão gerar overfitting nos dados.\n",
        "2. Podem ser instáveis, então pequenas variações podem gerar modelos de árvore completamente diferentes.\n",
        "3. Para ter predições mais robustas, é aconselhável fazer ensembles.\n",
        "\n",
        "(Extraído Sigmoidal)"
      ],
      "metadata": {
        "id": "1bLikp8ooywU"
      }
    },
    {
      "cell_type": "code",
      "source": [
        "import pandas as pd\n",
        "import numpy as np\n",
        "from sklearn.preprocessing import OneHotEncoder\n",
        "from sklearn.preprocessing import MinMaxScaler\n",
        "from sklearn.model_selection import train_test_split\n",
        "from sklearn.metrics import accuracy_score\n",
        "\n",
        "# Criação do DataFrame\n",
        "df = pd.read_csv('https://raw.githubusercontent.com/ronaldolagepessoa/machine-learning/master/dados/exemplo3.csv')\n",
        "\n",
        "# Separação de inputs e output\n",
        "X = df.drop('risco', axis=1)\n",
        "y = df.risco\n",
        "\n",
        "# Binarização dos inputs categóricos\n",
        "onehot = OneHotEncoder(sparse=False, drop=\"first\")\n",
        "X_bin = onehot.fit_transform(X.select_dtypes(include=['object']))\n",
        "\n",
        "# Normalização dos inputs numéricos\n",
        "mmscaler = MinMaxScaler()\n",
        "X_num = mmscaler.fit_transform(X.select_dtypes(exclude=['object']))\n",
        "\n",
        "# Junção dos inputs\n",
        "X_all = np.append(X_num, X_bin, axis=1)\n",
        "\n",
        "# Divisão dos conjuntos de treinamento e teste\n",
        "X_train, X_test, y_train, y_test = train_test_split(X_all, y, test_size=1/3, random_state=42)"
      ],
      "metadata": {
        "id": "zu9IZv8zpuNS"
      },
      "execution_count": 5,
      "outputs": []
    },
    {
      "cell_type": "markdown",
      "source": [
        "## Aplicando o classificador Decision Tree\n",
        "\n",
        "Para aplicar o classifador, faremos a importação da classe DecisionTreeClassifier presente no subpacote sklearn.tree.\n",
        "\n",
        "**Parâmetros mais importantes:**\n",
        "\n",
        "> max_depth: profundidade máxima da árvore;\n",
        "\n",
        "> max_leaf_nodes: número máximo de folhas.\n",
        "\n",
        "Faremos, inicialmente, a criação de uma DT sem pré configuração de parâmetros. Nesse caso, tanto a profundidade como o número de folhas serão incrementadas até que a entropia das folhas seja igual a zero."
      ],
      "metadata": {
        "id": "WmFnoAFBtQ_q"
      }
    },
    {
      "cell_type": "code",
      "source": [
        "from sklearn.tree import DecisionTreeClassifier\n",
        "\n",
        "dt = DecisionTreeClassifier()\n",
        "dt.fit(X_train, y_train)\n",
        "\n",
        "print(f'Precisão de: {round(accuracy_score(y_test, dt.predict(X_test))*100,1)} %')"
      ],
      "metadata": {
        "colab": {
          "base_uri": "https://localhost:8080/"
        },
        "id": "NzSMdg9Ss-Sz",
        "outputId": "2cac449b-0ad4-4f80-80e4-bf8f7a8545dc"
      },
      "execution_count": 9,
      "outputs": [
        {
          "output_type": "stream",
          "name": "stdout",
          "text": [
            "Precisão de: 75.5 %\n"
          ]
        }
      ]
    },
    {
      "cell_type": "code",
      "source": [
        "dt.get_depth()"
      ],
      "metadata": {
        "colab": {
          "base_uri": "https://localhost:8080/"
        },
        "id": "qlmnAzy6tZqJ",
        "outputId": "683b013a-eefb-4f9a-b820-af9cd209f2c2"
      },
      "execution_count": 10,
      "outputs": [
        {
          "output_type": "execute_result",
          "data": {
            "text/plain": [
              "25"
            ]
          },
          "metadata": {},
          "execution_count": 10
        }
      ]
    },
    {
      "cell_type": "code",
      "source": [
        "dt.get_n_leaves()"
      ],
      "metadata": {
        "colab": {
          "base_uri": "https://localhost:8080/"
        },
        "id": "dNwiryUvtZ06",
        "outputId": "f0326263-3734-4362-e052-1dc4924df93c"
      },
      "execution_count": 11,
      "outputs": [
        {
          "output_type": "execute_result",
          "data": {
            "text/plain": [
              "315"
            ]
          },
          "metadata": {},
          "execution_count": 11
        }
      ]
    },
    {
      "cell_type": "markdown",
      "source": [
        "Após a manutenção temos o novo valor abaixo:"
      ],
      "metadata": {
        "id": "WaspBEKgtfPb"
      }
    },
    {
      "cell_type": "code",
      "source": [
        "dt2 = DecisionTreeClassifier(max_depth=14, max_leaf_nodes=20)\n",
        "dt2.fit(X_train, y_train)\n",
        "\n",
        "print(f'Precisão de: {round(accuracy_score(y_test, dt2.predict(X_test))*100,1)} %')"
      ],
      "metadata": {
        "colab": {
          "base_uri": "https://localhost:8080/"
        },
        "id": "WZSAzNMktjdz",
        "outputId": "5ca21d12-492e-468c-ba1a-60fffdb6c840"
      },
      "execution_count": 14,
      "outputs": [
        {
          "output_type": "stream",
          "name": "stdout",
          "text": [
            "Precisão de: 84.1 %\n"
          ]
        }
      ]
    }
  ]
}