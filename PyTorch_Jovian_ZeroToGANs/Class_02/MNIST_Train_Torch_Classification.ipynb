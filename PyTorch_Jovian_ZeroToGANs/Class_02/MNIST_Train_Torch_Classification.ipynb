{
  "nbformat": 4,
  "nbformat_minor": 0,
  "metadata": {
    "colab": {
      "provenance": [],
      "authorship_tag": "ABX9TyOWjPH/grePEM3TqVvdAh7t",
      "include_colab_link": true
    },
    "kernelspec": {
      "name": "python3",
      "display_name": "Python 3"
    },
    "language_info": {
      "name": "python"
    }
  },
  "cells": [
    {
      "cell_type": "markdown",
      "metadata": {
        "id": "view-in-github",
        "colab_type": "text"
      },
      "source": [
        "<a href=\"https://colab.research.google.com/github/LucasPequenoSterzeck/Machine_Learning_LPS/blob/main/PyTorch_Jovian_ZeroToGANs/Class_02/MNIST_Train_Torch_Classification.ipynb\" target=\"_parent\"><img src=\"https://colab.research.google.com/assets/colab-badge.svg\" alt=\"Open In Colab\"/></a>"
      ]
    },
    {
      "cell_type": "markdown",
      "source": [
        "# Notebook destined to train in mnist dataset"
      ],
      "metadata": {
        "id": "R-8dbKLHhi59"
      }
    },
    {
      "cell_type": "code",
      "source": [
        "# Lib's torch import:\n",
        "import torch\n",
        "import torch.nn as nn\n",
        "import torch.nn.functional as F\n",
        "import torchvision.transforms as transforms\n",
        "from torchvision.datasets import MNIST\n",
        "from torch.utils.data import random_split\n",
        "from torch.utils.data import DataLoader\n",
        "import matplotlib.pyplot as plt\n"
      ],
      "metadata": {
        "id": "p71QkD0ehmLd"
      },
      "execution_count": 17,
      "outputs": []
    },
    {
      "cell_type": "code",
      "source": [
        "# parameters\n",
        "batch_size = 128\n",
        "learning_rate = 0.001\n",
        "\n",
        "# others\n",
        "input_size = 28*28 # Pixel's Weight x Pixel's Length\n",
        "num_classes = 10 # 0 to 9 - 10 classes/possibilites"
      ],
      "metadata": {
        "id": "uIrpKT_Ji8Y-"
      },
      "execution_count": 9,
      "outputs": []
    },
    {
      "cell_type": "code",
      "source": [
        "# Donwload the dataset MINIST\n",
        "dataset = MNIST(root='data/', train=True, transform=transforms.ToTensor(), download=True)\n",
        "\n",
        "# Train, val and test dataset\n",
        "train_ds, val_ds = random_split(dataset, [50000, 10000])\n",
        "test_ds = MNIST(root='data/', train=False, transform=transforms.ToTensor())\n",
        "\n",
        "# Dataloaders\n",
        "train_loader = DataLoader(train_ds, batch_size, shuffle=True)\n",
        "val_loader = DataLoader(val_ds, batch_size*2)\n",
        "test_loader = DataLoader(test_ds, batch_size*2)"
      ],
      "metadata": {
        "id": "11wbgefFiGG-"
      },
      "execution_count": 11,
      "outputs": []
    },
    {
      "cell_type": "code",
      "source": [
        "# test data:\n",
        "img, lab = train_ds[0]\n",
        "print('Label of image: ',lab)\n",
        "print('Dimension: ',img.shape)\n",
        "plt.imshow(img[0], cmap='gray')\n"
      ],
      "metadata": {
        "colab": {
          "base_uri": "https://localhost:8080/",
          "height": 482
        },
        "id": "fd7boFffjh5e",
        "outputId": "ec5dfc65-f597-4898-f215-4aa6cfac558b"
      },
      "execution_count": 22,
      "outputs": [
        {
          "output_type": "stream",
          "name": "stdout",
          "text": [
            "Label of image:  7\n",
            "Dimension:  torch.Size([1, 28, 28])\n"
          ]
        },
        {
          "output_type": "execute_result",
          "data": {
            "text/plain": [
              "<matplotlib.image.AxesImage at 0x7e9fad007190>"
            ]
          },
          "metadata": {},
          "execution_count": 22
        },
        {
          "output_type": "display_data",
          "data": {
            "text/plain": [
              "<Figure size 640x480 with 1 Axes>"
            ],
            "image/png": "[encoded data removed]"
          },
          "metadata": {}
        }
      ]
    },
    {
      "cell_type": "markdown",
      "source": [
        "# Extend a Class of TORCH.NN"
      ],
      "metadata": {
        "id": "zWWKiMGCkL71"
      }
    },
    {
      "cell_type": "code",
      "source": [
        "# Creating class MnistModel from Torch.NN\n",
        "\n",
        "class MnistModel(nn.Module):\n",
        "  def __init__(self):\n",
        "    super().__init__()\n",
        "    self.linear = nn.Linear(input_size, num_classes)\n",
        "\n",
        "  def forward(self, xb):\n",
        "    xb = xb.reshape(-1, 784)\n",
        "    out = self.linear(xb)\n",
        "    return out\n",
        "\n",
        "  def training_step(self, batch):\n",
        "    img, lab = batch\n",
        "    out = self(img)\n",
        "    loss = F.cross_entropy(out, lab)\n",
        "    return loss\n",
        "\n",
        "  def validation_step(self, batch):\n",
        "    img, lab = batch\n",
        "    out = self(img)\n",
        "    loss = F.cross_entropy(out, lab)\n",
        "    acc = accuracy(out, lab)\n",
        "    return {'val_loss': loss.detach(), 'val_acc': acc.detach()}\n",
        "\n",
        "  def validation_epoch_end(self, outputs):\n",
        "    batch_losses = [x['val_loss'] for x in outputs]\n",
        "    epoch_losses = torch.stack(batch_losses).mean()\n",
        "    batch_accs = [x['val_acc'] for x in outputs]\n",
        "    epoch_acc = torch.stack(batch_accs).mean()\n",
        "    return {'val_loss': epoch_losses.item(), 'val_acc': epoch_acc.item()}\n",
        "\n",
        "  def epoch_end(sefl, epoch, result):\n",
        "    print(f\"-> Epoch [{epoch}]  |  Val_loss: {round(result['val_loss'],4)}  |  Val_acc: {round(result['val_acc'],4)}\")\n",
        "\n",
        "# declare the model\n",
        "model = MnistModel()\n",
        "\n",
        "# Sub classes\n",
        "def accuracy(out, lab):\n",
        "  _, preds = torch.max(out, dim=1)\n",
        "  return torch.tensor(torch.sum(preds == lab).item() / len(preds))\n",
        "\n",
        "def evaluate(model, val_loader):\n",
        "  out = [model.validation_step(batch) for batch in val_loader]\n",
        "  return model.validation_epoch_end(out)\n",
        "\n",
        "def fit(epochs, lr, model, train_loader, val_loader, opt_func=torch.optim.SGD):\n",
        "  history = []\n",
        "  opt = opt_func(model.parameters(), lr)\n",
        "  for epoch in range(epochs):\n",
        "    # Training Phase\n",
        "    for batch in train_loader:\n",
        "      loss = model.training_step(batch)\n",
        "      loss.backward()\n",
        "      opt.step()\n",
        "      opt.zero_grad()\n",
        "    # Validation Phase\n",
        "    result = evaluate(model, val_loader)\n",
        "    model.epoch_end(epoch, result)\n",
        "    history.append(result)\n",
        "  return history"
      ],
      "metadata": {
        "id": "30HTz_JBkSFV"
      },
      "execution_count": 35,
      "outputs": []
    },
    {
      "cell_type": "code",
      "source": [
        "evaluate(model, val_loader)"
      ],
      "metadata": {
        "colab": {
          "base_uri": "https://localhost:8080/"
        },
        "id": "Wklh4PsIAJ4Q",
        "outputId": "0e3bc41b-e631-4e9b-d60c-164048de382a"
      },
      "execution_count": 36,
      "outputs": [
        {
          "output_type": "execute_result",
          "data": {
            "text/plain": [
              "{'val_loss': 2.3065097332000732, 'val_acc': 0.1181640625}"
            ]
          },
          "metadata": {},
          "execution_count": 36
        }
      ]
    },
    {
      "cell_type": "code",
      "source": [
        "history = fit(5, 0.001, model, train_loader, val_loader)"
      ],
      "metadata": {
        "colab": {
          "base_uri": "https://localhost:8080/"
        },
        "id": "9pdf7p57Abrf",
        "outputId": "bc2127bc-d201-4b95-fb01-c5dead35b808"
      },
      "execution_count": 37,
      "outputs": [
        {
          "output_type": "stream",
          "name": "stdout",
          "text": [
            "-> Epoch [0]  |  Val_loss: 1.9223  |  Val_acc: 0.6223\n",
            "-> Epoch [1]  |  Val_loss: 1.657  |  Val_acc: 0.7239\n",
            "-> Epoch [2]  |  Val_loss: 1.4593  |  Val_acc: 0.7653\n",
            "-> Epoch [3]  |  Val_loss: 1.3096  |  Val_acc: 0.7868\n",
            "-> Epoch [4]  |  Val_loss: 1.1943  |  Val_acc: 0.7994\n"
          ]
        }
      ]
    },
    {
      "cell_type": "code",
      "source": [
        "accuracies = [r['val_acc'] for r in history]\n",
        "plt.plot(accuracies, '-x')\n",
        "plt.xlabel('epoch')\n",
        "plt.ylabel('accuracy')\n",
        "plt.title('Accuracy Vs. No. of Epochs')\n",
        "plt.show()"
      ],
      "metadata": {
        "colab": {
          "base_uri": "https://localhost:8080/",
          "height": 472
        },
        "id": "gK7xEAWDA_tv",
        "outputId": "bc2169ac-506a-4b65-96b5-db3b392e9048"
      },
      "execution_count": 38,
      "outputs": [
        {
          "output_type": "display_data",
          "data": {
            "text/plain": [
              "<Figure size 640x480 with 1 Axes>"
            ],
            "image/png": "[encoded data removed]"
          },
          "metadata": {}
        }
      ]
    },
    {
      "cell_type": "code",
      "source": [],
      "metadata": {
        "id": "eNJgsR2TrKxY"
      },
      "execution_count": null,
      "outputs": []
    }
  ]
}