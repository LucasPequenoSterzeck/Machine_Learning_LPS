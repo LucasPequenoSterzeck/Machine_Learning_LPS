{
  "nbformat": 4,
  "nbformat_minor": 0,
  "metadata": {
    "colab": {
      "provenance": [],
      "authorship_tag": "ABX9TyNTfbNnnYag+7EpnVXhUHYk",
      "include_colab_link": true
    },
    "kernelspec": {
      "name": "python3",
      "display_name": "Python 3"
    },
    "language_info": {
      "name": "python"
    }
  },
  "cells": [
    {
      "cell_type": "markdown",
      "metadata": {
        "id": "view-in-github",
        "colab_type": "text"
      },
      "source": [
        "<a href=\"https://colab.research.google.com/github/LucasPequenoSterzeck/Machine_Learning_LPS/blob/main/PyTorch_Jovian_ZeroToGANs/Class_02/MNIST_Train_Torch_Classification.ipynb\" target=\"_parent\"><img src=\"https://colab.research.google.com/assets/colab-badge.svg\" alt=\"Open In Colab\"/></a>"
      ]
    },
    {
      "cell_type": "markdown",
      "source": [
        "# Notebook destined to train in mnist dataset\n",
        "\n",
        "<img src='https://external-content.duckduckgo.com/iu/?u=http%3A%2F%2Fwww.rubylab.io%2Fimg%2Fmnist.png&f=1&nofb=1&ipt=2c80072f255a7c9df77ebd9c96dfec4279db25f4ae811a037ded496051009b67&ipo=images'/>\n",
        "\n",
        "About: The MNIST database is a large database of handwritten digits that is commonly used for training various image processing systems. The database is also widely used for training and testing in the field of machine learning. It was created by \"re-mixing\" the samples from NIST's original datasets\n"
      ],
      "metadata": {
        "id": "R-8dbKLHhi59"
      }
    },
    {
      "cell_type": "code",
      "source": [
        "# Lib's torch import:\n",
        "import torch\n",
        "import torch.nn as nn\n",
        "import torch.nn.functional as F\n",
        "import torchvision.transforms as transforms\n",
        "from torchvision.datasets import MNIST\n",
        "from torch.utils.data import random_split\n",
        "from torch.utils.data import DataLoader\n",
        "import matplotlib.pyplot as plt\n"
      ],
      "metadata": {
        "id": "p71QkD0ehmLd"
      },
      "execution_count": null,
      "outputs": []
    },
    {
      "cell_type": "code",
      "source": [
        "# parameters\n",
        "batch_size = 128\n",
        "learning_rate = 0.001\n",
        "\n",
        "# others\n",
        "input_size = 28*28 # Pixel's Weight x Pixel's Length\n",
        "num_classes = 10 # 0 to 9 - 10 classes/possibilites"
      ],
      "metadata": {
        "id": "uIrpKT_Ji8Y-"
      },
      "execution_count": null,
      "outputs": []
    },
    {
      "cell_type": "code",
      "source": [
        "# Donwload the dataset MINIST\n",
        "dataset = MNIST(root='data/', train=True, transform=transforms.ToTensor(), download=True)\n",
        "\n",
        "# Train, val and test dataset\n",
        "train_ds, val_ds = random_split(dataset, [50000, 10000])\n",
        "test_ds = MNIST(root='data/', train=False, transform=transforms.ToTensor())\n",
        "\n",
        "# Dataloaders\n",
        "train_loader = DataLoader(train_ds, batch_size, shuffle=True)\n",
        "val_loader = DataLoader(val_ds, batch_size*2)\n",
        "test_loader = DataLoader(test_ds, batch_size*2)"
      ],
      "metadata": {
        "id": "11wbgefFiGG-"
      },
      "execution_count": null,
      "outputs": []
    },
    {
      "cell_type": "code",
      "source": [
        "# test data:\n",
        "img, lab = train_ds[0]\n",
        "print('Label of image: ',lab)\n",
        "print('Dimension: ',img.shape)\n",
        "plt.imshow(img[0], cmap='gray')\n"
      ],
      "metadata": {
        "colab": {
          "base_uri": "https://localhost:8080/",
          "height": 482
        },
        "id": "fd7boFffjh5e",
        "outputId": "997823bc-149a-451e-c532-22b1409ca157"
      },
      "execution_count": null,
      "outputs": [
        {
          "output_type": "stream",
          "name": "stdout",
          "text": [
            "Label of image:  3\n",
            "Dimension:  torch.Size([1, 28, 28])\n"
          ]
        },
        {
          "output_type": "execute_result",
          "data": {
            "text/plain": [
              "<matplotlib.image.AxesImage at 0x78e3a35afe80>"
            ]
          },
          "metadata": {},
          "execution_count": 20
        },
        {
          "output_type": "display_data",
          "data": {
            "text/plain": [
              "<Figure size 640x480 with 1 Axes>"
            ],
            "image/png": "[encoded data removed]"
          },
          "metadata": {}
        }
      ]
    },
    {
      "cell_type": "markdown",
      "source": [
        "# Extend a Class of TORCH.NN"
      ],
      "metadata": {
        "id": "zWWKiMGCkL71"
      }
    },
    {
      "cell_type": "code",
      "source": [
        "# Creating class MnistModel from Torch.NN\n",
        "\n",
        "class MnistModel(nn.Module):\n",
        "  def __init__(self):\n",
        "    super().__init__()\n",
        "    self.linear = nn.Linear(input_size, num_classes)\n",
        "\n",
        "  def forward(self, xb):\n",
        "    xb = xb.reshape(-1, 784)\n",
        "    out = self.linear(xb)\n",
        "    return out\n",
        "\n",
        "  def training_step(self, batch):\n",
        "    img, lab = batch\n",
        "    out = self(img)\n",
        "    loss = F.cross_entropy(out, lab)\n",
        "    return loss\n",
        "\n",
        "  def validation_step(self, batch):\n",
        "    img, lab = batch\n",
        "    out = self(img)\n",
        "    loss = F.cross_entropy(out, lab)\n",
        "    acc = accuracy(out, lab)\n",
        "    return {'val_loss': loss.detach(), 'val_acc': acc.detach()}\n",
        "\n",
        "  def validation_epoch_end(self, outputs):\n",
        "    batch_losses = [x['val_loss'] for x in outputs]\n",
        "    epoch_losses = torch.stack(batch_losses).mean()\n",
        "    batch_accs = [x['val_acc'] for x in outputs]\n",
        "    epoch_acc = torch.stack(batch_accs).mean()\n",
        "    return {'val_loss': epoch_losses.item(), 'val_acc': epoch_acc.item()}\n",
        "\n",
        "  def epoch_end(sefl, epoch, result):\n",
        "    print(f\"-> Epoch [{epoch+1}]  |  Val_loss: {round(result['val_loss'],4)}  |  Val_acc: {round(result['val_acc'],4)}\")\n",
        "\n",
        "# declare the model\n",
        "model = MnistModel()\n",
        "\n",
        "# Sub classes\n",
        "def accuracy(out, lab):\n",
        "  _, preds = torch.max(out, dim=1)\n",
        "  return torch.tensor(torch.sum(preds == lab).item() / len(preds))\n",
        "\n",
        "def evaluate(model, val_loader):\n",
        "  out = [model.validation_step(batch) for batch in val_loader]\n",
        "  return model.validation_epoch_end(out)\n",
        "\n",
        "def fit(epochs, lr, model, train_loader, val_loader, opt_func=torch.optim.SGD):\n",
        "  history = []\n",
        "  opt = opt_func(model.parameters(), lr)\n",
        "  for epoch in range(epochs):\n",
        "    # Training Phase\n",
        "    for batch in train_loader:\n",
        "      loss = model.training_step(batch)\n",
        "      loss.backward()\n",
        "      opt.step()\n",
        "      opt.zero_grad()\n",
        "    # Validation Phase\n",
        "    result = evaluate(model, val_loader)\n",
        "    model.epoch_end(epoch, result)\n",
        "    history.append(result)\n",
        "  return history"
      ],
      "metadata": {
        "id": "30HTz_JBkSFV"
      },
      "execution_count": null,
      "outputs": []
    },
    {
      "cell_type": "code",
      "source": [
        "evaluate(model, val_loader)"
      ],
      "metadata": {
        "colab": {
          "base_uri": "https://localhost:8080/"
        },
        "id": "Wklh4PsIAJ4Q",
        "outputId": "0b122dbb-8d50-4fd3-c13e-e93e5d8d854f"
      },
      "execution_count": null,
      "outputs": [
        {
          "output_type": "execute_result",
          "data": {
            "text/plain": [
              "{'val_loss': 2.2890632152557373, 'val_acc': 0.107421875}"
            ]
          },
          "metadata": {},
          "execution_count": 24
        }
      ]
    },
    {
      "cell_type": "code",
      "source": [
        "history = fit(15, 0.001, model, train_loader, val_loader)"
      ],
      "metadata": {
        "colab": {
          "base_uri": "https://localhost:8080/"
        },
        "id": "9pdf7p57Abrf",
        "outputId": "882b1bd6-b64e-4a63-a39d-24385332e3f0"
      },
      "execution_count": null,
      "outputs": [
        {
          "output_type": "stream",
          "name": "stdout",
          "text": [
            "-> Epoch [1]  |  Val_loss: 1.9342  |  Val_acc: 0.6271\n",
            "-> Epoch [2]  |  Val_loss: 1.6719  |  Val_acc: 0.734\n",
            "-> Epoch [3]  |  Val_loss: 1.4757  |  Val_acc: 0.7681\n",
            "-> Epoch [4]  |  Val_loss: 1.3272  |  Val_acc: 0.7875\n",
            "-> Epoch [5]  |  Val_loss: 1.2127  |  Val_acc: 0.8019\n",
            "-> Epoch [6]  |  Val_loss: 1.1225  |  Val_acc: 0.8103\n",
            "-> Epoch [7]  |  Val_loss: 1.05  |  Val_acc: 0.8156\n",
            "-> Epoch [8]  |  Val_loss: 0.9904  |  Val_acc: 0.8211\n",
            "-> Epoch [9]  |  Val_loss: 0.9407  |  Val_acc: 0.8245\n",
            "-> Epoch [10]  |  Val_loss: 0.8986  |  Val_acc: 0.8281\n",
            "-> Epoch [11]  |  Val_loss: 0.8624  |  Val_acc: 0.8313\n",
            "-> Epoch [12]  |  Val_loss: 0.8311  |  Val_acc: 0.8339\n",
            "-> Epoch [13]  |  Val_loss: 0.8036  |  Val_acc: 0.8367\n",
            "-> Epoch [14]  |  Val_loss: 0.7792  |  Val_acc: 0.8396\n",
            "-> Epoch [15]  |  Val_loss: 0.7575  |  Val_acc: 0.8413\n"
          ]
        }
      ]
    },
    {
      "cell_type": "code",
      "source": [
        "accuracies = [r['val_acc'] for r in history]\n",
        "plt.plot(accuracies, '-x')\n",
        "plt.xlabel('epoch')\n",
        "plt.ylabel('accuracy')\n",
        "plt.title('Accuracy Vs. No. of Epochs')\n",
        "plt.show()"
      ],
      "metadata": {
        "colab": {
          "base_uri": "https://localhost:8080/",
          "height": 472
        },
        "id": "gK7xEAWDA_tv",
        "outputId": "395ea506-0e9c-43ec-f33e-19af4d1cc9c5"
      },
      "execution_count": null,
      "outputs": [
        {
          "output_type": "display_data",
          "data": {
            "text/plain": [
              "<Figure size 640x480 with 1 Axes>"
            ],
            "image/png": "[encoded data removed]"
          },
          "metadata": {}
        }
      ]
    },
    {
      "cell_type": "code",
      "source": [
        "# Evaluate on teste dataset:\n",
        "result = evaluate(model, test_loader)\n",
        "result"
      ],
      "metadata": {
        "colab": {
          "base_uri": "https://localhost:8080/"
        },
        "id": "eNJgsR2TrKxY",
        "outputId": "14c67a50-a540-4bde-9192-e5cda48943bd"
      },
      "execution_count": null,
      "outputs": [
        {
          "output_type": "execute_result",
          "data": {
            "text/plain": [
              "{'val_loss': 0.7219929695129395, 'val_acc': 0.853710949420929}"
            ]
          },
          "metadata": {},
          "execution_count": 27
        }
      ]
    },
    {
      "cell_type": "markdown",
      "source": [
        "# Prediction"
      ],
      "metadata": {
        "id": "HDe6xGZ8X0zy"
      }
    },
    {
      "cell_type": "code",
      "source": [
        "def predict_img(img, model):\n",
        "  xb = img.unsqueeze(0)\n",
        "  yb = model(xb)\n",
        "  _, preds = torch.max(yb, dim=1)\n",
        "  pred_label = preds[0].item()\n",
        "  soft = F.softmax(yb, dim=1)[0][pred_label].item()\n",
        "  return pred_label, soft\n",
        "\n",
        "from datetime import datetime\n",
        "\n",
        "img, lab = test_ds[datetime.now().second]\n",
        "pred, prob = predict_img(img, model)\n",
        "print('label: ',lab)\n",
        "print(f'Predicted label: {pred} | with {round(prob*100,2)} %')\n",
        "print('\\nNICEEE! Label predicted CORRECT\\n' if lab == pred else '\\nNOOO! Label predicted WRONG\\n')\n",
        "plt.imshow(img[0], cmap='gray')"
      ],
      "metadata": {
        "colab": {
          "base_uri": "https://localhost:8080/",
          "height": 534
        },
        "id": "2XlnREJJX2fy",
        "outputId": "df673247-8557-4b4a-e738-24acc4f84182"
      },
      "execution_count": null,
      "outputs": [
        {
          "output_type": "stream",
          "name": "stdout",
          "text": [
            "label:  1\n",
            "Predicted label: 3 | with 22.91 %\n",
            "\n",
            "NOOO! Label predicted WRONG\n",
            "\n"
          ]
        },
        {
          "output_type": "execute_result",
          "data": {
            "text/plain": [
              "<matplotlib.image.AxesImage at 0x78e3a60f22f0>"
            ]
          },
          "metadata": {},
          "execution_count": 114
        },
        {
          "output_type": "display_data",
          "data": {
            "text/plain": [
              "<Figure size 640x480 with 1 Axes>"
            ],
            "image/png": "[encoded data removed]"
          },
          "metadata": {}
        }
      ]
    }
  ]
}