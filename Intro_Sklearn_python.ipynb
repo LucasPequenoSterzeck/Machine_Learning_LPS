{
  "nbformat": 4,
  "nbformat_minor": 0,
  "metadata": {
    "colab": {
      "provenance": [],
      "authorship_tag": "ABX9TyMsM6HQ2MnHebwke0lO8cuF",
      "include_colab_link": true
    },
    "kernelspec": {
      "name": "python3",
      "display_name": "Python 3"
    },
    "language_info": {
      "name": "python"
    }
  },
  "cells": [
    {
      "cell_type": "markdown",
      "metadata": {
        "id": "view-in-github",
        "colab_type": "text"
      },
      "source": [
        "<a href=\"https://colab.research.google.com/github/LucasPequenoSterzeck/Machine_Learning_LPS/blob/main/Intro_Sklearn_python.ipynb\" target=\"_parent\"><img src=\"https://colab.research.google.com/assets/colab-badge.svg\" alt=\"Open In Colab\"/></a>"
      ]
    },
    {
      "cell_type": "markdown",
      "source": [
        "# Como a classificação no Sklearn funciona?\n",
        "\n",
        "<img src='https://external-content.duckduckgo.com/iu/?u=https%3A%2F%2Falgotrading101.com%2Flearn%2Fwp-content%2Fuploads%2F2021%2F05%2Fsklearn-guide.png&f=1&nofb=1&ipt=dbb75852a902d3287de1732f2f238886e7e2027db8b2c1b03408ed4e4257cdc9&ipo=images' width='500'>\n",
        "\n",
        "Estudo de caso teórico de como é realizada a classificação dentro do Sklearn.\n",
        "\n",
        "## Exemplo: Banco avaliando clientes bons ou ruins"
      ],
      "metadata": {
        "id": "Wks8FVvIphF0"
      }
    },
    {
      "cell_type": "markdown",
      "source": [
        "## Parte 1 - Entendimento dos dados:\n",
        "De inicio precisamos entender as variáveis que temos no banco de dados, como inicialmente estamos somente falando de um exemplo teórico iremos simular algumas variáveis abaixo:\n",
        "\n",
        "Variáveis presentes nessa análise:\n",
        "> **Idade**: Idade do indivíduo;\n",
        "\n",
        "> **CC**: Movimentações Conta Corrente;\n",
        "\n",
        "> **CP**: Movimentações Conta Poupança;\n",
        "\n",
        "> **Sexo**: Sexo do indivíduo;\n",
        "\n",
        "> **Situação**: Situação do cliente frente a análise (\"Bom\" ou \"Ruim\").\n",
        "\n",
        "Nesse exemplo também estamos considerando que dispomos de um banco de dados com mil clientes aonde essas variáveis já estão preenchidas e prontas para serem analisadas."
      ],
      "metadata": {
        "id": "CbkGXHaxp7gt"
      }
    },
    {
      "cell_type": "markdown",
      "source": [
        "## Parte 2 - Relações de classificação:\n",
        "\n",
        "*Lembrete: Nosso banco de dados contêm dados de mil clientes.*\n",
        "\n",
        "Antes da classificação ocorrer é necessário realizar uma separação do banco de dados, utilizamos sempre a regra empírica de 2/3 dos dados para treino e 1/3 para teste, ou seja:\n",
        "\n",
        "> Conjunto Treino (Train): Irá conter 667 clientes;\n",
        "\n",
        "> Conjunto Teste (Test): Irá conter 333 clientes.\n",
        "\n",
        "O conjunto treino será utilizado pelo algorítmo para o treinamento da classificação dos dados.\n",
        "\n",
        "Após a interação com os dados de treino ocorrer o algorítimo irá visualizar os dados do Teste e então realizará uma classificação dos clientes.\n",
        "\n",
        "**IMPORTANTE**: Além de utilizar a regra empírica para se realizar a separação do banco de dados entre teste e treino, devemos sempre manter a proporção dos dados do banco de dados original para os conjuntos resultantes.\n",
        "*Exemplo: Se no banco de dados temos 50/50 de clientes bons e ruins devemos manter essa proporção dentro dos conjuntos teste e treino.*\n"
      ],
      "metadata": {
        "id": "wNhP3zPfqnqt"
      }
    },
    {
      "cell_type": "markdown",
      "source": [
        "## Parte 3 - Entendendo o modelo:\n",
        "\n",
        "Após o algorítmo percorrer o conjunto de teste teremos uma relação de acerto e erro (Precisão) da lógica.\n",
        "\n",
        "Uma ferramenta utilizada para calcular a precisão do modelo é a **Matriz de Confusão:**\n",
        "\n",
        "<img src='https://external-content.duckduckgo.com/iu/?u=https%3A%2F%2Ftse1.mm.bing.net%2Fth%3Fid%3DOIP.WoZVflucK07fJqwxF1kO-AHaFE%26pid%3DApi&f=1&ipt=3eb96eb9ed50971aa7506a5afe49139241a6cd76bc49d9960fe924d6cdc2eeaf&ipo=images'>\n",
        "\n",
        "A matriz de confusão é uma tabela que é usada para resumir o desempenho de um modelo de classificação em uma tarefa de aprendizado supervisionado. Ela é composta por quatro elementos principais:\n",
        "\n",
        "1. **Verdadeiros positivos (TP):** estes são os casos em que o modelo previu corretamente que a classe é positiva.\n",
        "\n",
        "2. **Falsos positivos (FP):** estes são os casos em que o modelo previu que a classe é positiva, mas na verdade ela é negativa.\n",
        "\n",
        "3. **Verdadeiros negativos (TN):** estes são os casos em que o modelo previu corretamente que a classe é negativa.\n",
        "\n",
        "4. **Falsos negativos (FN):** estes são os casos em que o modelo previu que a classe é negativa, mas na verdade ela é positiva.\n",
        "\n",
        "\n",
        "**Exemplo:** Se tivermos 5 clientes, sendo esses: B, B, R, R e R. Porém o algorítmo classificou-os como: B, R, R, R, B. Ou seja, ele acertou 3 de 5, correspondendo a 60% de precisão.\n",
        "\n"
      ],
      "metadata": {
        "id": "nSQ0E76dskIk"
      }
    },
    {
      "cell_type": "markdown",
      "source": [
        "## Perguntas:\n",
        "\n",
        "> Porque não posso dar o banco de dados inteiro como conjunto teste para o algorítmo?    \n",
        "**RESPOSTA:** Pense que nesse caso o algorítmo não vai \"Aprender\" a julgar clientes, mas sim vai decorar se eles são \"bons\" ou \"ruins\"."
      ],
      "metadata": {
        "id": "Y1-RMSqRtBjD"
      }
    }
  ]
}